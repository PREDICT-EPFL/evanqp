{
 "cells": [
  {
   "cell_type": "code",
   "execution_count": 1,
   "id": "placed-lover",
   "metadata": {},
   "outputs": [],
   "source": [
    "%load_ext autoreload\n",
    "%autoreload 2"
   ]
  },
  {
   "cell_type": "code",
   "execution_count": 41,
   "id": "organizational-romantic",
   "metadata": {},
   "outputs": [],
   "source": [
    "import numpy as np\n",
    "import cvxpy as cp\n",
    "\n",
    "from evanqp import MPCProblem, Polytope, Verifier\n",
    "from evanqp.layers import BoundArithmetic"
   ]
  },
  {
   "cell_type": "code",
   "execution_count": 3,
   "id": "a13933b8-42c0-4865-92dd-8dcfb0ed2195",
   "metadata": {},
   "outputs": [],
   "source": [
    "class MPC2(MPCProblem):\n",
    "    def __init__(self, N=3):\n",
    "        self.N = N\n",
    "\n",
    "        n = 3\n",
    "        m = 1\n",
    "\n",
    "        # Dynamics\n",
    "        self.A = np.array([[1.0, 0.5, 0.125], [0.0, 1.0, 0.5], [0.0, 0.0, 1.0]])\n",
    "        self.B = np.array([[0.02], [0.125], [0.5]])\n",
    "        self.C = np.eye(n)\n",
    "        \n",
    "        # Weights\n",
    "        self.Q = np.diag([1.0, 1.0, 1.0])\n",
    "        self.R = np.array([[1.0]])\n",
    "        self.P = np.zeros((n, n))\n",
    "        \n",
    "        # Constraints\n",
    "        self.x_max = np.array([20.0, 3.0, 1.0])\n",
    "        self.x_min = np.array([-20.0, -3.0, -1.0])\n",
    "        self.u_max = np.array([0.5])\n",
    "        self.u_min = np.array([-0.5])\n",
    "        \n",
    "        self.x0 = cp.Parameter(n, name='x0')\n",
    "        self.x = cp.Variable((N + 1, n), name='x')\n",
    "        self.u0 = cp.Variable(m, name='u0')\n",
    "        self.u = cp.Variable((N, m), name='u')\n",
    "\n",
    "        objective = cp.quad_form(self.x[N, :], self.P)\n",
    "        constraints = [self.x0 == self.x[0, :], self.u0 == self.u[0, :]]\n",
    "\n",
    "        for i in range(N):\n",
    "            objective += cp.quad_form(self.x[i, :], self.Q) + cp.quad_form(self.u[i, :], self.R)\n",
    "            constraints += [self.x[i + 1, :] == self.A @ self.x[i, :] + self.B @ self.u[i, :]]\n",
    "            constraints += [self.x_min <= self.x[i, :], self.x[i, :] <= self.x_max]\n",
    "            constraints += [self.u_min <= self.u[i, :], self.u[i, :] <= self.u_max]\n",
    "        constraints += [self.x_min <= self.x[N, :], self.x[N, :] <= self.x_max]\n",
    "\n",
    "        self.objective = cp.Minimize(objective)\n",
    "        self.prob = cp.Problem(self.objective, constraints)\n",
    "\n",
    "    def problem(self):\n",
    "        return self.prob\n",
    "\n",
    "    def parameters(self):\n",
    "        return [self.x0]\n",
    "\n",
    "    def variables(self):\n",
    "        return [self.u0]\n",
    "\n",
    "    def solve(self, x0):\n",
    "        self.x0.value = x0\n",
    "        try:\n",
    "            self.prob.solve(solver=cp.GUROBI)\n",
    "        except:\n",
    "            pass\n",
    "\n",
    "        solution = {self.u0: self.u0.value,\n",
    "                    self.u: self.u.value,\n",
    "                    self.x: self.x.value,\n",
    "                    self.objective: self.objective.value}\n",
    "        return solution\n",
    "    \n",
    "    def dynamics(self):\n",
    "        return self.A, self.B\n",
    "\n",
    "    def reduced_objective(self):\n",
    "        objective = cp.quad_form(self.x[self.N, :], self.P)\n",
    "        for i in range(1, self.N):\n",
    "            objective += cp.quad_form(self.x[i, :], self.Q) + cp.quad_form(self.u[i, :], self.R)\n",
    "        return cp.Minimize(objective)"
   ]
  },
  {
   "cell_type": "code",
   "execution_count": 4,
   "id": "urban-vacuum",
   "metadata": {},
   "outputs": [],
   "source": [
    "class MPC6(MPCProblem):\n",
    "    def __init__(self, N=10):\n",
    "        self.N = N\n",
    "\n",
    "        n = 2\n",
    "        m = 2\n",
    "\n",
    "        # Dynamics\n",
    "        self.A = np.array([[1.0, 1.0], [0.0, 1.0]])\n",
    "        self.B = np.array([[0.42, 0.9], [0.38, 0.67]])\n",
    "        self.C = np.eye(n)\n",
    "        \n",
    "        # Weights\n",
    "        self.Q = np.diag([1.0, 1.0])\n",
    "        self.R = np.diag([30.0, 30.0])\n",
    "        self.P = np.zeros((n, n))\n",
    "        \n",
    "        # Constraints\n",
    "        self.x_max = np.array([40.0, 10.0])\n",
    "        self.x_min = np.array([-40.0, -10.0])\n",
    "        self.u_max = np.array([0.1, 0.1])\n",
    "        self.u_min = np.array([-0.1, -0.1])\n",
    "        \n",
    "        self.x0 = cp.Parameter(n, name='x0')\n",
    "        self.x = cp.Variable((N + 1, n), name='x')\n",
    "        self.u0 = cp.Variable(m, name='u0')\n",
    "        self.u = cp.Variable((N, m), name='u')\n",
    "\n",
    "        objective = cp.quad_form(self.x[N, :], self.P)\n",
    "        constraints = [self.x0 == self.x[0, :], self.u0 == self.u[0, :]]\n",
    "\n",
    "        for i in range(N):\n",
    "            objective += cp.quad_form(self.x[i, :], self.Q) + cp.quad_form(self.u[i, :], self.R)\n",
    "            constraints += [self.x[i + 1, :] == self.A @ self.x[i, :] + self.B @ self.u[i, :]]\n",
    "            constraints += [self.x_min <= self.x[i, :], self.x[i, :] <= self.x_max]\n",
    "            constraints += [self.u_min <= self.u[i, :], self.u[i, :] <= self.u_max]\n",
    "        constraints += [self.x_min <= self.x[N, :], self.x[N, :] <= self.x_max]\n",
    "\n",
    "        self.objective = cp.Minimize(objective)\n",
    "        self.prob = cp.Problem(self.objective, constraints)\n",
    "\n",
    "    def problem(self):\n",
    "        return self.prob\n",
    "\n",
    "    def parameters(self):\n",
    "        return [self.x0]\n",
    "\n",
    "    def variables(self):\n",
    "        return [self.u0]\n",
    "\n",
    "    def solve(self, x0):\n",
    "        self.x0.value = x0\n",
    "        try:\n",
    "            self.prob.solve(solver=cp.GUROBI)\n",
    "        except:\n",
    "            pass\n",
    "\n",
    "        solution = {self.u0: self.u0.value,\n",
    "                    self.u: self.u.value,\n",
    "                    self.x: self.x.value,\n",
    "                    self.objective: self.objective.value}\n",
    "        return solution\n",
    "    \n",
    "    def dynamics(self):\n",
    "        return self.A, self.B\n",
    "\n",
    "    def reduced_objective(self):\n",
    "        objective = cp.quad_form(self.x[self.N, :], self.P)\n",
    "        for i in range(1, self.N):\n",
    "            objective += cp.quad_form(self.x[i, :], self.Q) + cp.quad_form(self.u[i, :], self.R)\n",
    "        return cp.Minimize(objective)"
   ]
  },
  {
   "cell_type": "code",
   "execution_count": 5,
   "id": "nonprofit-uruguay",
   "metadata": {},
   "outputs": [],
   "source": [
    "mpc_controller = MPC6()"
   ]
  },
  {
   "cell_type": "code",
   "execution_count": 6,
   "id": "black-failure",
   "metadata": {},
   "outputs": [],
   "source": [
    "parameter_set = Polytope(np.vstack((np.eye(2), -np.eye(2))), np.concatenate((mpc_controller.x_max, -mpc_controller.x_min)))\n",
    "# parameter_set = Polytope(np.vstack((np.eye(3), -np.eye(3))), np.concatenate((mpc_controller.x_max, -mpc_controller.x_min)))"
   ]
  },
  {
   "cell_type": "code",
   "execution_count": 42,
   "id": "communist-richmond",
   "metadata": {},
   "outputs": [
    {
     "name": "stderr",
     "output_type": "stream",
     "text": [
      "QP Ineq Bound: 100%|██████████| 84/84 [00:00<00:00, 468.23it/s]\n",
      "QP Dual Bound: 100%|██████████| 84/84 [00:00<00:00, 944.66it/s]\n",
      "QP Output Bound: 100%|██████████| 2/2 [00:00<00:00, 271.51it/s]\n",
      "Aux QP Ineq Bound: 100%|██████████| 84/84 [00:01<00:00, 63.73it/s]\n",
      "Aux QP Dual Bound: 100%|██████████| 84/84 [00:00<00:00, 124.87it/s]\n",
      "QP Gain Bound: 100%|██████████| 2/2 [00:00<00:00, 59.57it/s]\n"
     ]
    },
    {
     "data": {
      "text/plain": [
       "[{'lb': array([-0.1, -0.1]), 'ub': array([0.1, 0.1])}]"
      ]
     },
     "execution_count": 42,
     "metadata": {},
     "output_type": "execute_result"
    }
   ],
   "source": [
    "verifier = Verifier(parameter_set, mpc_controller)\n",
    "verifier.compute_bounds(method=BoundArithmetic.ZONO_ARITHMETIC, dual_bound=1e3)\n",
    "verifier.compute_bounds_lipschitz(dual_bound=1e3)"
   ]
  },
  {
   "cell_type": "code",
   "execution_count": 43,
   "id": "complimentary-montgomery",
   "metadata": {},
   "outputs": [
    {
     "name": "stdout",
     "output_type": "stream",
     "text": [
      "Gurobi Optimizer version 9.5.0 build v9.5.0rc5 (mac64[x86])\n",
      "Thread count: 8 physical cores, 16 logical processors, using up to 16 threads\n",
      "Optimize a model with 1408 rows, 827 columns and 3278 nonzeros\n",
      "Model fingerprint: 0x87f27a9e\n",
      "Model has 509 general constraints\n",
      "Variable types: 743 continuous, 84 integer (84 binary)\n",
      "Coefficient statistics:\n",
      "  Matrix range     [2e-01, 3e+03]\n",
      "  Objective range  [1e+00, 1e+00]\n",
      "  Bounds range     [1e-01, 1e+03]\n",
      "  RHS range        [1e-01, 1e+03]\n",
      "  GenCon rhs range [1e-01, 4e+01]\n",
      "  GenCon coe range [1e+00, 1e+00]\n",
      "Presolve removed 807 rows and 468 columns\n",
      "Presolve time: 0.07s\n",
      "Presolved: 601 rows, 359 columns, 1835 nonzeros\n",
      "Presolved model has 4 SOS constraint(s)\n",
      "Variable types: 309 continuous, 50 integer (50 binary)\n",
      "\n",
      "Root relaxation: objective 5.671540e+02, 870 iterations, 0.03 seconds (0.03 work units)\n",
      "\n",
      "    Nodes    |    Current Node    |     Objective Bounds      |     Work\n",
      " Expl Unexpl |  Obj  Depth IntInf | Incumbent    BestBd   Gap | It/Node Time\n",
      "\n",
      "     0     0  567.15401    0   50          -  567.15401      -     -    0s\n",
      "     0     0  460.65910    0   50          -  460.65910      -     -    0s\n",
      "     0     0  460.65903    0   50          -  460.65903      -     -    0s\n",
      "     0     0  460.65890    0   50          -  460.65890      -     -    0s\n",
      "     0     0  460.65890    0   50          -  460.65890      -     -    0s\n",
      "H    0     0                      -0.0000000  460.65890      -     -    0s\n",
      "     0     0  460.65889    0   50   -0.00000  460.65889      -     -    0s\n",
      "     0     0  263.23272    0   50   -0.00000  263.23272      -     -    0s\n",
      "     0     2  263.23272    0   50   -0.00000  263.23272      -     -    0s\n",
      "H   37    29                       1.3585962   65.51465  4722%   152    0s\n",
      "H  139    95                       1.3585963   65.51465  4722%  61.6    0s\n",
      "*  280   161              32       1.7585686   65.51465  3625%  36.9    0s\n",
      "H 1269   427                       1.7739314   27.37438  1443%  21.4    0s\n",
      "H 2504   701                       1.7739314   20.42658  1051%  19.7    0s\n",
      "\n",
      "Cutting planes:\n",
      "  Cover: 98\n",
      "  Implied bound: 64\n",
      "  Clique: 3\n",
      "  MIR: 31\n",
      "  Flow cover: 11\n",
      "  Inf proof: 1\n",
      "  Relax-and-lift: 13\n",
      "\n",
      "Explored 11445 nodes (178830 simplex iterations) in 1.90 seconds (2.54 work units)\n",
      "Thread count was 16 (of 16 available processors)\n",
      "\n",
      "Solution count 4: 1.77393 1.75857 1.3586 -0 \n",
      "\n",
      "Optimal solution found (tolerance 1.00e-04)\n",
      "Best objective 1.773931415966e+00, best bound 1.773931415966e+00, gap 0.0000%\n"
     ]
    }
   ],
   "source": [
    "lip_constant, gain, parameters = verifier.lipschitz_constant(norm=1)"
   ]
  },
  {
   "cell_type": "code",
   "execution_count": 44,
   "id": "supposed-coffee",
   "metadata": {},
   "outputs": [
    {
     "name": "stdout",
     "output_type": "stream",
     "text": [
      "Lipschitz constant 1-Norm: 1.7739314159656487\n",
      "Gain (jacobian):\n",
      "[[-2.36470015e-01 -1.53746140e+00]\n",
      " [-1.42108547e-13 -1.13686838e-13]]\n",
      "at: [-40.           6.36155444]\n"
     ]
    }
   ],
   "source": [
    "print(f'Lipschitz constant 1-Norm: {lip_constant}')\n",
    "print(f'Gain (jacobian):')\n",
    "print(gain)\n",
    "print(f'at: {parameters}')"
   ]
  },
  {
   "cell_type": "code",
   "execution_count": 45,
   "id": "clear-netherlands",
   "metadata": {},
   "outputs": [
    {
     "name": "stdout",
     "output_type": "stream",
     "text": [
      "Gurobi Optimizer version 9.5.0 build v9.5.0rc5 (mac64[x86])\n",
      "Thread count: 8 physical cores, 16 logical processors, using up to 16 threads\n",
      "Optimize a model with 1408 rows, 827 columns and 3278 nonzeros\n",
      "Model fingerprint: 0xab5051dd\n",
      "Model has 509 general constraints\n",
      "Variable types: 743 continuous, 84 integer (84 binary)\n",
      "Coefficient statistics:\n",
      "  Matrix range     [2e-01, 3e+03]\n",
      "  Objective range  [1e+00, 1e+00]\n",
      "  Bounds range     [1e-01, 1e+03]\n",
      "  RHS range        [1e-01, 1e+03]\n",
      "  GenCon rhs range [1e-01, 4e+01]\n",
      "  GenCon coe range [1e+00, 1e+00]\n",
      "Presolve removed 810 rows and 471 columns\n",
      "Presolve time: 0.07s\n",
      "Presolved: 598 rows, 356 columns, 1829 nonzeros\n",
      "Presolved model has 4 SOS constraint(s)\n",
      "Variable types: 309 continuous, 47 integer (47 binary)\n",
      "\n",
      "Root relaxation: objective 5.563442e+02, 646 iterations, 0.02 seconds (0.02 work units)\n",
      "\n",
      "    Nodes    |    Current Node    |     Objective Bounds      |     Work\n",
      " Expl Unexpl |  Obj  Depth IntInf | Incumbent    BestBd   Gap | It/Node Time\n",
      "\n",
      "     0     0  556.34415    0   47          -  556.34415      -     -    0s\n",
      "     0     0  370.80439    0   35          -  370.80439      -     -    0s\n",
      "     0     0  370.80439    0   35          -  370.80439      -     -    0s\n",
      "     0     0  370.80439    0   33          -  370.80439      -     -    0s\n",
      "H    0     0                      -0.0000000  370.80439      -     -    0s\n",
      "     0     0  370.73576    0   33   -0.00000  370.73576      -     -    0s\n",
      "     0     0  370.73576    0   36   -0.00000  370.73576      -     -    0s\n",
      "     0     0  370.73576    0   32   -0.00000  370.73576      -     -    0s\n",
      "     0     0  144.86025    0   32   -0.00000  144.86025      -     -    0s\n",
      "     0     0   40.94152    0   31   -0.00000   40.94152      -     -    0s\n",
      "     0     2   40.94152    0    3   -0.00000   40.94152      -     -    0s\n",
      "H  275   169                       1.5310676   40.94152  2574%  19.3    0s\n",
      "H 1647   404                       1.5310676   40.94152  2574%  16.4    0s\n",
      "* 5234   658              31       1.5374614   40.94152  2563%  13.8    0s\n",
      "H 5810   605                       1.5374614   40.94152  2563%  13.4    1s\n",
      "\n",
      "Cutting planes:\n",
      "  Cover: 216\n",
      "  Implied bound: 64\n",
      "  Clique: 1\n",
      "  MIR: 29\n",
      "  Flow cover: 14\n",
      "  Inf proof: 1\n",
      "  Relax-and-lift: 18\n",
      "\n",
      "Explored 17356 nodes (161635 simplex iterations) in 2.05 seconds (2.32 work units)\n",
      "Thread count was 16 (of 16 available processors)\n",
      "\n",
      "Solution count 5: 1.53746 1.53746 1.53107 ... -0\n",
      "\n",
      "Optimal solution found (tolerance 1.00e-04)\n",
      "Best objective 1.537461401237e+00, best bound 1.537461401237e+00, gap 0.0000%\n"
     ]
    }
   ],
   "source": [
    "lip_constant, gain, parameters = verifier.lipschitz_constant(norm=np.inf)"
   ]
  },
  {
   "cell_type": "code",
   "execution_count": 46,
   "id": "3f642d04-5520-4bd7-ba49-be9f8c2c51c3",
   "metadata": {},
   "outputs": [
    {
     "name": "stdout",
     "output_type": "stream",
     "text": [
      "Lipschitz constant Inf-Norm: 1.537461401237088\n",
      "Gain (jacobian):\n",
      "[[-2.36470015e-01 -1.53746140e+00]\n",
      " [ 2.27373675e-13  0.00000000e+00]]\n",
      "at [-16.04532998   2.76599232]\n"
     ]
    }
   ],
   "source": [
    "print(f'Lipschitz constant Inf-Norm: {lip_constant}')\n",
    "print(f'Gain (jacobian):')\n",
    "print(gain)\n",
    "print(f'at {parameters}')"
   ]
  },
  {
   "cell_type": "code",
   "execution_count": null,
   "id": "d1ab3904-126a-4549-b31f-52473ed440c6",
   "metadata": {},
   "outputs": [],
   "source": []
  }
 ],
 "metadata": {
  "kernelspec": {
   "display_name": "Python 3",
   "language": "python",
   "name": "python3"
  },
  "language_info": {
   "codemirror_mode": {
    "name": "ipython",
    "version": 3
   },
   "file_extension": ".py",
   "mimetype": "text/x-python",
   "name": "python",
   "nbconvert_exporter": "python",
   "pygments_lexer": "ipython3",
   "version": "3.8.12"
  }
 },
 "nbformat": 4,
 "nbformat_minor": 5
}
