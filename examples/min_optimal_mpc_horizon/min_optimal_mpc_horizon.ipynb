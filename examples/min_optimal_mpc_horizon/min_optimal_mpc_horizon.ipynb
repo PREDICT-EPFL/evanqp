{
 "cells": [
  {
   "cell_type": "code",
   "execution_count": 1,
   "id": "dense-experience",
   "metadata": {},
   "outputs": [],
   "source": [
    "%load_ext autoreload\n",
    "%autoreload 2"
   ]
  },
  {
   "cell_type": "code",
   "execution_count": 2,
   "id": "several-subscription",
   "metadata": {},
   "outputs": [],
   "source": [
    "import numpy as np\n",
    "import cvxpy as cp\n",
    "import polytope as pc\n",
    "import matplotlib.pyplot as plt\n",
    "\n",
    "from evanqp import CvxpyProblem, Polytope, Verifier\n",
    "from utils import dlqr"
   ]
  },
  {
   "cell_type": "code",
   "execution_count": 3,
   "id": "operational-isolation",
   "metadata": {},
   "outputs": [],
   "source": [
    "class DoubleIntegrator(CvxpyProblem):\n",
    "    def __init__(self, N=10):\n",
    "        self.N = N\n",
    "\n",
    "        n = 2\n",
    "        m = 1\n",
    "\n",
    "        # Double Integrator\n",
    "        self.A = np.array([[1, 1], [0, 1]])\n",
    "        self.B = np.array([[0], [1]])\n",
    "        \n",
    "        # Weights\n",
    "        self.Q = np.diag([1, 1])\n",
    "        self.R = np.array([[0.1]])\n",
    "        self.K, self.P, _ = dlqr(self.A, self.B, self.Q, self.R)\n",
    "        \n",
    "        # Constraints\n",
    "        self.x_max = np.array([10.0, 10.0])\n",
    "        self.x_min = np.array([-10.0, -10.0])\n",
    "        self.u_max = 1.0\n",
    "        self.u_min = -1.0\n",
    "        \n",
    "        # Terminal Set computation\n",
    "        # state constraints\n",
    "        Hx = np.vstack((np.eye(n), -np.eye(n)))\n",
    "        hx = np.concatenate((self.x_max, -self.x_min))\n",
    "        # input constraints\n",
    "        Hu = np.vstack((np.eye(m), -np.eye(m)))\n",
    "        hu = np.array([self.u_max, -self.u_min])\n",
    "        # closed loop dynamics\n",
    "        Ak = self.A - self.B @ self.K\n",
    "        # state & input constraints\n",
    "        HH = np.vstack((Hx, -Hu @ self.K))\n",
    "        hh = np.concatenate((hx, hu))\n",
    "        # compute maximal invariant set\n",
    "        O = pc.Polytope(HH, hh)\n",
    "        while True:\n",
    "            O_prev = O\n",
    "            # pre-set\n",
    "            O = O.intersect(pc.Polytope(O.A @ Ak, O.b))\n",
    "            if O == O_prev:\n",
    "                break\n",
    "        self.F, self.f = O.A, O.b\n",
    "\n",
    "        self.x0 = cp.Parameter(n, name='x0')\n",
    "        self.xN = cp.Parameter(n, name='xN')\n",
    "        self.x = cp.Variable((N + 1, n), name='x')\n",
    "        self.u = cp.Variable((N, m), name='u')\n",
    "        \n",
    "        objective = cp.quad_form(self.x[N, :], self.P)\n",
    "        constraints = [self.x0 == self.x[0, :], self.xN == self.x[N, :]]\n",
    "        for i in range(N):\n",
    "            objective += cp.quad_form(self.x[i, :], self.Q) + cp.quad_form(self.u[i, :], self.R)\n",
    "            constraints += [self.x[i + 1, :] == self.A @ self.x[i, :] + self.B @ self.u[i, :]]\n",
    "            constraints += [self.x_min <= self.x[i, :], self.x[i, :] <= self.x_max]\n",
    "            constraints += [self.u_min <= self.u[i, :], self.u[i, :] <= self.u_max]\n",
    "        # constraints += [self.F @ self.x[N, :] <= self.f]\n",
    "\n",
    "        self.objective = cp.Minimize(objective)\n",
    "        self._problem = cp.Problem(self.objective, constraints)\n",
    "\n",
    "    def problem(self):\n",
    "        return self._problem\n",
    "\n",
    "    def parameters(self):\n",
    "        return [self.x0]\n",
    "\n",
    "    def variables(self):\n",
    "        return [self.xN]\n",
    "\n",
    "    def solve(self, x0):\n",
    "        self.x0.value = x0\n",
    "        self._problem.solve(solver=cp.GUROBI)\n",
    "\n",
    "        solution = {self.u0: self.u0.value,\n",
    "                    self.u: self.u.value,\n",
    "                    self.x: self.x.value,\n",
    "                    self.objective: self.objective.value}\n",
    "        return solution"
   ]
  },
  {
   "cell_type": "code",
   "execution_count": 4,
   "id": "charitable-inside",
   "metadata": {},
   "outputs": [],
   "source": [
    "mpc_controller = DoubleIntegrator()"
   ]
  },
  {
   "cell_type": "code",
   "execution_count": 5,
   "id": "arranged-banking",
   "metadata": {},
   "outputs": [],
   "source": [
    "parameter_set = Polytope(np.array([[1, 0], [-1, 0], [0, 1], [0, -1]]), np.array([10, 10, 10, 10]))"
   ]
  },
  {
   "cell_type": "code",
   "execution_count": 6,
   "id": "centered-clause",
   "metadata": {},
   "outputs": [],
   "source": [
    "verifier = Verifier(parameter_set, mpc_controller)"
   ]
  },
  {
   "cell_type": "code",
   "execution_count": 7,
   "id": "viral-academy",
   "metadata": {},
   "outputs": [
    {
     "name": "stdout",
     "output_type": "stream",
     "text": [
      "Academic license - for non-commercial use only - expires 2021-08-05\n",
      "Using license file /Users/rschwan/gurobi.lic\n",
      "Parameter OutputFlag unchanged\n",
      "   Value: 1  Min: 0  Max: 1  Default: 1\n",
      "Parameter Threads unchanged\n",
      "   Value: 0  Min: 0  Max: 1024  Default: 0\n",
      "Gurobi Optimizer version 9.1.2 build v9.1.2rc0 (mac64)\n",
      "Thread count: 8 physical cores, 16 logical processors, using up to 16 threads\n",
      "Optimize a model with 192 rows, 250 columns and 432 nonzeros\n",
      "Model fingerprint: 0x8b557a88\n",
      "Model has 120 general constraints\n",
      "Variable types: 190 continuous, 60 integer (60 binary)\n",
      "Coefficient statistics:\n",
      "  Matrix range     [2e-01, 6e+00]\n",
      "  Objective range  [4e-01, 9e-01]\n",
      "  Bounds range     [1e+00, 1e+01]\n",
      "  RHS range        [1e+00, 1e+01]\n",
      "\n",
      "User MIP start produced solution with objective -0.605755 (0.01s)\n",
      "Loaded user MIP start with objective -0.605755\n",
      "\n",
      "Presolve removed 42 rows and 20 columns\n",
      "Presolve time: 0.00s\n",
      "Presolved: 150 rows, 230 columns, 399 nonzeros\n",
      "Presolved model has 78 SOS constraint(s)\n",
      "Variable types: 152 continuous, 78 integer (78 binary)\n",
      "\n",
      "Root relaxation: objective 1.263607e+01, 76 iterations, 0.00 seconds\n",
      "\n",
      "    Nodes    |    Current Node    |     Objective Bounds      |     Work\n",
      " Expl Unexpl |  Obj  Depth IntInf | Incumbent    BestBd   Gap | It/Node Time\n",
      "\n",
      "     0     0   12.63607    0   10   -0.60575   12.63607  2186%     -    0s\n",
      "     0     0   11.19551    0   10   -0.60575   11.19551  1948%     -    0s\n",
      "     0     2   11.19551    0   10   -0.60575   11.19551  1948%     -    0s\n",
      "H   87    28                      -0.6055887    8.27353  1466%   3.1    0s\n",
      "H   88    28                      -0.6051291    8.27353  1467%   3.2    0s\n",
      "H  110    40                      -0.6038582    8.27353  1470%   2.8    0s\n",
      "H  132    50                      -0.6003451    8.27353  1478%   2.6    0s\n",
      "H  210    52                      -0.5653191    6.84318  1310%   2.2    0s\n",
      "H  243    54                      -0.5400772    6.55712  1314%   2.3    0s\n",
      "*  244    54              19      -0.5327633    6.55712  1331%   2.3    0s\n",
      "*  299    58              23      -0.4754499    6.55712  1479%   2.3    0s\n",
      "H  441    46                      -0.4399799    6.55712  1590%   2.3    0s\n",
      "*  444    46              20       0.0067502    6.55712      -   2.3    0s\n",
      "*  537    48              22       0.3947739    2.48275   529%   2.2    0s\n",
      "\n",
      "Explored 928 nodes (1994 simplex iterations) in 0.07 seconds\n",
      "Thread count was 16 (of 16 available processors)\n",
      "\n",
      "Solution count 10: 0.394774 0.00675018 -0.43998 ... -0.605129\n",
      "No other solutions better than 0.394774\n",
      "\n",
      "Optimal solution found (tolerance 1.00e-04)\n",
      "Best objective 3.947739177258e-01, best bound 3.947739177258e-01, gap 0.0000%\n"
     ]
    },
    {
     "data": {
      "text/plain": [
       "False"
      ]
     },
     "execution_count": 7,
     "metadata": {},
     "output_type": "execute_result"
    }
   ],
   "source": [
    "poly = Polytope(mpc_controller.F, mpc_controller.f)\n",
    "verifier.variables_in_polytope(poly)"
   ]
  },
  {
   "cell_type": "code",
   "execution_count": 8,
   "id": "universal-thermal",
   "metadata": {},
   "outputs": [
    {
     "name": "stdout",
     "output_type": "stream",
     "text": [
      "Checking N = 1\n",
      "Checking N = 2\n",
      "Checking N = 4\n",
      "Checking N = 8\n",
      "Checking N = 16\n",
      "Checking N = 12\n",
      "Checking N = 10\n",
      "Checking N = 11\n"
     ]
    },
    {
     "data": {
      "text/plain": [
       "11"
      ]
     },
     "execution_count": 8,
     "metadata": {},
     "output_type": "execute_result"
    }
   ],
   "source": [
    "poly = Polytope(mpc_controller.F, mpc_controller.f)\n",
    "Verifier.min_optimal_mpc_horizon(parameter_set, lambda N: DoubleIntegrator(N=N), poly)"
   ]
  },
  {
   "cell_type": "code",
   "execution_count": null,
   "id": "mechanical-bolivia",
   "metadata": {},
   "outputs": [],
   "source": []
  }
 ],
 "metadata": {
  "kernelspec": {
   "display_name": "Python 3",
   "language": "python",
   "name": "python3"
  },
  "language_info": {
   "codemirror_mode": {
    "name": "ipython",
    "version": 3
   },
   "file_extension": ".py",
   "mimetype": "text/x-python",
   "name": "python",
   "nbconvert_exporter": "python",
   "pygments_lexer": "ipython3",
   "version": "3.8.9"
  }
 },
 "nbformat": 4,
 "nbformat_minor": 5
}
