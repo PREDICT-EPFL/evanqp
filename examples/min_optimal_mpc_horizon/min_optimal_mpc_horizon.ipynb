{
 "cells": [
  {
   "cell_type": "code",
   "execution_count": 1,
   "id": "medium-medicare",
   "metadata": {},
   "outputs": [],
   "source": [
    "%load_ext autoreload\n",
    "%autoreload 2"
   ]
  },
  {
   "cell_type": "code",
   "execution_count": 2,
   "id": "intimate-tonight",
   "metadata": {},
   "outputs": [],
   "source": [
    "import numpy as np\n",
    "import cvxpy as cp\n",
    "import polytope as pc\n",
    "import matplotlib.pyplot as plt\n",
    "\n",
    "from evanqp import QPProblem, Polytope, Verifier\n",
    "from utils import dlqr"
   ]
  },
  {
   "cell_type": "code",
   "execution_count": 3,
   "id": "conceptual-fantasy",
   "metadata": {},
   "outputs": [],
   "source": [
    "class DoubleIntegrator(QPProblem):\n",
    "    def __init__(self, N=10):\n",
    "        self.N = N\n",
    "\n",
    "        n = 2\n",
    "        m = 1\n",
    "\n",
    "        # Double Integrator\n",
    "        self.A = np.array([[1, 1], [0, 1]])\n",
    "        self.B = np.array([[0], [1]])\n",
    "        \n",
    "        # Weights\n",
    "        self.Q = np.diag([1, 1])\n",
    "        self.R = np.array([[0.1]])\n",
    "        self.K, self.P, _ = dlqr(self.A, self.B, self.Q, self.R)\n",
    "        \n",
    "        # Constraints\n",
    "        self.x_max = np.array([10.0, 10.0])\n",
    "        self.x_min = np.array([-10.0, -10.0])\n",
    "        self.u_max = 1.0\n",
    "        self.u_min = -1.0\n",
    "        \n",
    "        # Terminal Set computation\n",
    "        # state constraints\n",
    "        Hx = np.vstack((np.eye(n), -np.eye(n)))\n",
    "        hx = np.concatenate((self.x_max, -self.x_min))\n",
    "        # input constraints\n",
    "        Hu = np.vstack((np.eye(m), -np.eye(m)))\n",
    "        hu = np.array([self.u_max, -self.u_min])\n",
    "        # closed loop dynamics\n",
    "        Ak = self.A - self.B @ self.K\n",
    "        # state & input constraints\n",
    "        HH = np.vstack((Hx, -Hu @ self.K))\n",
    "        hh = np.concatenate((hx, hu))\n",
    "        # compute maximal invariant set\n",
    "        O = pc.Polytope(HH, hh)\n",
    "        while True:\n",
    "            O_prev = O\n",
    "            # pre-set\n",
    "            O = O.intersect(pc.Polytope(O.A @ Ak, O.b))\n",
    "            if O == O_prev:\n",
    "                break\n",
    "        self.F, self.f = O.A, O.b\n",
    "\n",
    "        self.x0 = cp.Parameter(n, name='x0')\n",
    "        self.xN = cp.Parameter(n, name='xN')\n",
    "        self.x = cp.Variable((N + 1, n), name='x')\n",
    "        self.u = cp.Variable((N, m), name='u')\n",
    "        \n",
    "        objective = cp.quad_form(self.x[N, :], self.P)\n",
    "        constraints = [self.x0 == self.x[0, :], self.xN == self.x[N, :]]\n",
    "        for i in range(N):\n",
    "            objective += cp.quad_form(self.x[i, :], self.Q) + cp.quad_form(self.u[i, :], self.R)\n",
    "            constraints += [self.x[i + 1, :] == self.A @ self.x[i, :] + self.B @ self.u[i, :]]\n",
    "            constraints += [self.x_min <= self.x[i, :], self.x[i, :] <= self.x_max]\n",
    "            constraints += [self.u_min <= self.u[i, :], self.u[i, :] <= self.u_max]\n",
    "\n",
    "        self.objective = cp.Minimize(objective)\n",
    "        self._problem = cp.Problem(self.objective, constraints)\n",
    "\n",
    "    def problem(self):\n",
    "        return self._problem\n",
    "\n",
    "    def parameters(self):\n",
    "        return [self.x0]\n",
    "\n",
    "    def variables(self):\n",
    "        return [self.xN]\n",
    "\n",
    "    def solve(self, x0):\n",
    "        self.x0.value = x0\n",
    "        self._problem.solve(solver=cp.GUROBI)\n",
    "\n",
    "        solution = {self.u0: self.u0.value,\n",
    "                    self.u: self.u.value,\n",
    "                    self.x: self.x.value,\n",
    "                    self.objective: self.objective.value}\n",
    "        return solution"
   ]
  },
  {
   "cell_type": "code",
   "execution_count": 4,
   "id": "underlying-kansas",
   "metadata": {},
   "outputs": [],
   "source": [
    "mpc_controller = DoubleIntegrator()"
   ]
  },
  {
   "cell_type": "code",
   "execution_count": 5,
   "id": "rapid-driving",
   "metadata": {},
   "outputs": [],
   "source": [
    "parameter_set = Polytope(np.array([[1, 0], [-1, 0], [0, 1], [0, -1]]), np.array([10, 10, 10, 10]))"
   ]
  },
  {
   "cell_type": "code",
   "execution_count": 6,
   "id": "weekly-little",
   "metadata": {},
   "outputs": [],
   "source": [
    "verifier = Verifier(parameter_set, mpc_controller)"
   ]
  },
  {
   "cell_type": "code",
   "execution_count": 8,
   "id": "competent-programmer",
   "metadata": {},
   "outputs": [
    {
     "name": "stdout",
     "output_type": "stream",
     "text": [
      "Parameter OutputFlag unchanged\n",
      "   Value: 1  Min: 0  Max: 1  Default: 1\n",
      "Parameter Threads unchanged\n",
      "   Value: 0  Min: 0  Max: 1024  Default: 0\n",
      "Gurobi Optimizer version 9.1.2 build v9.1.2rc0 (mac64)\n",
      "Thread count: 8 physical cores, 16 logical processors, using up to 16 threads\n",
      "Optimize a model with 192 rows, 250 columns and 432 nonzeros\n",
      "Model fingerprint: 0xbc94d802\n",
      "Model has 120 general constraints\n",
      "Variable types: 190 continuous, 60 integer (60 binary)\n",
      "Coefficient statistics:\n",
      "  Matrix range     [2e-01, 6e+00]\n",
      "  Objective range  [4e-01, 9e-01]\n",
      "  Bounds range     [1e+00, 1e+01]\n",
      "  RHS range        [1e+00, 1e+01]\n",
      "Presolve removed 45 rows and 25 columns\n",
      "Presolve time: 0.00s\n",
      "Presolved: 147 rows, 225 columns, 392 nonzeros\n",
      "Presolved model has 76 SOS constraint(s)\n",
      "Variable types: 149 continuous, 76 integer (76 binary)\n",
      "\n",
      "Root relaxation: objective 2.649255e+00, 71 iterations, 0.00 seconds\n",
      "\n",
      "    Nodes    |    Current Node    |     Objective Bounds      |     Work\n",
      " Expl Unexpl |  Obj  Depth IntInf | Incumbent    BestBd   Gap | It/Node Time\n",
      "\n",
      "     0     0    2.64925    0   10          -    2.64925      -     -    0s\n",
      "     0     0    2.64925    0   10          -    2.64925      -     -    0s\n",
      "     0     2    2.64925    0   10          -    2.64925      -     -    0s\n",
      "*  294   148              21       0.0067502    1.63893      -   2.7    0s\n",
      "*  342   144              22       0.3947739    1.63893   315%   2.6    0s\n",
      "\n",
      "Explored 869 nodes (1612 simplex iterations) in 0.05 seconds\n",
      "Thread count was 16 (of 16 available processors)\n",
      "\n",
      "Solution count 2: 0.394774 0.00675018 \n",
      "No other solutions better than 0.394774\n",
      "\n",
      "Optimal solution found (tolerance 1.00e-04)\n",
      "Best objective 3.947739177258e-01, best bound 3.947739177258e-01, gap 0.0000%\n"
     ]
    },
    {
     "data": {
      "text/plain": [
       "False"
      ]
     },
     "execution_count": 8,
     "metadata": {},
     "output_type": "execute_result"
    }
   ],
   "source": [
    "poly = Polytope(mpc_controller.F, mpc_controller.f)\n",
    "verifier.variables_in_polytope(poly)"
   ]
  },
  {
   "cell_type": "code",
   "execution_count": 9,
   "id": "natural-lambda",
   "metadata": {},
   "outputs": [
    {
     "name": "stdout",
     "output_type": "stream",
     "text": [
      "Checking N = 1\n",
      "Checking N = 2\n",
      "Checking N = 4\n",
      "Checking N = 8\n",
      "Checking N = 16\n",
      "Checking N = 12\n",
      "Checking N = 10\n",
      "Checking N = 11\n"
     ]
    },
    {
     "data": {
      "text/plain": [
       "11"
      ]
     },
     "execution_count": 9,
     "metadata": {},
     "output_type": "execute_result"
    }
   ],
   "source": [
    "poly = Polytope(mpc_controller.F, mpc_controller.f)\n",
    "Verifier.min_optimal_mpc_horizon(parameter_set, lambda N: DoubleIntegrator(N=N), poly)"
   ]
  },
  {
   "cell_type": "code",
   "execution_count": null,
   "id": "sized-period",
   "metadata": {},
   "outputs": [],
   "source": []
  }
 ],
 "metadata": {
  "kernelspec": {
   "display_name": "Python 3",
   "language": "python",
   "name": "python3"
  },
  "language_info": {
   "codemirror_mode": {
    "name": "ipython",
    "version": 3
   },
   "file_extension": ".py",
   "mimetype": "text/x-python",
   "name": "python",
   "nbconvert_exporter": "python",
   "pygments_lexer": "ipython3",
   "version": "3.8.9"
  }
 },
 "nbformat": 4,
 "nbformat_minor": 5
}
