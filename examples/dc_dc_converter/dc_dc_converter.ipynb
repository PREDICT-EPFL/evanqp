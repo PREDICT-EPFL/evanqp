{
 "cells": [
  {
   "cell_type": "code",
   "execution_count": 1,
   "id": "diverse-meaning",
   "metadata": {},
   "outputs": [],
   "source": [
    "%load_ext autoreload\n",
    "%autoreload 2"
   ]
  },
  {
   "cell_type": "code",
   "execution_count": 2,
   "id": "warming-tomato",
   "metadata": {},
   "outputs": [],
   "source": [
    "import numpy as np\n",
    "import cvxpy as cp\n",
    "import pandas as pd\n",
    "import polytope as pc\n",
    "import torch\n",
    "import torch.nn as nn\n",
    "import torch.nn.functional as F\n",
    "import torch.optim as optim\n",
    "from torch.utils.data import Dataset, DataLoader, random_split\n",
    "from torch.optim.lr_scheduler import StepLR\n",
    "from cvxpylayers.torch import CvxpyLayer\n",
    "from tqdm import tqdm\n",
    "import matplotlib.pyplot as plt\n",
    "import polytope\n",
    "\n",
    "from evanqp import CvxpyProblem, MPCProblem, Polytope, RandomSampler, FFNN, Verifier\n",
    "from evanqp.layers import BoundArithmetic, BaseLayer, SeqLayer, LinearLayer, ReluLayer, QPLayer\n",
    "from utils import dlqr"
   ]
  },
  {
   "cell_type": "code",
   "execution_count": 3,
   "id": "crucial-peripheral",
   "metadata": {},
   "outputs": [],
   "source": [
    "torch.manual_seed(4)\n",
    "np.random.seed(4)\n",
    "\n",
    "torch.backends.cuda.matmul.allow_tf32 = False\n",
    "torch.backends.cudnn.allow_tf32 = False\n",
    "\n",
    "import latexify\n",
    "latexify.latexify(fig_width=3.39/2)"
   ]
  },
  {
   "cell_type": "code",
   "execution_count": 4,
   "id": "french-johns",
   "metadata": {},
   "outputs": [],
   "source": [
    "class DCDCConverter(MPCProblem):\n",
    "    def __init__(self, N=10):\n",
    "        self.N = N\n",
    "\n",
    "        n = 2\n",
    "        m = 1\n",
    "\n",
    "        # Linearized dynamics\n",
    "        self.A = np.array([[0.971356387900839, -0.009766890567613], [1.731870774203751, 0.970462385352837]])\n",
    "        self.B = np.array([[0.148778899882612], [0.180827260808426]])\n",
    "        self.C = np.array([[0, 1]])\n",
    "        \n",
    "        # Steady state\n",
    "        ref = 5.0\n",
    "        ss = np.linalg.solve(np.block([[self.A - np.eye(n), self.B],[self.C, 0]]), np.array([0, 0, ref]))\n",
    "        self.xs = ss[0:2]\n",
    "        self.us = ss[2:3]\n",
    "\n",
    "        # Weights\n",
    "        self.Q = np.diag([90, 1])\n",
    "        self.R = np.array([[1]])\n",
    "        self.K, self.P, _ = dlqr(self.A, self.B, self.Q, self.R)\n",
    "        \n",
    "        # Constraints\n",
    "        self.x_max = np.array([0.2, 7.0])\n",
    "        self.x_min = np.array([0.0, 0.0])\n",
    "        self.u_max = np.array([1.0])\n",
    "        self.u_min = np.array([0.0])\n",
    "        \n",
    "        # Terminal Set computation (shifted)\n",
    "        # state constraints\n",
    "        Hx = np.vstack((np.eye(n), -np.eye(n)))\n",
    "        hx = np.concatenate((self.x_max-self.xs, -(self.x_min-self.xs)))\n",
    "        # input constraints\n",
    "        Hu = np.vstack((np.eye(m), -np.eye(m)))\n",
    "        hu = np.concatenate((self.u_max-self.us, -(self.u_min-self.us)))\n",
    "        # closed loop dynamics\n",
    "        Ak = self.A - self.B @ self.K\n",
    "        # state & input constraints\n",
    "        HH = np.vstack((Hx, -Hu @ self.K))\n",
    "        hh = np.concatenate((hx, hu))\n",
    "        # compute maximal invariant set\n",
    "        O = pc.Polytope(HH, hh)\n",
    "        while True:\n",
    "            O_prev = O\n",
    "            # pre-set\n",
    "            O = O.intersect(pc.Polytope(O.A @ Ak, O.b))\n",
    "            if O == O_prev:\n",
    "                break\n",
    "        self.F, self.f = O.A, O.b\n",
    "\n",
    "        self.x0 = cp.Parameter(n, name='x0')\n",
    "        self.x = cp.Variable((N + 1, n), name='x')\n",
    "        self.u0 = cp.Variable(m, name='u0')\n",
    "        self.u = cp.Variable((N, m), name='u')\n",
    "\n",
    "        objective = cp.quad_form(self.x[N, :] - self.xs, self.P)\n",
    "        constraints = [self.x0 == self.x[0, :], self.u0 == self.u[0, :]]\n",
    "\n",
    "        for i in range(N):\n",
    "            objective += cp.quad_form(self.x[i, :] - self.xs, self.Q) + cp.quad_form(self.u[i, :] - self.us, self.R)\n",
    "            constraints += [self.x[i + 1, :] == self.A @ self.x[i, :] + self.B @ self.u[i, :]]\n",
    "            constraints += [self.x_min <= self.x[i, :], self.x[i, :] <= self.x_max]\n",
    "            constraints += [self.u_min <= self.u[i, :], self.u[i, :] <= self.u_max]\n",
    "        constraints += [self.F @ (self.x[N, :] - self.xs) <= self.f]\n",
    "\n",
    "        self.objective = cp.Minimize(objective)\n",
    "        self.prob = cp.Problem(self.objective, constraints)\n",
    "\n",
    "    def problem(self):\n",
    "        return self.prob\n",
    "\n",
    "    def parameters(self):\n",
    "        return [self.x0]\n",
    "\n",
    "    def variables(self):\n",
    "        return [self.u0]\n",
    "\n",
    "    def solve(self, x0):\n",
    "        self.x0.value = x0\n",
    "        try:\n",
    "            self.prob.solve(solver=cp.GUROBI)\n",
    "        except:\n",
    "            pass\n",
    "\n",
    "        solution = {self.u0: self.u0.value,\n",
    "                    self.u: self.u.value,\n",
    "                    self.x: self.x.value,\n",
    "                    self.objective: self.objective.value}\n",
    "        return solution\n",
    "    \n",
    "    def dynamics(self):\n",
    "        return self.A, self.B\n",
    "\n",
    "    def reduced_objective(self):\n",
    "        objective = cp.quad_form(self.x[self.N, :] - self.xs, self.P)\n",
    "        for i in range(1, self.N):\n",
    "            objective += cp.quad_form(self.x[i, :] - self.xs, self.Q) + cp.quad_form(self.u[i, :] - self.us, self.R)\n",
    "        return cp.Minimize(objective)"
   ]
  },
  {
   "cell_type": "code",
   "execution_count": 5,
   "id": "wanted-costs",
   "metadata": {},
   "outputs": [],
   "source": [
    "mpc_controller = DCDCConverter()"
   ]
  },
  {
   "cell_type": "code",
   "execution_count": 6,
   "id": "external-sharp",
   "metadata": {},
   "outputs": [
    {
     "name": "stderr",
     "output_type": "stream",
     "text": [
      "  0%|          | 0/100 [00:00<?, ?it/s]"
     ]
    },
    {
     "name": "stdout",
     "output_type": "stream",
     "text": [
      "Set parameter Username\n",
      "Academic license - for non-commercial use only - expires 2022-12-04\n"
     ]
    },
    {
     "name": "stderr",
     "output_type": "stream",
     "text": [
      " 90%|█████████ | 90/100 [01:09<00:08,  1.20it/s]/usr/local/lib/python3.8/site-packages/cvxpy/problems/problem.py:1278: UserWarning: Solution may be inaccurate. Try another solver, adjusting the solver settings, or solve with verbose=True for more information.\n",
      "  warnings.warn(\n",
      "100%|██████████| 100/100 [01:15<00:00,  1.33it/s]\n"
     ]
    }
   ],
   "source": [
    "x1 = np.linspace(0, 0.2, 100)\n",
    "x2 = np.linspace(0, 7, 100)\n",
    "x, y = np.meshgrid(x1, x2)\n",
    "z_opt = np.zeros(x.shape)\n",
    "for i in tqdm(range(x.shape[0])):\n",
    "    for j in range(x.shape[1]):\n",
    "        sol = mpc_controller.solve(np.array([x[i, j], y[i, j]]))\n",
    "        u0 = sol[mpc_controller.variables()[0]]\n",
    "        z_opt[i, j] = u0 if u0 is not None else None"
   ]
  },
  {
   "cell_type": "code",
   "execution_count": 7,
   "id": "metropolitan-brunswick",
   "metadata": {},
   "outputs": [
    {
     "data": {
      "image/png": "[encoded data removed]",
      "text/plain": [
       "<Figure size 122.04x75.4249 with 2 Axes>"
      ]
     },
     "metadata": {
      "needs_background": "light"
     },
     "output_type": "display_data"
    }
   ],
   "source": [
    "fig, ax = plt.subplots()\n",
    "cs = ax.contourf(x, y, z_opt, levels=100)\n",
    "for c in cs.collections:\n",
    "    c.set_edgecolor('face')\n",
    "fig.colorbar(cs, ticks=[0, 0.25, 0.5, 0.75, 1])\n",
    "ax.set_title('Original Controller')\n",
    "ax.set_xlabel(r'$i_L$')\n",
    "ax.set_ylabel(r'$v_O$')\n",
    "plt.savefig('figures/original.pdf', bbox_inches='tight', pad_inches=0)\n",
    "plt.show()"
   ]
  },
  {
   "cell_type": "code",
   "execution_count": 8,
   "id": "removed-bridal",
   "metadata": {},
   "outputs": [],
   "source": [
    "parameter_set = Polytope(np.vstack((np.eye(2), -np.eye(2))), np.concatenate((mpc_controller.x_max, -mpc_controller.x_min)))"
   ]
  },
  {
   "cell_type": "code",
   "execution_count": 9,
   "id": "directed-latitude",
   "metadata": {},
   "outputs": [
    {
     "name": "stderr",
     "output_type": "stream",
     "text": [
      "  0%|          | 18/5000 [00:00<00:53, 93.27it/s]/usr/local/lib/python3.8/site-packages/cvxpy/problems/problem.py:1278: UserWarning: Solution may be inaccurate. Try another solver, adjusting the solver settings, or solve with verbose=True for more information.\n",
      "  warnings.warn(\n",
      "100%|██████████| 5000/5000 [00:43<00:00, 116.23it/s]\n"
     ]
    }
   ],
   "source": [
    "sampler = RandomSampler(mpc_controller, parameter_set)\n",
    "parameter_samples, variable_samples = sampler.sample(5000, seed=0)"
   ]
  },
  {
   "cell_type": "code",
   "execution_count": 10,
   "id": "adjustable-friendly",
   "metadata": {},
   "outputs": [],
   "source": [
    "parameter_samples = torch.from_numpy(parameter_samples).float()\n",
    "variable_samples  = torch.from_numpy(variable_samples).float()\n",
    "\n",
    "torch.save(parameter_samples, 'parameter_samples.pt')\n",
    "torch.save(variable_samples, 'variable_samples.pt')"
   ]
  },
  {
   "cell_type": "code",
   "execution_count": 11,
   "id": "absolute-right",
   "metadata": {},
   "outputs": [],
   "source": [
    "parameter_samples = torch.load('parameter_samples.pt')\n",
    "variable_samples  = torch.load('variable_samples.pt')"
   ]
  },
  {
   "cell_type": "code",
   "execution_count": 12,
   "id": "blind-charter",
   "metadata": {},
   "outputs": [],
   "source": [
    "class DCDCConverterDataset(Dataset):\n",
    "    def __init__(self, parameter_samples, variable_samples):\n",
    "        self.parameter_samples = parameter_samples\n",
    "        self.variable_samples = variable_samples\n",
    "\n",
    "    def __len__(self):\n",
    "        return self.parameter_samples.shape[0]\n",
    "\n",
    "    def __getitem__(self, idx):\n",
    "        return self.parameter_samples[idx, :], self.variable_samples[idx, :]"
   ]
  },
  {
   "cell_type": "code",
   "execution_count": 13,
   "id": "immediate-lambda",
   "metadata": {},
   "outputs": [],
   "source": [
    "dataset = DCDCConverterDataset(parameter_samples, variable_samples)\n",
    "\n",
    "seed = 1\n",
    "train_set_ratio = 0.8\n",
    "\n",
    "train_set_size = int(len(dataset) * train_set_ratio)\n",
    "test_set_size = len(dataset) - train_set_size\n",
    "train_set, test_set = random_split(dataset, [train_set_size, test_set_size], generator=torch.Generator().manual_seed(seed))"
   ]
  },
  {
   "cell_type": "code",
   "execution_count": 14,
   "id": "complicated-philadelphia",
   "metadata": {},
   "outputs": [],
   "source": [
    "class QPLayerProblem(CvxpyProblem):\n",
    "    def __init__(self, H, nz, eps=1e-4):\n",
    "        self.z = cp.Variable(nz)\n",
    "        self.x = cp.Parameter(nz)\n",
    "        self.prob = cp.Problem(cp.Minimize(cp.sum_squares(H @ self.z + self.x) + eps * cp.sum_squares(self.z)), [self.z >= 0])\n",
    "        \n",
    "    def problem(self):\n",
    "        return self.prob\n",
    "\n",
    "    def parameters(self):\n",
    "        return [self.x]\n",
    "\n",
    "    def variables(self):\n",
    "        return [self.z]\n",
    "    \n",
    "    def solve(self, x):\n",
    "        self.x.value = x\n",
    "        self.prob.solve(solver=cp.GUROBI)\n",
    "\n",
    "        solution = {self.z: self.z.value}\n",
    "        return solution\n",
    "\n",
    "\n",
    "class QPModule(nn.Module):\n",
    "    def __init__(self, nz, eps=1e-4):\n",
    "        super(QPModule, self).__init__()\n",
    "        self.H = nn.Parameter(torch.randn(nz, nz))\n",
    "        self.nz = nz\n",
    "        self.eps = eps\n",
    "        H = cp.Parameter((nz, nz))\n",
    "        prob = QPLayerProblem(H, nz, eps)\n",
    "        self.layer = CvxpyLayer(prob.problem(), [H] + prob.parameters(), prob.variables())\n",
    "\n",
    "    def forward(self, x):\n",
    "        return self.layer(self.H, x, solver_args={'solve_method':'ECOS'})[0]\n",
    "        \n",
    "    def milp_layer(self, depth):\n",
    "        prob = QPLayerProblem(self.H.detach().cpu().numpy(), self.nz, self.eps)\n",
    "        return QPLayer(prob, depth)"
   ]
  },
  {
   "cell_type": "code",
   "execution_count": 15,
   "id": "infrared-marriage",
   "metadata": {},
   "outputs": [],
   "source": [
    "class SatModule(nn.Module):\n",
    "    def __init__(self, num_features, x_min, x_max):\n",
    "        super(SatModule, self).__init__()\n",
    "        self.num_features = num_features\n",
    "        self.x_min = x_min\n",
    "        self.x_max = x_max\n",
    "        \n",
    "    def forward(self, x):\n",
    "        return torch.max(torch.min(x, torch.from_numpy(self.x_max).float()), torch.from_numpy(self.x_min).float())\n",
    "    \n",
    "    def milp_layer(self, depth):\n",
    "        return SeqLayer([\n",
    "            LinearLayer(np.eye(self.num_features), -self.x_min, depth),\n",
    "            ReluLayer(self.num_features, depth),\n",
    "            LinearLayer(np.eye(self.num_features), self.x_min, depth),\n",
    "            LinearLayer(-np.eye(self.num_features), self.x_max, depth),\n",
    "            ReluLayer(self.num_features, depth),\n",
    "            LinearLayer(-np.eye(self.num_features), self.x_max, depth)\n",
    "        ], depth)"
   ]
  },
  {
   "cell_type": "code",
   "execution_count": 16,
   "id": "minute-regular",
   "metadata": {},
   "outputs": [],
   "source": [
    "nz = 3\n",
    "\n",
    "net = nn.Sequential(\n",
    "    nn.Linear(mpc_controller.parameter_size(), nz),\n",
    "    QPModule(nz),\n",
    "    nn.Linear(nz, mpc_controller.variable_size()),\n",
    "    # SatModule(mpc_controller.variable_size(), mpc_controller.u_min, mpc_controller.u_max)\n",
    ")"
   ]
  },
  {
   "cell_type": "code",
   "execution_count": 17,
   "id": "native-ladder",
   "metadata": {},
   "outputs": [],
   "source": [
    "def loss_function(model, data, target):\n",
    "    output = model(data)\n",
    "    loss = F.mse_loss(output, target)\n",
    "    loss += 1e2 / len(data) * F.mse_loss(model(torch.from_numpy(mpc_controller.xs).float().to(data.device)), torch.from_numpy(mpc_controller.us).float().to(data.device))\n",
    "    return loss"
   ]
  },
  {
   "cell_type": "code",
   "execution_count": 18,
   "id": "configured-canada",
   "metadata": {},
   "outputs": [],
   "source": [
    "def train(model, device, train_loader, optimizer, epoch):\n",
    "    model.train()\n",
    "    train_loss = 0\n",
    "    for batch_idx, (data, target) in enumerate(train_loader):\n",
    "        data, target = data.to(device), target.to(device)\n",
    "\n",
    "        optimizer.zero_grad()\n",
    "        loss = loss_function(model, data, target)\n",
    "        loss.backward()\n",
    "        optimizer.step()\n",
    "\n",
    "        train_loss += loss.item()\n",
    "\n",
    "        if batch_idx % 20 == 0:\n",
    "            print('Train Epoch: {} [{}/{} ({:.0f}%)]\\tLoss: {:.6f}'.format(\n",
    "                epoch, batch_idx * len(data),\n",
    "                len(train_loader.dataset), 100. * batch_idx / len(train_loader), loss.item()))\n",
    "\n",
    "    train_loss /= len(train_loader)"
   ]
  },
  {
   "cell_type": "code",
   "execution_count": 19,
   "id": "civil-therapist",
   "metadata": {},
   "outputs": [],
   "source": [
    "def test(model, device, test_loader, epoch):\n",
    "    model.eval()\n",
    "    test_loss = 0\n",
    "    with torch.no_grad():\n",
    "        for data, target in test_loader:\n",
    "            data, target = data.to(device), target.to(device)\n",
    "\n",
    "            test_loss += loss_function(model, data, target).item()\n",
    "\n",
    "    test_loss /= len(test_loader)\n",
    "\n",
    "    print('Test set: Average loss: {:.6f}\\n'.format(test_loss))"
   ]
  },
  {
   "cell_type": "code",
   "execution_count": 20,
   "id": "micro-rehabilitation",
   "metadata": {},
   "outputs": [],
   "source": [
    "use_cuda = torch.cuda.is_available()\n",
    "\n",
    "device = torch.device('cuda' if use_cuda else 'cpu')\n",
    "\n",
    "train_kwargs = {'batch_size': 50}\n",
    "test_kwargs = {'batch_size': 1000}\n",
    "if use_cuda:\n",
    "    cuda_kwargs = {'num_workers': 1,\n",
    "                   'pin_memory': True,\n",
    "                   'shuffle': True}\n",
    "    train_kwargs.update(cuda_kwargs)\n",
    "    test_kwargs.update(cuda_kwargs)\n",
    "    \n",
    "train_loader = DataLoader(train_set, **train_kwargs)\n",
    "test_loader = DataLoader(test_set, **test_kwargs)"
   ]
  },
  {
   "cell_type": "code",
   "execution_count": 21,
   "id": "wicked-hungary",
   "metadata": {
    "scrolled": true
   },
   "outputs": [
    {
     "name": "stdout",
     "output_type": "stream",
     "text": [
      "Train Epoch: 1 [0/4000 (0%)]\tLoss: 0.810637\n",
      "Train Epoch: 1 [1000/4000 (25%)]\tLoss: 0.241078\n",
      "Train Epoch: 1 [2000/4000 (50%)]\tLoss: 0.172683\n",
      "Train Epoch: 1 [3000/4000 (75%)]\tLoss: 0.100165\n",
      "Test set: Average loss: 0.062774\n",
      "\n",
      "Train Epoch: 2 [0/4000 (0%)]\tLoss: 0.070327\n",
      "Train Epoch: 2 [1000/4000 (25%)]\tLoss: 0.043823\n",
      "Train Epoch: 2 [2000/4000 (50%)]\tLoss: 0.041297\n",
      "Train Epoch: 2 [3000/4000 (75%)]\tLoss: 0.040310\n",
      "Test set: Average loss: 0.024074\n",
      "\n",
      "Train Epoch: 3 [0/4000 (0%)]\tLoss: 0.028665\n",
      "Train Epoch: 3 [1000/4000 (25%)]\tLoss: 0.014248\n",
      "Train Epoch: 3 [2000/4000 (50%)]\tLoss: 0.013463\n",
      "Train Epoch: 3 [3000/4000 (75%)]\tLoss: 0.012999\n",
      "Test set: Average loss: 0.008199\n",
      "\n",
      "Train Epoch: 4 [0/4000 (0%)]\tLoss: 0.009152\n",
      "Train Epoch: 4 [1000/4000 (25%)]\tLoss: 0.006976\n",
      "Train Epoch: 4 [2000/4000 (50%)]\tLoss: 0.006615\n",
      "Train Epoch: 4 [3000/4000 (75%)]\tLoss: 0.008353\n",
      "Test set: Average loss: 0.004899\n",
      "\n",
      "Train Epoch: 5 [0/4000 (0%)]\tLoss: 0.004428\n",
      "Train Epoch: 5 [1000/4000 (25%)]\tLoss: 0.005916\n",
      "Train Epoch: 5 [2000/4000 (50%)]\tLoss: 0.006408\n",
      "Train Epoch: 5 [3000/4000 (75%)]\tLoss: 0.008534\n",
      "Test set: Average loss: 0.004838\n",
      "\n",
      "Train Epoch: 6 [0/4000 (0%)]\tLoss: 0.004402\n",
      "Train Epoch: 6 [1000/4000 (25%)]\tLoss: 0.005839\n",
      "Train Epoch: 6 [2000/4000 (50%)]\tLoss: 0.006714\n",
      "Train Epoch: 6 [3000/4000 (75%)]\tLoss: 0.008674\n",
      "Test set: Average loss: 0.004783\n",
      "\n",
      "Train Epoch: 7 [0/4000 (0%)]\tLoss: 0.003741\n",
      "Train Epoch: 7 [1000/4000 (25%)]\tLoss: 0.005804\n",
      "Train Epoch: 7 [2000/4000 (50%)]\tLoss: 0.006788\n",
      "Train Epoch: 7 [3000/4000 (75%)]\tLoss: 0.009050\n",
      "Test set: Average loss: 0.004831\n",
      "\n",
      "Train Epoch: 8 [0/4000 (0%)]\tLoss: 0.003597\n",
      "Train Epoch: 8 [1000/4000 (25%)]\tLoss: 0.005613\n",
      "Train Epoch: 8 [2000/4000 (50%)]\tLoss: 0.006628\n",
      "Train Epoch: 8 [3000/4000 (75%)]\tLoss: 0.009219\n",
      "Test set: Average loss: 0.004787\n",
      "\n",
      "Train Epoch: 9 [0/4000 (0%)]\tLoss: 0.003544\n",
      "Train Epoch: 9 [1000/4000 (25%)]\tLoss: 0.005467\n",
      "Train Epoch: 9 [2000/4000 (50%)]\tLoss: 0.006587\n",
      "Train Epoch: 9 [3000/4000 (75%)]\tLoss: 0.009182\n",
      "Test set: Average loss: 0.004726\n",
      "\n",
      "Train Epoch: 10 [0/4000 (0%)]\tLoss: 0.003403\n",
      "Train Epoch: 10 [1000/4000 (25%)]\tLoss: 0.005359\n",
      "Train Epoch: 10 [2000/4000 (50%)]\tLoss: 0.006587\n",
      "Train Epoch: 10 [3000/4000 (75%)]\tLoss: 0.009044\n",
      "Test set: Average loss: 0.004664\n",
      "\n",
      "Train Epoch: 11 [0/4000 (0%)]\tLoss: 0.003353\n",
      "Train Epoch: 11 [1000/4000 (25%)]\tLoss: 0.005329\n",
      "Train Epoch: 11 [2000/4000 (50%)]\tLoss: 0.006579\n",
      "Train Epoch: 11 [3000/4000 (75%)]\tLoss: 0.008967\n",
      "Test set: Average loss: 0.004640\n",
      "\n",
      "Train Epoch: 12 [0/4000 (0%)]\tLoss: 0.003375\n",
      "Train Epoch: 12 [1000/4000 (25%)]\tLoss: 0.005320\n",
      "Train Epoch: 12 [2000/4000 (50%)]\tLoss: 0.006581\n",
      "Train Epoch: 12 [3000/4000 (75%)]\tLoss: 0.008805\n",
      "Test set: Average loss: 0.004599\n",
      "\n",
      "Train Epoch: 13 [0/4000 (0%)]\tLoss: 0.003370\n",
      "Train Epoch: 13 [1000/4000 (25%)]\tLoss: 0.005312\n",
      "Train Epoch: 13 [2000/4000 (50%)]\tLoss: 0.006501\n",
      "Train Epoch: 13 [3000/4000 (75%)]\tLoss: 0.008834\n",
      "Test set: Average loss: 0.004572\n",
      "\n",
      "Train Epoch: 14 [0/4000 (0%)]\tLoss: 0.003363\n",
      "Train Epoch: 14 [1000/4000 (25%)]\tLoss: 0.005274\n",
      "Train Epoch: 14 [2000/4000 (50%)]\tLoss: 0.006427\n",
      "Train Epoch: 14 [3000/4000 (75%)]\tLoss: 0.008871\n",
      "Test set: Average loss: 0.004572\n",
      "\n",
      "Train Epoch: 15 [0/4000 (0%)]\tLoss: 0.003389\n",
      "Train Epoch: 15 [1000/4000 (25%)]\tLoss: 0.005227\n",
      "Train Epoch: 15 [2000/4000 (50%)]\tLoss: 0.006400\n",
      "Train Epoch: 15 [3000/4000 (75%)]\tLoss: 0.008837\n",
      "Test set: Average loss: 0.004567\n",
      "\n",
      "Train Epoch: 16 [0/4000 (0%)]\tLoss: 0.003428\n",
      "Train Epoch: 16 [1000/4000 (25%)]\tLoss: 0.005299\n",
      "Train Epoch: 16 [2000/4000 (50%)]\tLoss: 0.006457\n",
      "Train Epoch: 16 [3000/4000 (75%)]\tLoss: 0.008403\n",
      "Test set: Average loss: 0.004533\n",
      "\n",
      "Train Epoch: 17 [0/4000 (0%)]\tLoss: 0.003430\n",
      "Train Epoch: 17 [1000/4000 (25%)]\tLoss: 0.005447\n",
      "Train Epoch: 17 [2000/4000 (50%)]\tLoss: 0.006388\n",
      "Train Epoch: 17 [3000/4000 (75%)]\tLoss: 0.008191\n",
      "Test set: Average loss: 0.004503\n",
      "\n",
      "Train Epoch: 18 [0/4000 (0%)]\tLoss: 0.003430\n",
      "Train Epoch: 18 [1000/4000 (25%)]\tLoss: 0.005525\n",
      "Train Epoch: 18 [2000/4000 (50%)]\tLoss: 0.006346\n",
      "Train Epoch: 18 [3000/4000 (75%)]\tLoss: 0.008003\n",
      "Test set: Average loss: 0.004537\n",
      "\n",
      "Train Epoch: 19 [0/4000 (0%)]\tLoss: 0.003542\n",
      "Train Epoch: 19 [1000/4000 (25%)]\tLoss: 0.005410\n",
      "Train Epoch: 19 [2000/4000 (50%)]\tLoss: 0.006476\n",
      "Train Epoch: 19 [3000/4000 (75%)]\tLoss: 0.007833\n",
      "Test set: Average loss: 0.004509\n",
      "\n",
      "Train Epoch: 20 [0/4000 (0%)]\tLoss: 0.003535\n",
      "Train Epoch: 20 [1000/4000 (25%)]\tLoss: 0.005393\n",
      "Train Epoch: 20 [2000/4000 (50%)]\tLoss: 0.006467\n",
      "Train Epoch: 20 [3000/4000 (75%)]\tLoss: 0.007788\n",
      "Test set: Average loss: 0.004471\n",
      "\n",
      "Train Epoch: 21 [0/4000 (0%)]\tLoss: 0.003508\n",
      "Train Epoch: 21 [1000/4000 (25%)]\tLoss: 0.005460\n",
      "Train Epoch: 21 [2000/4000 (50%)]\tLoss: 0.006374\n",
      "Train Epoch: 21 [3000/4000 (75%)]\tLoss: 0.007661\n",
      "Test set: Average loss: 0.004454\n",
      "\n",
      "Train Epoch: 22 [0/4000 (0%)]\tLoss: 0.003520\n",
      "Train Epoch: 22 [1000/4000 (25%)]\tLoss: 0.005448\n",
      "Train Epoch: 22 [2000/4000 (50%)]\tLoss: 0.006484\n",
      "Train Epoch: 22 [3000/4000 (75%)]\tLoss: 0.007528\n",
      "Test set: Average loss: 0.004478\n",
      "\n",
      "Train Epoch: 23 [0/4000 (0%)]\tLoss: 0.003584\n",
      "Train Epoch: 23 [1000/4000 (25%)]\tLoss: 0.005405\n",
      "Train Epoch: 23 [2000/4000 (50%)]\tLoss: 0.006398\n",
      "Train Epoch: 23 [3000/4000 (75%)]\tLoss: 0.007399\n",
      "Test set: Average loss: 0.004521\n",
      "\n",
      "Train Epoch: 24 [0/4000 (0%)]\tLoss: 0.003770\n",
      "Train Epoch: 24 [1000/4000 (25%)]\tLoss: 0.005360\n",
      "Train Epoch: 24 [2000/4000 (50%)]\tLoss: 0.006293\n",
      "Train Epoch: 24 [3000/4000 (75%)]\tLoss: 0.007038\n",
      "Test set: Average loss: 0.004486\n",
      "\n",
      "Train Epoch: 25 [0/4000 (0%)]\tLoss: 0.003725\n",
      "Train Epoch: 25 [1000/4000 (25%)]\tLoss: 0.005493\n",
      "Train Epoch: 25 [2000/4000 (50%)]\tLoss: 0.006242\n",
      "Train Epoch: 25 [3000/4000 (75%)]\tLoss: 0.006931\n",
      "Test set: Average loss: 0.004463\n",
      "\n",
      "Train Epoch: 26 [0/4000 (0%)]\tLoss: 0.003696\n",
      "Train Epoch: 26 [1000/4000 (25%)]\tLoss: 0.005515\n",
      "Train Epoch: 26 [2000/4000 (50%)]\tLoss: 0.006135\n",
      "Train Epoch: 26 [3000/4000 (75%)]\tLoss: 0.006871\n",
      "Test set: Average loss: 0.004458\n",
      "\n",
      "Train Epoch: 27 [0/4000 (0%)]\tLoss: 0.003741\n",
      "Train Epoch: 27 [1000/4000 (25%)]\tLoss: 0.005516\n",
      "Train Epoch: 27 [2000/4000 (50%)]\tLoss: 0.006042\n",
      "Train Epoch: 27 [3000/4000 (75%)]\tLoss: 0.006808\n",
      "Test set: Average loss: 0.004502\n",
      "\n",
      "Train Epoch: 28 [0/4000 (0%)]\tLoss: 0.003836\n",
      "Train Epoch: 28 [1000/4000 (25%)]\tLoss: 0.005384\n",
      "Train Epoch: 28 [2000/4000 (50%)]\tLoss: 0.005873\n",
      "Train Epoch: 28 [3000/4000 (75%)]\tLoss: 0.006654\n",
      "Test set: Average loss: 0.004486\n",
      "\n",
      "Train Epoch: 29 [0/4000 (0%)]\tLoss: 0.003847\n",
      "Train Epoch: 29 [1000/4000 (25%)]\tLoss: 0.005412\n",
      "Train Epoch: 29 [2000/4000 (50%)]\tLoss: 0.005786\n",
      "Train Epoch: 29 [3000/4000 (75%)]\tLoss: 0.006635\n",
      "Test set: Average loss: 0.004490\n",
      "\n",
      "Train Epoch: 30 [0/4000 (0%)]\tLoss: 0.003894\n",
      "Train Epoch: 30 [1000/4000 (25%)]\tLoss: 0.005435\n",
      "Train Epoch: 30 [2000/4000 (50%)]\tLoss: 0.005691\n",
      "Train Epoch: 30 [3000/4000 (75%)]\tLoss: 0.006622\n",
      "Test set: Average loss: 0.004492\n",
      "\n",
      "Train Epoch: 31 [0/4000 (0%)]\tLoss: 0.003934\n",
      "Train Epoch: 31 [1000/4000 (25%)]\tLoss: 0.005460\n",
      "Train Epoch: 31 [2000/4000 (50%)]\tLoss: 0.005609\n",
      "Train Epoch: 31 [3000/4000 (75%)]\tLoss: 0.006573\n",
      "Test set: Average loss: 0.004490\n",
      "\n",
      "Train Epoch: 32 [0/4000 (0%)]\tLoss: 0.003958\n",
      "Train Epoch: 32 [1000/4000 (25%)]\tLoss: 0.005485\n",
      "Train Epoch: 32 [2000/4000 (50%)]\tLoss: 0.005551\n",
      "Train Epoch: 32 [3000/4000 (75%)]\tLoss: 0.006553\n",
      "Test set: Average loss: 0.004499\n",
      "\n",
      "Train Epoch: 33 [0/4000 (0%)]\tLoss: 0.004015\n",
      "Train Epoch: 33 [1000/4000 (25%)]\tLoss: 0.005488\n",
      "Train Epoch: 33 [2000/4000 (50%)]\tLoss: 0.005553\n",
      "Train Epoch: 33 [3000/4000 (75%)]\tLoss: 0.006541\n",
      "Test set: Average loss: 0.004504\n",
      "\n",
      "Train Epoch: 34 [0/4000 (0%)]\tLoss: 0.004044\n",
      "Train Epoch: 34 [1000/4000 (25%)]\tLoss: 0.005508\n",
      "Train Epoch: 34 [2000/4000 (50%)]\tLoss: 0.005514\n",
      "Train Epoch: 34 [3000/4000 (75%)]\tLoss: 0.006432\n",
      "Test set: Average loss: 0.004486\n",
      "\n",
      "Train Epoch: 35 [0/4000 (0%)]\tLoss: 0.004042\n",
      "Train Epoch: 35 [1000/4000 (25%)]\tLoss: 0.005520\n",
      "Train Epoch: 35 [2000/4000 (50%)]\tLoss: 0.005480\n",
      "Train Epoch: 35 [3000/4000 (75%)]\tLoss: 0.006415\n",
      "Test set: Average loss: 0.004486\n",
      "\n",
      "Train Epoch: 36 [0/4000 (0%)]\tLoss: 0.004059\n",
      "Train Epoch: 36 [1000/4000 (25%)]\tLoss: 0.005505\n",
      "Train Epoch: 36 [2000/4000 (50%)]\tLoss: 0.005447\n",
      "Train Epoch: 36 [3000/4000 (75%)]\tLoss: 0.006399\n",
      "Test set: Average loss: 0.004507\n",
      "\n",
      "Train Epoch: 37 [0/4000 (0%)]\tLoss: 0.004082\n",
      "Train Epoch: 37 [1000/4000 (25%)]\tLoss: 0.005484\n",
      "Train Epoch: 37 [2000/4000 (50%)]\tLoss: 0.005445\n",
      "Train Epoch: 37 [3000/4000 (75%)]\tLoss: 0.006405\n",
      "Test set: Average loss: 0.004505\n",
      "\n",
      "Train Epoch: 38 [0/4000 (0%)]\tLoss: 0.004087\n",
      "Train Epoch: 38 [1000/4000 (25%)]\tLoss: 0.005441\n",
      "Train Epoch: 38 [2000/4000 (50%)]\tLoss: 0.005398\n",
      "Train Epoch: 38 [3000/4000 (75%)]\tLoss: 0.006398\n",
      "Test set: Average loss: 0.004517\n",
      "\n",
      "Train Epoch: 39 [0/4000 (0%)]\tLoss: 0.004113\n",
      "Train Epoch: 39 [1000/4000 (25%)]\tLoss: 0.005443\n",
      "Train Epoch: 39 [2000/4000 (50%)]\tLoss: 0.005398\n",
      "Train Epoch: 39 [3000/4000 (75%)]\tLoss: 0.006414\n",
      "Test set: Average loss: 0.004515\n",
      "\n",
      "Train Epoch: 40 [0/4000 (0%)]\tLoss: 0.004123\n",
      "Train Epoch: 40 [1000/4000 (25%)]\tLoss: 0.005452\n",
      "Train Epoch: 40 [2000/4000 (50%)]\tLoss: 0.005384\n",
      "Train Epoch: 40 [3000/4000 (75%)]\tLoss: 0.006232\n",
      "Test set: Average loss: 0.004517\n",
      "\n",
      "Train Epoch: 41 [0/4000 (0%)]\tLoss: 0.004128\n",
      "Train Epoch: 41 [1000/4000 (25%)]\tLoss: 0.005466\n",
      "Train Epoch: 41 [2000/4000 (50%)]\tLoss: 0.005367\n",
      "Train Epoch: 41 [3000/4000 (75%)]\tLoss: 0.006239\n",
      "Test set: Average loss: 0.004528\n",
      "\n",
      "Train Epoch: 42 [0/4000 (0%)]\tLoss: 0.004136\n",
      "Train Epoch: 42 [1000/4000 (25%)]\tLoss: 0.005477\n",
      "Train Epoch: 42 [2000/4000 (50%)]\tLoss: 0.005340\n",
      "Train Epoch: 42 [3000/4000 (75%)]\tLoss: 0.006255\n",
      "Test set: Average loss: 0.004526\n",
      "\n",
      "Train Epoch: 43 [0/4000 (0%)]\tLoss: 0.004133\n",
      "Train Epoch: 43 [1000/4000 (25%)]\tLoss: 0.005493\n",
      "Train Epoch: 43 [2000/4000 (50%)]\tLoss: 0.005327\n",
      "Train Epoch: 43 [3000/4000 (75%)]\tLoss: 0.006265\n",
      "Test set: Average loss: 0.004502\n",
      "\n",
      "Train Epoch: 44 [0/4000 (0%)]\tLoss: 0.004101\n",
      "Train Epoch: 44 [1000/4000 (25%)]\tLoss: 0.005501\n",
      "Train Epoch: 44 [2000/4000 (50%)]\tLoss: 0.005306\n",
      "Train Epoch: 44 [3000/4000 (75%)]\tLoss: 0.006281\n",
      "Test set: Average loss: 0.004495\n",
      "\n",
      "Train Epoch: 45 [0/4000 (0%)]\tLoss: 0.004096\n",
      "Train Epoch: 45 [1000/4000 (25%)]\tLoss: 0.005511\n",
      "Train Epoch: 45 [2000/4000 (50%)]\tLoss: 0.005346\n",
      "Train Epoch: 45 [3000/4000 (75%)]\tLoss: 0.006304\n",
      "Test set: Average loss: 0.004501\n",
      "\n",
      "Train Epoch: 46 [0/4000 (0%)]\tLoss: 0.004115\n",
      "Train Epoch: 46 [1000/4000 (25%)]\tLoss: 0.005523\n",
      "Train Epoch: 46 [2000/4000 (50%)]\tLoss: 0.005329\n",
      "Train Epoch: 46 [3000/4000 (75%)]\tLoss: 0.006286\n",
      "Test set: Average loss: 0.004501\n",
      "\n",
      "Train Epoch: 47 [0/4000 (0%)]\tLoss: 0.004121\n",
      "Train Epoch: 47 [1000/4000 (25%)]\tLoss: 0.005530\n",
      "Train Epoch: 47 [2000/4000 (50%)]\tLoss: 0.005265\n",
      "Train Epoch: 47 [3000/4000 (75%)]\tLoss: 0.006269\n",
      "Test set: Average loss: 0.004503\n",
      "\n",
      "Train Epoch: 48 [0/4000 (0%)]\tLoss: 0.004129\n",
      "Train Epoch: 48 [1000/4000 (25%)]\tLoss: 0.005537\n",
      "Train Epoch: 48 [2000/4000 (50%)]\tLoss: 0.005254\n",
      "Train Epoch: 48 [3000/4000 (75%)]\tLoss: 0.006263\n",
      "Test set: Average loss: 0.004505\n",
      "\n",
      "Train Epoch: 49 [0/4000 (0%)]\tLoss: 0.004131\n",
      "Train Epoch: 49 [1000/4000 (25%)]\tLoss: 0.005546\n",
      "Train Epoch: 49 [2000/4000 (50%)]\tLoss: 0.005244\n",
      "Train Epoch: 49 [3000/4000 (75%)]\tLoss: 0.006310\n",
      "Test set: Average loss: 0.004502\n",
      "\n",
      "Train Epoch: 50 [0/4000 (0%)]\tLoss: 0.004128\n",
      "Train Epoch: 50 [1000/4000 (25%)]\tLoss: 0.005555\n",
      "Train Epoch: 50 [2000/4000 (50%)]\tLoss: 0.005239\n",
      "Train Epoch: 50 [3000/4000 (75%)]\tLoss: 0.006307\n",
      "Test set: Average loss: 0.004502\n",
      "\n"
     ]
    }
   ],
   "source": [
    "optimizer = optim.Adam(net.parameters(), lr=0.01)\n",
    "for epoch in range(1, 50 + 1):\n",
    "    train(net, device, train_loader, optimizer, epoch)\n",
    "    test(net, device, test_loader, epoch)"
   ]
  },
  {
   "cell_type": "code",
   "execution_count": 22,
   "id": "crazy-adaptation",
   "metadata": {
    "scrolled": true
   },
   "outputs": [
    {
     "name": "stdout",
     "output_type": "stream",
     "text": [
      "Train Epoch: 1 [0/4000 (0%)]\tLoss: 0.004129\n",
      "Train Epoch: 1 [1000/4000 (25%)]\tLoss: 0.005671\n",
      "Train Epoch: 1 [2000/4000 (50%)]\tLoss: 0.005244\n",
      "Train Epoch: 1 [3000/4000 (75%)]\tLoss: 0.005057\n",
      "Test set: Average loss: 0.004290\n",
      "\n",
      "Train Epoch: 2 [0/4000 (0%)]\tLoss: 0.003724\n",
      "Train Epoch: 2 [1000/4000 (25%)]\tLoss: 0.005875\n",
      "Train Epoch: 2 [2000/4000 (50%)]\tLoss: 0.005224\n",
      "Train Epoch: 2 [3000/4000 (75%)]\tLoss: 0.005047\n",
      "Test set: Average loss: 0.004285\n",
      "\n",
      "Train Epoch: 3 [0/4000 (0%)]\tLoss: 0.003713\n",
      "Train Epoch: 3 [1000/4000 (25%)]\tLoss: 0.005846\n",
      "Train Epoch: 3 [2000/4000 (50%)]\tLoss: 0.005229\n",
      "Train Epoch: 3 [3000/4000 (75%)]\tLoss: 0.005048\n",
      "Test set: Average loss: 0.004283\n",
      "\n",
      "Train Epoch: 4 [0/4000 (0%)]\tLoss: 0.003713\n",
      "Train Epoch: 4 [1000/4000 (25%)]\tLoss: 0.005831\n",
      "Train Epoch: 4 [2000/4000 (50%)]\tLoss: 0.005233\n",
      "Train Epoch: 4 [3000/4000 (75%)]\tLoss: 0.005049\n",
      "Test set: Average loss: 0.004282\n",
      "\n",
      "Train Epoch: 5 [0/4000 (0%)]\tLoss: 0.003712\n",
      "Train Epoch: 5 [1000/4000 (25%)]\tLoss: 0.005823\n",
      "Train Epoch: 5 [2000/4000 (50%)]\tLoss: 0.005236\n",
      "Train Epoch: 5 [3000/4000 (75%)]\tLoss: 0.005049\n",
      "Test set: Average loss: 0.004281\n",
      "\n",
      "Train Epoch: 6 [0/4000 (0%)]\tLoss: 0.003712\n",
      "Train Epoch: 6 [1000/4000 (25%)]\tLoss: 0.005818\n",
      "Train Epoch: 6 [2000/4000 (50%)]\tLoss: 0.005238\n",
      "Train Epoch: 6 [3000/4000 (75%)]\tLoss: 0.005049\n",
      "Test set: Average loss: 0.004280\n",
      "\n",
      "Train Epoch: 7 [0/4000 (0%)]\tLoss: 0.003711\n",
      "Train Epoch: 7 [1000/4000 (25%)]\tLoss: 0.005814\n",
      "Train Epoch: 7 [2000/4000 (50%)]\tLoss: 0.005240\n",
      "Train Epoch: 7 [3000/4000 (75%)]\tLoss: 0.005050\n",
      "Test set: Average loss: 0.004279\n",
      "\n",
      "Train Epoch: 8 [0/4000 (0%)]\tLoss: 0.003710\n",
      "Train Epoch: 8 [1000/4000 (25%)]\tLoss: 0.005811\n",
      "Train Epoch: 8 [2000/4000 (50%)]\tLoss: 0.005241\n",
      "Train Epoch: 8 [3000/4000 (75%)]\tLoss: 0.005050\n",
      "Test set: Average loss: 0.004280\n",
      "\n",
      "Train Epoch: 9 [0/4000 (0%)]\tLoss: 0.003710\n",
      "Train Epoch: 9 [1000/4000 (25%)]\tLoss: 0.005810\n",
      "Train Epoch: 9 [2000/4000 (50%)]\tLoss: 0.005244\n",
      "Train Epoch: 9 [3000/4000 (75%)]\tLoss: 0.005050\n",
      "Test set: Average loss: 0.004279\n",
      "\n",
      "Train Epoch: 10 [0/4000 (0%)]\tLoss: 0.003710\n",
      "Train Epoch: 10 [1000/4000 (25%)]\tLoss: 0.005807\n",
      "Train Epoch: 10 [2000/4000 (50%)]\tLoss: 0.005247\n",
      "Train Epoch: 10 [3000/4000 (75%)]\tLoss: 0.005052\n",
      "Test set: Average loss: 0.004279\n",
      "\n"
     ]
    }
   ],
   "source": [
    "optimizer = optim.Adam(net.parameters(), lr=0.001)\n",
    "for epoch in range(1, 10 + 1):\n",
    "    train(net, device, train_loader, optimizer, epoch)\n",
    "    test(net, device, test_loader, epoch)"
   ]
  },
  {
   "cell_type": "code",
   "execution_count": 23,
   "id": "consistent-eleven",
   "metadata": {},
   "outputs": [],
   "source": [
    "net_sat = nn.Sequential(\n",
    "    *net,\n",
    "    SatModule(mpc_controller.variable_size(), mpc_controller.u_min, mpc_controller.u_max)\n",
    ")"
   ]
  },
  {
   "cell_type": "code",
   "execution_count": 24,
   "id": "cross-columbus",
   "metadata": {},
   "outputs": [],
   "source": [
    "torch.save({'state_dict': net_sat.state_dict()}, 'dc_dc_converter_qp.pt')"
   ]
  },
  {
   "cell_type": "code",
   "execution_count": 25,
   "id": "delayed-buying",
   "metadata": {},
   "outputs": [
    {
     "data": {
      "text/plain": [
       "<All keys matched successfully>"
      ]
     },
     "execution_count": 25,
     "metadata": {},
     "output_type": "execute_result"
    }
   ],
   "source": [
    "saved_model = torch.load('dc_dc_converter_qp.pt')\n",
    "net_sat.load_state_dict(saved_model['state_dict'])"
   ]
  },
  {
   "cell_type": "code",
   "execution_count": 26,
   "id": "amazing-exercise",
   "metadata": {},
   "outputs": [],
   "source": [
    "z_net = np.vstack((x.flatten(), y.flatten())).T\n",
    "z_net = net_sat(torch.from_numpy(z_net).float())\n",
    "z_net = z_net.detach().cpu().numpy()\n",
    "z_net = z_net.reshape(x.shape)"
   ]
  },
  {
   "cell_type": "code",
   "execution_count": 27,
   "id": "foreign-carolina",
   "metadata": {},
   "outputs": [
    {
     "data": {
      "image/png": "[encoded data removed]",
      "text/plain": [
       "<Figure size 122.04x75.4249 with 2 Axes>"
      ]
     },
     "metadata": {
      "needs_background": "light"
     },
     "output_type": "display_data"
    }
   ],
   "source": [
    "fig, ax = plt.subplots()\n",
    "cs = ax.contourf(x, y, z_net, levels=100)\n",
    "for c in cs.collections:\n",
    "    c.set_edgecolor('face')\n",
    "fig.colorbar(cs, ticks=[0, 0.25, 0.5, 0.75, 1])\n",
    "ax.set_title('Simplified Controller')\n",
    "ax.set_xlabel(r'$i_L$')\n",
    "ax.set_ylabel(r'$v_O$')\n",
    "plt.savefig('figures/simplified.pdf', bbox_inches='tight', pad_inches=0)\n",
    "plt.show()"
   ]
  },
  {
   "cell_type": "code",
   "execution_count": 28,
   "id": "precious-secondary",
   "metadata": {},
   "outputs": [
    {
     "data": {
      "image/png": "[encoded data removed]",
      "text/plain": [
       "<Figure size 122.04x75.4249 with 2 Axes>"
      ]
     },
     "metadata": {
      "needs_background": "light"
     },
     "output_type": "display_data"
    }
   ],
   "source": [
    "fig, ax = plt.subplots()\n",
    "cs = ax.contourf(x, y, np.abs(z_opt - z_net), levels=100)\n",
    "for c in cs.collections:\n",
    "    c.set_edgecolor('face')\n",
    "fig.colorbar(cs, ticks=[0, 0.25, 0.5, 0.75, 1])\n",
    "ax.set_title('Approximation Error')\n",
    "ax.set_xlabel(r'$i_L$')\n",
    "ax.set_ylabel(r'$v_O$')\n",
    "plt.show()"
   ]
  },
  {
   "cell_type": "code",
   "execution_count": 29,
   "id": "atlantic-dancing",
   "metadata": {},
   "outputs": [],
   "source": [
    "verifier = Verifier(parameter_set, mpc_controller, net_sat)"
   ]
  },
  {
   "cell_type": "code",
   "execution_count": 30,
   "id": "surface-fields",
   "metadata": {},
   "outputs": [
    {
     "name": "stdout",
     "output_type": "stream",
     "text": [
      "Set parameter Username\n",
      "Academic license - for non-commercial use only - expires 2022-12-04\n"
     ]
    },
    {
     "name": "stderr",
     "output_type": "stream",
     "text": [
      "QP Ineq Bound: 100%|██████████| 68/68 [00:04<00:00, 16.44it/s]\n",
      "QP Dual Bound: 100%|██████████| 68/68 [00:02<00:00, 25.38it/s]\n",
      "QP Output Bound: 100%|██████████| 1/1 [00:00<00:00, 11.20it/s]\n",
      "QP Ineq Bound: 100%|██████████| 3/3 [00:00<00:00, 472.81it/s]\n",
      "QP Dual Bound: 100%|██████████| 3/3 [00:00<00:00, 359.23it/s]\n",
      "QP Output Bound: 100%|██████████| 3/3 [00:00<00:00, 221.02it/s]"
     ]
    },
    {
     "name": "stdout",
     "output_type": "stream",
     "text": [
      "Neural Network Bounds:\n",
      "lower bound: [0.]\n",
      "upper bound: [1.]\n"
     ]
    },
    {
     "name": "stderr",
     "output_type": "stream",
     "text": [
      "\n"
     ]
    }
   ],
   "source": [
    "mpc_bounds, net_bounds = verifier.compute_bounds(method=BoundArithmetic.ZONO_ARITHMETIC, mip=True)\n",
    "print('Neural Network Bounds:')\n",
    "print(f'lower bound: {net_bounds[\"lb\"]}')\n",
    "print(f'upper bound: {net_bounds[\"ub\"]}')"
   ]
  },
  {
   "cell_type": "code",
   "execution_count": 31,
   "id": "breeding-berlin",
   "metadata": {},
   "outputs": [
    {
     "name": "stdout",
     "output_type": "stream",
     "text": [
      "Gurobi Optimizer version 9.5.0 build v9.5.0rc5 (mac64[x86])\n",
      "Thread count: 8 physical cores, 16 logical processors, using up to 16 threads\n",
      "Optimize a model with 377 rows, 302 columns and 843 nonzeros\n",
      "Model fingerprint: 0x4a3c20b6\n",
      "Model has 148 general constraints\n",
      "Variable types: 229 continuous, 73 integer (73 binary)\n",
      "Coefficient statistics:\n",
      "  Matrix range     [2e-04, 1e+06]\n",
      "  Objective range  [1e+00, 1e+00]\n",
      "  Bounds range     [8e-02, 1e+06]\n",
      "  RHS range        [7e-18, 1e+06]\n",
      "  GenCon rhs range [7e-18, 7e+00]\n",
      "  GenCon coe range [7e-02, 1e+00]\n",
      "\n",
      "User MIP start did not produce a new incumbent solution\n",
      "\n",
      "Presolve removed 276 rows and 204 columns\n",
      "Presolve time: 0.01s\n",
      "Presolved: 101 rows, 98 columns, 345 nonzeros\n",
      "Presolved model has 14 SOS constraint(s)\n",
      "Variable types: 75 continuous, 23 integer (23 binary)\n",
      "Found heuristic solution: objective 0.1128485\n",
      "\n",
      "Root relaxation: objective 1.000000e+00, 80 iterations, 0.00 seconds (0.00 work units)\n",
      "Another try with MIP start\n",
      "\n",
      "    Nodes    |    Current Node    |     Objective Bounds      |     Work\n",
      " Expl Unexpl |  Obj  Depth IntInf | Incumbent    BestBd   Gap | It/Node Time\n",
      "\n",
      "H    0     0                       0.1200248    1.00000   733%     -    0s\n",
      "     0     0    1.00000    0    5    0.12002    1.00000   733%     -    0s\n",
      "     0     0    1.00000    0   19    0.12002    1.00000   733%     -    0s\n",
      "H    0     0                       0.2428093    1.00000   312%     -    0s\n",
      "     0     0    1.00000    0   19    0.24281    1.00000   312%     -    0s\n",
      "     0     0    1.00000    0    4    0.24281    1.00000   312%     -    0s\n",
      "     0     0    1.00000    0    4    0.24281    1.00000   312%     -    0s\n",
      "     0     0    1.00000    0   17    0.24281    1.00000   312%     -    0s\n",
      "     0     0    1.00000    0   20    0.24281    1.00000   312%     -    0s\n",
      "     0     0    0.89053    0   24    0.24281    0.89053   267%     -    0s\n",
      "     0     0    0.89052    0   23    0.24281    0.89052   267%     -    0s\n",
      "     0     0    0.25812    0   17    0.24281    0.25812  6.31%     -    0s\n",
      "\n",
      "Cutting planes:\n",
      "  Implied bound: 10\n",
      "  MIR: 4\n",
      "  Relax-and-lift: 1\n",
      "\n",
      "Explored 1 nodes (302 simplex iterations) in 0.09 seconds (0.03 work units)\n",
      "Thread count was 16 (of 16 available processors)\n",
      "\n",
      "Solution count 3: 0.242809 0.120025 0.112848 \n",
      "No other solutions better than 0.242809\n",
      "\n",
      "Optimal solution found (tolerance 1.00e-04)\n",
      "Best objective 2.428092584458e-01, best bound 2.428092584458e-01, gap 0.0000%\n"
     ]
    }
   ],
   "source": [
    "bound_diff, parameters_diff = verifier.approximation_error()"
   ]
  },
  {
   "cell_type": "code",
   "execution_count": 32,
   "id": "persistent-inflation",
   "metadata": {},
   "outputs": [
    {
     "name": "stdout",
     "output_type": "stream",
     "text": [
      "Maximum absolute Error Bound between MPC and NN: 0.24280925844578716 at [0.      6.78703]\n",
      "Double Checking by calulcaing error at this position: 0.24280926418478493\n"
     ]
    }
   ],
   "source": [
    "print(f'Maximum absolute Error Bound between MPC and NN: {bound_diff} at {parameters_diff}')\n",
    "u0_mpc = mpc_controller.solve(np.array(parameters_diff))[mpc_controller.u0][0]\n",
    "u0_net = net_sat(torch.from_numpy(np.array(parameters_diff)).float()).detach().numpy()[0]\n",
    "print(f'Double Checking by calulcaing error at this position: {u0_mpc - u0_net}')"
   ]
  },
  {
   "cell_type": "code",
   "execution_count": 33,
   "id": "featured-pharmacy",
   "metadata": {},
   "outputs": [
    {
     "data": {
      "image/png": "[encoded data removed]",
      "text/plain": [
       "<Figure size 122.04x75.4249 with 2 Axes>"
      ]
     },
     "metadata": {
      "needs_background": "light"
     },
     "output_type": "display_data"
    }
   ],
   "source": [
    "fig, ax = plt.subplots()\n",
    "cs = ax.contourf(x, y, np.abs(z_opt - z_net), levels=100)\n",
    "for c in cs.collections:\n",
    "    c.set_edgecolor('face')\n",
    "ax.plot(parameters_diff[0], parameters_diff[1], 'ro', markersize=2)\n",
    "fig.colorbar(cs, ticks=[0, 0.1, 0.2])\n",
    "ax.set_title('Approximation Error')\n",
    "ax.set_xlabel(r'$i_L$')\n",
    "ax.set_ylabel(r'$v_O$')\n",
    "plt.savefig('figures/approx_error.pdf', bbox_inches='tight', pad_inches=0)\n",
    "plt.show()"
   ]
  },
  {
   "cell_type": "code",
   "execution_count": 33,
   "id": "bacterial-techno",
   "metadata": {},
   "outputs": [
    {
     "name": "stdout",
     "output_type": "stream",
     "text": [
      "Set parameter IntFeasTol to value 1e-06\n"
     ]
    },
    {
     "name": "stderr",
     "output_type": "stream",
     "text": [
      "QP Ineq Bound: 100%|██████████| 68/68 [00:00<00:00, 469.07it/s]\n",
      "QP Dual Bound: 100%|██████████| 68/68 [00:00<00:00, 978.30it/s]\n",
      "QP Output Bound: 100%|██████████| 1/1 [00:00<00:00, 233.64it/s]\n"
     ]
    },
    {
     "name": "stdout",
     "output_type": "stream",
     "text": [
      "Set parameter NonConvex to value 2\n",
      "Gurobi Optimizer version 9.5.0 build v9.5.0rc5 (mac64[x86])\n",
      "Thread count: 8 physical cores, 16 logical processors, using up to 16 threads\n",
      "Optimize a model with 500 rows, 365 columns and 1102 nonzeros\n",
      "Model fingerprint: 0x556613f4\n",
      "Model has 63 quadratic objective terms\n",
      "Model has 146 general constraints\n",
      "Variable types: 292 continuous, 73 integer (73 binary)\n",
      "Coefficient statistics:\n",
      "  Matrix range     [2e-04, 1e+06]\n",
      "  Objective range  [0e+00, 0e+00]\n",
      "  QObjective range [2e+00, 3e+02]\n",
      "  Bounds range     [8e-02, 1e+06]\n",
      "  RHS range        [7e-18, 1e+06]\n",
      "  GenCon rhs range [7e-18, 7e+00]\n",
      "  GenCon coe range [7e-02, 1e+00]\n",
      "\n",
      "User MIP start produced solution with objective 14.9456 (0.18s)\n",
      "User MIP start produced solution with objective 0.244806 (0.18s)\n",
      "User MIP start produced solution with objective 0.24164 (0.53s)\n",
      "Loaded user MIP start with objective 0.241652\n",
      "\n",
      "Presolve removed 328 rows and 191 columns\n",
      "Presolve time: 0.01s\n",
      "Presolved: 206 rows, 238 columns, 676 nonzeros\n",
      "Presolved model has 39 SOS constraint(s)\n",
      "Presolved model has 32 quadratic constraint(s)\n",
      "Presolved model has 31 bilinear constraint(s)\n",
      "Variable types: 193 continuous, 45 integer (45 binary)\n",
      "\n",
      "Root relaxation: objective -1.677561e+02, 202 iterations, 0.00 seconds (0.00 work units)\n",
      "\n",
      "    Nodes    |    Current Node    |     Objective Bounds      |     Work\n",
      " Expl Unexpl |  Obj  Depth IntInf | Incumbent    BestBd   Gap | It/Node Time\n",
      "\n",
      "     0     0 -167.75611    0   38    0.24165 -167.75611      -     -    1s\n",
      "     0     0 -127.91375    0   44    0.24165 -127.91375      -     -    1s\n",
      "     0     0 -122.16234    0   46    0.24165 -122.16234      -     -    1s\n",
      "     0     0  -89.88403    0   43    0.24165  -89.88403      -     -    1s\n",
      "     0     0  -89.81076    0   43    0.24165  -89.81076      -     -    1s\n",
      "     0     0  -85.14083    0   52    0.24165  -85.14083      -     -    1s\n",
      "     0     0  -85.05828    0   52    0.24165  -85.05828      -     -    1s\n",
      "     0     0  -84.35188    0   50    0.24165  -84.35188      -     -    1s\n",
      "     0     0  -84.32532    0   49    0.24165  -84.32532      -     -    1s\n",
      "     0     0  -83.74603    0   56    0.24165  -83.74603      -     -    1s\n",
      "     0     0  -83.72393    0   56    0.24165  -83.72393      -     -    1s\n",
      "     0     0  -83.58850    0   51    0.24165  -83.58850      -     -    1s\n",
      "     0     0  -83.58266    0   52    0.24165  -83.58266      -     -    1s\n",
      "     0     0  -83.55947    0   52    0.24165  -83.55947      -     -    1s\n",
      "     0     0  -83.55124    0   52    0.24165  -83.55124      -     -    1s\n",
      "     0     0  -83.55124    0   52    0.24165  -83.55124      -     -    1s\n",
      "     0     2  -83.55124    0   52    0.24165  -83.55124      -     -    1s\n",
      "  4505   104 infeasible   51         0.24165  -26.15115      -  41.3    5s\n",
      "H 8670   943                       0.0946857   -8.55960  9140%  27.3    6s\n",
      "H 8688   891                       0.0811268   -8.55960      -  27.3    6s\n",
      "*14886  2547              98       0.0763023   -0.92937  1318%  22.1    9s\n",
      " 16157  2840 infeasible   65         0.07630   -0.76764  1106%  21.7   10s\n",
      "*16405  2164              93       0.0251305   -0.76764  3155%  21.7   10s\n",
      "*19347  2240             111       0.0142567   -0.54351  3912%  21.6   12s\n",
      "*19421  2258             106       0.0116828   -0.53793  4705%  21.5   12s\n",
      "*20931  2295             105       0.0083803   -0.45924  5580%  21.5   13s\n",
      "*21349  2285             116       0.0047394   -0.43098  9194%  21.4   13s\n",
      "*21350  2285             116       0.0047064   -0.43098  9257%  21.4   13s\n",
      "*21351  2285             115       0.0047021   -0.43098  9266%  21.4   13s\n",
      " 21625  2250   -0.08562   70   30    0.00470   -0.41421  8909%  21.5   16s\n",
      "H21643  2222                       0.0035825   -0.41421      -  21.5   16s\n",
      "H21651  2199                       0.0023064   -0.41421      -  21.5   16s\n",
      "H21653  2157                       0.0001437   -0.41421      -  21.5   16s\n",
      "H21670  2154                       0.0000004   -0.41421      -  21.5   16s\n",
      "H21717  2184                       0.0000003   -0.41421      -  21.5   17s\n",
      "H21959  2184                       0.0000003   -0.41421      -  21.6   17s\n",
      " 26927  2240     cutoff   70         0.00000   -0.19989      -  22.0   20s\n",
      " 36806  2531   -0.00399   75   31    0.00000   -0.05929      -  22.8   25s\n",
      " 45301  2821   -0.01161   74   31    0.00000   -0.02421      -  23.1   30s\n",
      " 54792  2639     cutoff   75         0.00000   -0.01042      -  23.3   35s\n",
      " 63798  2881     cutoff   81         0.00000   -0.00431      -  23.5   40s\n",
      " 73497  3086   -0.00075   81   30    0.00000   -0.00228      -  23.0   45s\n",
      " 81701  2908     cutoff   85         0.00000   -0.00131      -  22.5   50s\n",
      " 90010  2429     cutoff   94         0.00000   -0.00084      -  22.1   55s\n",
      " 100442   804    0.00000   92    -    0.00000   -0.00024      -  21.5   61s\n",
      "*102622   804              92      -0.0000022   -0.00015  6931%  21.3   62s\n",
      "*104490   820              92      -0.0000031   -0.00009  2882%  21.1   62s\n",
      "*104910   724              86      -0.0000031   -0.00009  2735%  21.0   63s\n",
      "*106869   668              92      -0.0000032   -0.00005  1441%  20.8   64s\n",
      "*107582   674              92      -0.0000034   -0.00005  1290%  20.7   64s\n",
      "*107801   682              92      -0.0000036   -0.00005  1197%  20.7   64s\n",
      " 108486   585   -0.00001   89   22   -0.00000   -0.00004   923%  20.6   65s\n",
      "*109231   587              87      -0.0000044   -0.00003   652%  20.6   65s\n",
      "*111177   126              87      -0.0000045   -0.00002   354%  20.4   66s\n",
      "*112306     0              90      -0.0000045   -0.00000  0.00%  20.3   66s\n",
      "\n",
      "Cutting planes:\n",
      "  Gomory: 3\n",
      "  Flow cover: 3\n",
      "  RLT: 21\n",
      "  Relax-and-lift: 5\n",
      "  PSD: 1\n",
      "\n",
      "Explored 112307 nodes (2275279 simplex iterations) in 66.86 seconds (43.02 work units)\n",
      "Thread count was 16 (of 16 available processors)\n",
      "\n",
      "Solution count 10: -4.52201e-06 -4.47565e-06 -4.44435e-06 ... 3.25602e-07\n",
      "\n",
      "Optimal solution found (tolerance 1.00e-04)\n",
      "Best objective -2.589205239466e-06, best bound -4.522012212431e-06, gap 74.6487%\n"
     ]
    }
   ],
   "source": [
    "bound, parameters = verifier.verify_stability_sufficient(guess=mpc_controller.xs, feasibility_tol=1e-6, int_feas_tol=1e-6, optimality_tol=1e-6)"
   ]
  },
  {
   "cell_type": "code",
   "execution_count": 34,
   "id": "willing-attribute",
   "metadata": {},
   "outputs": [
    {
     "name": "stdout",
     "output_type": "stream",
     "text": [
      "Stability bound: -4.522012212431168e-06 at [0.05007 5.00027], should be >=0 for stability\n"
     ]
    }
   ],
   "source": [
    "print(f'Stability bound: {bound} at {parameters}, should be >=0 for stability')"
   ]
  },
  {
   "cell_type": "code",
   "execution_count": 35,
   "id": "tough-courage",
   "metadata": {},
   "outputs": [
    {
     "name": "stdout",
     "output_type": "stream",
     "text": [
      "Set parameter IntFeasTol to value 1e-06\n"
     ]
    },
    {
     "name": "stderr",
     "output_type": "stream",
     "text": [
      "QP Ineq Bound: 100%|██████████| 68/68 [00:00<00:00, 343.84it/s]\n",
      "QP Dual Bound: 100%|██████████| 68/68 [00:00<00:00, 824.44it/s]\n",
      "QP Output Bound: 100%|██████████| 1/1 [00:00<00:00, 104.09it/s]\n"
     ]
    },
    {
     "name": "stdout",
     "output_type": "stream",
     "text": [
      "Set parameter NonConvex to value 2\n",
      "Gurobi Optimizer version 9.5.0 build v9.5.0rc5 (mac64[x86])\n",
      "Thread count: 8 physical cores, 16 logical processors, using up to 16 threads\n",
      "Optimize a model with 507 rows, 372 columns and 1122 nonzeros\n",
      "Model fingerprint: 0xab0c5615\n",
      "Model has 66 quadratic objective terms\n",
      "Model has 146 general constraints\n",
      "Variable types: 299 continuous, 73 integer (73 binary)\n",
      "Coefficient statistics:\n",
      "  Matrix range     [2e-04, 1e+06]\n",
      "  Objective range  [0e+00, 0e+00]\n",
      "  QObjective range [2e+00, 3e+02]\n",
      "  Bounds range     [7e-02, 1e+06]\n",
      "  RHS range        [7e-18, 1e+06]\n",
      "  GenCon rhs range [7e-18, 7e+00]\n",
      "  GenCon coe range [7e-02, 1e+00]\n",
      "\n",
      "User MIP start produced solution with objective 9.33903 (0.19s)\n",
      "User MIP start produced solution with objective 0.22808 (0.20s)\n",
      "User MIP start produced solution with objective 0.22808 (0.21s)\n",
      "User MIP start produced solution with objective 0.217678 (0.69s)\n",
      "Loaded user MIP start with objective 0.217686\n",
      "Processed MIP start in 1.21 seconds (1.17 work units)\n",
      "\n",
      "Presolve removed 322 rows and 185 columns\n",
      "Presolve time: 0.01s\n",
      "Presolved: 222 rows, 254 columns, 724 nonzeros\n",
      "Presolved model has 43 SOS constraint(s)\n",
      "Presolved model has 32 quadratic constraint(s)\n",
      "Presolved model has 34 bilinear constraint(s)\n",
      "Variable types: 205 continuous, 49 integer (49 binary)\n",
      "\n",
      "Root relaxation: objective -1.928780e+02, 248 iterations, 0.00 seconds (0.00 work units)\n",
      "\n",
      "    Nodes    |    Current Node    |     Objective Bounds      |     Work\n",
      " Expl Unexpl |  Obj  Depth IntInf | Incumbent    BestBd   Gap | It/Node Time\n",
      "\n",
      "     0     0 -192.87800    0   44    0.21769 -192.87800      -     -    1s\n",
      "     0     0 -151.34271    0   45    0.21769 -151.34271      -     -    1s\n",
      "     0     0 -143.42259    0   48    0.21769 -143.42259      -     -    1s\n",
      "     0     0 -111.50139    0   48    0.21769 -111.50139      -     -    1s\n",
      "     0     0 -110.91388    0   48    0.21769 -110.91388      -     -    1s\n",
      "     0     0 -101.16287    0   51    0.21769 -101.16287      -     -    1s\n",
      "     0     0 -101.02848    0   53    0.21769 -101.02848      -     -    1s\n",
      "     0     0  -99.81161    0   55    0.21769  -99.81161      -     -    1s\n",
      "     0     0  -99.75145    0   57    0.21769  -99.75145      -     -    1s\n",
      "     0     0  -98.28153    0   51    0.21769  -98.28153      -     -    1s\n",
      "     0     0  -98.15070    0   55    0.21769  -98.15070      -     -    1s\n",
      "     0     0  -96.99581    0   53    0.21769  -96.99581      -     -    1s\n",
      "     0     0  -96.97664    0   53    0.21769  -96.97664      -     -    1s\n",
      "     0     0  -96.95335    0   54    0.21769  -96.95335      -     -    1s\n",
      "     0     0  -96.95175    0   54    0.21769  -96.95175      -     -    1s\n",
      "     0     0  -96.94877    0   54    0.21769  -96.94877      -     -    1s\n",
      "     0     0  -96.94877    0   54    0.21769  -96.94877      -     -    1s\n",
      "     0     2  -96.94877    0   54    0.21769  -96.94877      -     -    1s\n",
      "  3237    70  -45.50138   30   42    0.21769  -47.44154      -  47.3    5s\n",
      "*14353  1973             126       0.1122294   -1.92052  1811%  21.2    9s\n",
      "*14354  1973             125       0.1122196   -1.92052  1811%  21.2    9s\n",
      " 15665  2277    0.05015   76   34    0.11222   -1.26534  1228%  20.6   10s\n",
      "H16682  1770                       0.0014225   -1.17163      -  20.3   13s\n",
      " 19995  1882   -0.18959   68   34    0.00142   -0.61961      -  20.7   15s\n",
      "*25227  2122             126       0.0002461   -0.31160      -  20.8   17s\n",
      " 29741  1999   -0.00778   79   32    0.00025   -0.15306      -  20.6   20s\n",
      " 40984  2708     cutoff   83         0.00025   -0.03457      -  19.0   25s\n",
      "*46486  2916             103       0.0000056   -0.02161      -  18.4   27s\n",
      "*46488  2916             103       0.0000056   -0.02161      -  18.4   27s\n",
      "*46489  2916             103       0.0000055   -0.02161      -  18.4   27s\n",
      " 53315  3244     cutoff   85         0.00001   -0.01262      -  18.1   30s\n",
      "*65519  3558             111      -0.0000021   -0.00580      -  17.8   34s\n",
      " 65618  3552   -0.00237   85   34   -0.00000   -0.00573      -  17.8   35s\n",
      " 76823  3391   -0.00058   84   34   -0.00000   -0.00319      -  17.5   40s\n",
      " 88967  2673   -0.00023   88   33   -0.00000   -0.00148      -  17.5   45s\n",
      "*98097  1830             117      -0.0000033   -0.00068      -  17.6   49s\n",
      "*98102  1829             116      -0.0000033   -0.00068      -  17.6   49s\n",
      " 98556  1563     cutoff   94        -0.00000   -0.00056      -  17.5   50s\n",
      "*104029  1133             114      -0.0000034   -0.00018  5206%  17.3   51s\n",
      "*104584  1052             112      -0.0000037   -0.00017  4420%  17.3   52s\n",
      "*104841  1027             110      -0.0000043   -0.00016  3719%  17.2   52s\n",
      "*108435   799             110      -0.0000044   -0.00008  1627%  17.1   54s\n",
      " 109133   348     cutoff  100        -0.00000   -0.00005  1022%  17.1   55s\n",
      "*110054   350             111      -0.0000045   -0.00005   915%  17.0   55s\n",
      "*110327   350             108      -0.0000045   -0.00004   886%  17.0   55s\n",
      "*111105     0             112      -0.0000045   -0.00003   497%  17.0   55s\n",
      "\n",
      "Cutting planes:\n",
      "  Gomory: 8\n",
      "  Implied bound: 1\n",
      "  MIR: 1\n",
      "  Flow cover: 3\n",
      "  RLT: 23\n",
      "  Relax-and-lift: 3\n",
      "  PSD: 2\n",
      "\n",
      "Explored 111861 nodes (1893901 simplex iterations) in 55.93 seconds (31.86 work units)\n",
      "Thread count was 16 (of 16 available processors)\n",
      "\n",
      "Solution count 10: -4.53835e-06 -4.52703e-06 -4.46113e-06 ... -2.13215e-06\n",
      "\n",
      "Optimal solution found (tolerance 1.00e-04)\n",
      "Best objective -2.652123482518e-06, best bound -4.538347123935e-06, gap 71.1213%\n"
     ]
    }
   ],
   "source": [
    "bound, parameters = verifier.verify_stability_direct(guess=mpc_controller.xs, feasibility_tol=1e-6, int_feas_tol=1e-6, optimality_tol=1e-6)"
   ]
  },
  {
   "cell_type": "code",
   "execution_count": 36,
   "id": "6ae6cef7-ca04-4216-b43e-b0dddf756ba0",
   "metadata": {},
   "outputs": [
    {
     "name": "stdout",
     "output_type": "stream",
     "text": [
      "Stability bound: -4.538347123935405e-06 at [0.05006 5.00026], should be >=0 for stability\n"
     ]
    }
   ],
   "source": [
    "print(f'Stability bound: {bound} at {parameters}, should be >=0 for stability')"
   ]
  },
  {
   "cell_type": "code",
   "execution_count": 37,
   "id": "17302604-78b0-4175-92e9-2a233610b160",
   "metadata": {},
   "outputs": [],
   "source": [
    "faces = 30\n",
    "angles = np.linspace(0, 2*np.pi, faces+1)[:faces]\n",
    "A = np.column_stack((np.cos(angles), np.sin(angles)))\n",
    "b = np.zeros(faces)\n",
    "seed_poly = Polytope(A, b)"
   ]
  },
  {
   "cell_type": "code",
   "execution_count": 38,
   "id": "046d4e83-f8f3-447d-82ee-c72c9c6d9cad",
   "metadata": {},
   "outputs": [
    {
     "name": "stderr",
     "output_type": "stream",
     "text": [
      "QP Ineq Bound: 100%|██████████| 68/68 [00:00<00:00, 345.95it/s]\n",
      "QP Dual Bound: 100%|██████████| 68/68 [00:00<00:00, 777.60it/s]\n",
      "QP Output Bound: 100%|██████████| 1/1 [00:00<00:00, 197.01it/s]\n",
      "100%|██████████| 30/30 [00:04<00:00,  6.27it/s]\n"
     ]
    }
   ],
   "source": [
    "outer_approx = verifier.stable_region_outer_approx(seed_poly, guess=mpc_controller.xs)"
   ]
  },
  {
   "cell_type": "code",
   "execution_count": 39,
   "id": "3d859942-a880-4fac-ad5b-b986ce0b9da6",
   "metadata": {},
   "outputs": [
    {
     "name": "stdout",
     "output_type": "stream",
     "text": [
      "Outer Approximation of Stable Set: A =\n",
      "[[ 1.       0.     ]\n",
      " [ 0.97815  0.20791]\n",
      " [ 0.91355  0.40674]\n",
      " [ 0.80902  0.58779]\n",
      " [ 0.66913  0.74314]\n",
      " [ 0.5      0.86603]\n",
      " [ 0.30902  0.95106]\n",
      " [ 0.10453  0.99452]\n",
      " [-0.10453  0.99452]\n",
      " [-0.30902  0.95106]\n",
      " [-0.5      0.86603]\n",
      " [-0.66913  0.74314]\n",
      " [-0.80902  0.58779]\n",
      " [-0.91355  0.40674]\n",
      " [-0.97815  0.20791]\n",
      " [-1.       0.     ]\n",
      " [-0.97815 -0.20791]\n",
      " [-0.91355 -0.40674]\n",
      " [-0.80902 -0.58779]\n",
      " [-0.66913 -0.74314]\n",
      " [-0.5     -0.86603]\n",
      " [-0.30902 -0.95106]\n",
      " [-0.10453 -0.99452]\n",
      " [ 0.10453 -0.99452]\n",
      " [ 0.30902 -0.95106]\n",
      " [ 0.5     -0.86603]\n",
      " [ 0.66913 -0.74314]\n",
      " [ 0.80902 -0.58779]\n",
      " [ 0.91355 -0.40674]\n",
      " [ 0.97815 -0.20791]]\n",
      "b =\n",
      "[ 0.2      1.50843  2.80704  4.02183  5.06085  5.87869  6.44444  6.72883\n",
      "  6.71915  6.41581  5.83206  4.99342  3.93655  2.70764  1.36038  0.\n",
      " -0.      -0.      -0.      -0.      -0.      -0.      -0.       0.01312\n",
      "  0.03879  0.06276  0.08399  0.10155  0.11467  0.12278]\n"
     ]
    }
   ],
   "source": [
    "print('Outer Approximation of Stable Set: A =')\n",
    "print(outer_approx.A)\n",
    "print('b =')\n",
    "print(outer_approx.b)"
   ]
  },
  {
   "cell_type": "code",
   "execution_count": 41,
   "id": "9ec7e37a-b401-4061-9e33-46ced7ab34b6",
   "metadata": {},
   "outputs": [
    {
     "data": {
      "image/png": "[encoded data removed]",
      "text/plain": [
       "<Figure size 122.04x75.4249 with 2 Axes>"
      ]
     },
     "metadata": {
      "needs_background": "light"
     },
     "output_type": "display_data"
    }
   ],
   "source": [
    "outer_approx_poly = polytope.Polytope(outer_approx.A, outer_approx.b)\n",
    "\n",
    "fig, ax = plt.subplots()\n",
    "outer_approx_poly.plot(ax=ax, color=(1,0,0,0), alpha=None, linewidth=1, edgecolor='orange')\n",
    "cs = ax.contourf(x, y, np.abs(z_opt - z_net), levels=100, zorder=-1)\n",
    "for c in cs.collections:\n",
    "    c.set_edgecolor('face')\n",
    "ax.plot(parameters_diff[0], parameters_diff[1], 'ro', markersize=2)\n",
    "fig.colorbar(cs, ticks=[0, 0.1, 0.2])\n",
    "ax.set_title('Approximation Error')\n",
    "ax.set_xlabel(r'$i_L$')\n",
    "ax.set_ylabel(r'$v_O$')\n",
    "ax.set_ylim(bottom=0)\n",
    "ax.legend([r'$\\bar{\\Omega}_0^\\pi$'], bbox_to_anchor=(1.4, 1), loc='upper left', borderaxespad=0.)\n",
    "plt.savefig('figures/approx_error_outer.pdf', bbox_inches='tight', pad_inches=0)\n",
    "plt.show()"
   ]
  },
  {
   "cell_type": "code",
   "execution_count": 42,
   "id": "f571bc60-fb17-40d5-b72f-dd5de8e28b83",
   "metadata": {},
   "outputs": [],
   "source": [
    "experimental_data = pd.read_csv('experiment.csv')\n",
    "experimental_data['Volt'][experimental_data['Volt'] < 0] = float('NaN')"
   ]
  },
  {
   "cell_type": "code",
   "execution_count": 43,
   "id": "ee897afa-cbfb-4c31-a33a-12b024e87ecf",
   "metadata": {},
   "outputs": [
    {
     "data": {
      "image/png": "[encoded data removed]",
      "text/plain": [
       "<Figure size 244.08x150.85 with 2 Axes>"
      ]
     },
     "metadata": {
      "needs_background": "light"
     },
     "output_type": "display_data"
    }
   ],
   "source": [
    "latexify.latexify()\n",
    "\n",
    "color = 'tab:blue'\n",
    "fig, ax1 = plt.subplots()\n",
    "ax1.plot(experimental_data['second'] * 1e3, experimental_data['Volt'], color=color, linewidth=0.3)\n",
    "ax1.set_xlabel('Time [ms]')\n",
    "ax1.set_ylabel(r'$v_O$ [V]', color=color)\n",
    "ax1.tick_params(axis='y', labelcolor=color)\n",
    "\n",
    "color = 'tab:red'\n",
    "ax2 = ax1.twinx()\n",
    "ax2.plot(experimental_data['second'] * 1e3, experimental_data['Ampere'], color=color, linewidth=0.3)\n",
    "ax2.set_ylabel(r'$i_L$ [A]', color=color)\n",
    "ax2.tick_params(axis='y', labelcolor=color)\n",
    "\n",
    "plt.savefig('figures/experiment.pdf', bbox_inches='tight', pad_inches=0.01)\n",
    "plt.show()"
   ]
  },
  {
   "cell_type": "code",
   "execution_count": null,
   "id": "e1dfd70c-cba3-4e6e-a2e6-bddb47e92d6d",
   "metadata": {},
   "outputs": [],
   "source": []
  }
 ],
 "metadata": {
  "kernelspec": {
   "display_name": "Python 3",
   "language": "python",
   "name": "python3"
  },
  "language_info": {
   "codemirror_mode": {
    "name": "ipython",
    "version": 3
   },
   "file_extension": ".py",
   "mimetype": "text/x-python",
   "name": "python",
   "nbconvert_exporter": "python",
   "pygments_lexer": "ipython3",
   "version": "3.8.12"
  }
 },
 "nbformat": 4,
 "nbformat_minor": 5
}
