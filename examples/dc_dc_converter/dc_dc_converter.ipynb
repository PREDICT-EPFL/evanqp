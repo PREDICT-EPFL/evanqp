{
 "cells": [
  {
   "cell_type": "code",
   "execution_count": 1,
   "id": "diverse-meaning",
   "metadata": {},
   "outputs": [],
   "source": [
    "%load_ext autoreload\n",
    "%autoreload 2"
   ]
  },
  {
   "cell_type": "code",
   "execution_count": 2,
   "id": "warming-tomato",
   "metadata": {},
   "outputs": [],
   "source": [
    "import numpy as np\n",
    "import cvxpy as cp\n",
    "import polytope as pc\n",
    "import torch\n",
    "import torch.nn as nn\n",
    "import torch.nn.functional as F\n",
    "import torch.optim as optim\n",
    "from torch.utils.data import Dataset, DataLoader, random_split\n",
    "from torch.optim.lr_scheduler import StepLR\n",
    "from cvxpylayers.torch import CvxpyLayer\n",
    "from tqdm import tqdm\n",
    "import matplotlib.pyplot as plt\n",
    "\n",
    "from evanqp import CvxpyProblem, MPCProblem, Polytope, RandomSampler, FFNN, Verifier\n",
    "from evanqp.layers import BoundArithmetic, BaseLayer, SeqLayer, LinearLayer, ReluLayer, QPLayer\n",
    "from utils import dlqr"
   ]
  },
  {
   "cell_type": "code",
   "execution_count": 3,
   "id": "crucial-peripheral",
   "metadata": {},
   "outputs": [],
   "source": [
    "torch.manual_seed(4)\n",
    "np.random.seed(4)\n",
    "\n",
    "torch.backends.cuda.matmul.allow_tf32 = False\n",
    "torch.backends.cudnn.allow_tf32 = False\n",
    "\n",
    "import latexify\n",
    "latexify.latexify(fig_width=3.39/2)"
   ]
  },
  {
   "cell_type": "code",
   "execution_count": 4,
   "id": "french-johns",
   "metadata": {},
   "outputs": [],
   "source": [
    "class DCDCConverter(MPCProblem):\n",
    "    def __init__(self, N=10):\n",
    "        self.N = N\n",
    "\n",
    "        n = 2\n",
    "        m = 1\n",
    "\n",
    "        # Linearized dynamics\n",
    "        self.A = np.array([[0.971356387900839, -0.009766890567613], [1.731870774203751, 0.970462385352837]])\n",
    "        self.B = np.array([[0.148778899882612], [0.180827260808426]])\n",
    "        self.C = np.array([[0, 1]])\n",
    "        \n",
    "        # Steady state\n",
    "        ref = 5.0\n",
    "        ss = np.linalg.solve(np.block([[self.A - np.eye(n), self.B],[self.C, 0]]), np.array([0, 0, ref]))\n",
    "        self.xs = ss[0:2]\n",
    "        self.us = ss[2:3]\n",
    "\n",
    "        # Weights\n",
    "        self.Q = np.diag([90, 1])\n",
    "        self.R = np.array([[1]])\n",
    "        self.K, self.P, _ = dlqr(self.A, self.B, self.Q, self.R)\n",
    "        \n",
    "        # Constraints\n",
    "        self.x_max = np.array([0.2, 7.0])\n",
    "        self.x_min = np.array([0.0, 0.0])\n",
    "        self.u_max = np.array([1.0])\n",
    "        self.u_min = np.array([0.0])\n",
    "        \n",
    "        # Terminal Set computation (shifted)\n",
    "        # state constraints\n",
    "        Hx = np.vstack((np.eye(n), -np.eye(n)))\n",
    "        hx = np.concatenate((self.x_max-self.xs, -(self.x_min-self.xs)))\n",
    "        # input constraints\n",
    "        Hu = np.vstack((np.eye(m), -np.eye(m)))\n",
    "        hu = np.concatenate((self.u_max-self.us, -(self.u_min-self.us)))\n",
    "        # closed loop dynamics\n",
    "        Ak = self.A - self.B @ self.K\n",
    "        # state & input constraints\n",
    "        HH = np.vstack((Hx, -Hu @ self.K))\n",
    "        hh = np.concatenate((hx, hu))\n",
    "        # compute maximal invariant set\n",
    "        O = pc.Polytope(HH, hh)\n",
    "        while True:\n",
    "            O_prev = O\n",
    "            # pre-set\n",
    "            O = O.intersect(pc.Polytope(O.A @ Ak, O.b))\n",
    "            if O == O_prev:\n",
    "                break\n",
    "        self.F, self.f = O.A, O.b\n",
    "\n",
    "        self.x0 = cp.Parameter(n, name='x0')\n",
    "        self.x = cp.Variable((N + 1, n), name='x')\n",
    "        self.u0 = cp.Variable(m, name='u0')\n",
    "        self.u = cp.Variable((N, m), name='u')\n",
    "\n",
    "        objective = cp.quad_form(self.x[N, :] - self.xs, self.P)\n",
    "        constraints = [self.x0 == self.x[0, :], self.u0 == self.u[0, :]]\n",
    "\n",
    "        for i in range(N):\n",
    "            objective += cp.quad_form(self.x[i, :] - self.xs, self.Q) + cp.quad_form(self.u[i, :] - self.us, self.R)\n",
    "            constraints += [self.x[i + 1, :] == self.A @ self.x[i, :] + self.B @ self.u[i, :]]\n",
    "            constraints += [self.x_min <= self.x[i, :], self.x[i, :] <= self.x_max]\n",
    "            constraints += [self.u_min <= self.u[i, :], self.u[i, :] <= self.u_max]\n",
    "        constraints += [self.F @ (self.x[N, :] - self.xs) <= self.f]\n",
    "\n",
    "        self.objective = cp.Minimize(objective)\n",
    "        self.prob = cp.Problem(self.objective, constraints)\n",
    "\n",
    "    def problem(self):\n",
    "        return self.prob\n",
    "\n",
    "    def parameters(self):\n",
    "        return [self.x0]\n",
    "\n",
    "    def variables(self):\n",
    "        return [self.u0]\n",
    "\n",
    "    def solve(self, x0):\n",
    "        self.x0.value = x0\n",
    "        try:\n",
    "            self.prob.solve(solver=cp.GUROBI)\n",
    "        except:\n",
    "            pass\n",
    "\n",
    "        solution = {self.u0: self.u0.value,\n",
    "                    self.u: self.u.value,\n",
    "                    self.x: self.x.value,\n",
    "                    self.objective: self.objective.value}\n",
    "        return solution\n",
    "\n",
    "    def reduced_objective(self):\n",
    "        objective = cp.quad_form(self.x[self.N, :] - self.xs, self.P)\n",
    "        for i in range(1, self.N):\n",
    "            objective += cp.quad_form(self.x[i, :] - self.xs, self.Q) + cp.quad_form(self.u[i, :] - self.us, self.R)\n",
    "        return cp.Minimize(objective)"
   ]
  },
  {
   "cell_type": "code",
   "execution_count": 5,
   "id": "wanted-costs",
   "metadata": {},
   "outputs": [],
   "source": [
    "mpc_controller = DCDCConverter()"
   ]
  },
  {
   "cell_type": "code",
   "execution_count": 6,
   "id": "external-sharp",
   "metadata": {},
   "outputs": [
    {
     "name": "stderr",
     "output_type": "stream",
     "text": [
      "  0%|          | 0/100 [00:00<?, ?it/s]"
     ]
    },
    {
     "name": "stdout",
     "output_type": "stream",
     "text": [
      "Set parameter Username\n",
      "Academic license - for non-commercial use only - expires 2022-12-04\n"
     ]
    },
    {
     "name": "stderr",
     "output_type": "stream",
     "text": [
      " 90%|█████████ | 90/100 [01:17<00:08,  1.17it/s]/usr/local/lib/python3.8/site-packages/cvxpy/problems/problem.py:1278: UserWarning: Solution may be inaccurate. Try another solver, adjusting the solver settings, or solve with verbose=True for more information.\n",
      "  warnings.warn(\n",
      "100%|██████████| 100/100 [01:23<00:00,  1.19it/s]\n"
     ]
    }
   ],
   "source": [
    "x1 = np.linspace(0, 0.2, 100)\n",
    "x2 = np.linspace(0, 7, 100)\n",
    "x, y = np.meshgrid(x1, x2)\n",
    "z_opt = np.zeros(x.shape)\n",
    "for i in tqdm(range(x.shape[0])):\n",
    "    for j in range(x.shape[1]):\n",
    "        sol = mpc_controller.solve(np.array([x[i, j], y[i, j]]))\n",
    "        u0 = sol[mpc_controller.variables()[0]]\n",
    "        z_opt[i, j] = u0 if u0 is not None else None"
   ]
  },
  {
   "cell_type": "code",
   "execution_count": 7,
   "id": "metropolitan-brunswick",
   "metadata": {},
   "outputs": [
    {
     "data": {
      "image/png": "[encoded data removed]",
      "text/plain": [
       "<Figure size 122.04x75.4249 with 2 Axes>"
      ]
     },
     "metadata": {
      "needs_background": "light"
     },
     "output_type": "display_data"
    }
   ],
   "source": [
    "fig, ax = plt.subplots()\n",
    "cs = ax.contourf(x, y, z_opt, levels=100)\n",
    "for c in cs.collections:\n",
    "    c.set_edgecolor('face')\n",
    "fig.colorbar(cs, ticks=[0, 0.25, 0.5, 0.75, 1])\n",
    "ax.set_title('Original Controller')\n",
    "ax.set_xlabel(r'$i_L$')\n",
    "ax.set_ylabel(r'$v_O$')\n",
    "plt.savefig('figures/original.pdf', bbox_inches='tight', pad_inches=0)\n",
    "plt.show()"
   ]
  },
  {
   "cell_type": "code",
   "execution_count": 8,
   "id": "removed-bridal",
   "metadata": {},
   "outputs": [],
   "source": [
    "parameter_set = Polytope(np.vstack((np.eye(2), -np.eye(2))), np.concatenate((mpc_controller.x_max, -mpc_controller.x_min)))"
   ]
  },
  {
   "cell_type": "code",
   "execution_count": 9,
   "id": "directed-latitude",
   "metadata": {},
   "outputs": [
    {
     "name": "stderr",
     "output_type": "stream",
     "text": [
      "  0%|          | 15/5000 [00:00<01:05, 76.12it/s]/usr/local/lib/python3.8/site-packages/cvxpy/problems/problem.py:1278: UserWarning: Solution may be inaccurate. Try another solver, adjusting the solver settings, or solve with verbose=True for more information.\n",
      "  warnings.warn(\n",
      "100%|██████████| 5000/5000 [00:47<00:00, 104.53it/s]\n"
     ]
    }
   ],
   "source": [
    "sampler = RandomSampler(mpc_controller, parameter_set)\n",
    "parameter_samples, variable_samples = sampler.sample(5000, seed=0)"
   ]
  },
  {
   "cell_type": "code",
   "execution_count": 10,
   "id": "adjustable-friendly",
   "metadata": {},
   "outputs": [],
   "source": [
    "parameter_samples = torch.from_numpy(parameter_samples).float()\n",
    "variable_samples  = torch.from_numpy(variable_samples).float()\n",
    "\n",
    "torch.save(parameter_samples, 'parameter_samples.pt')\n",
    "torch.save(variable_samples, 'variable_samples.pt')"
   ]
  },
  {
   "cell_type": "code",
   "execution_count": 11,
   "id": "absolute-right",
   "metadata": {},
   "outputs": [],
   "source": [
    "parameter_samples = torch.load('parameter_samples.pt')\n",
    "variable_samples  = torch.load('variable_samples.pt')"
   ]
  },
  {
   "cell_type": "code",
   "execution_count": 12,
   "id": "blind-charter",
   "metadata": {},
   "outputs": [],
   "source": [
    "class DCDCConverterDataset(Dataset):\n",
    "    def __init__(self, parameter_samples, variable_samples):\n",
    "        self.parameter_samples = parameter_samples\n",
    "        self.variable_samples = variable_samples\n",
    "\n",
    "    def __len__(self):\n",
    "        return self.parameter_samples.shape[0]\n",
    "\n",
    "    def __getitem__(self, idx):\n",
    "        return self.parameter_samples[idx, :], self.variable_samples[idx, :]"
   ]
  },
  {
   "cell_type": "code",
   "execution_count": 13,
   "id": "immediate-lambda",
   "metadata": {},
   "outputs": [],
   "source": [
    "dataset = DCDCConverterDataset(parameter_samples, variable_samples)\n",
    "\n",
    "seed = 1\n",
    "train_set_ratio = 0.8\n",
    "\n",
    "train_set_size = int(len(dataset) * train_set_ratio)\n",
    "test_set_size = len(dataset) - train_set_size\n",
    "train_set, test_set = random_split(dataset, [train_set_size, test_set_size], generator=torch.Generator().manual_seed(seed))"
   ]
  },
  {
   "cell_type": "code",
   "execution_count": 14,
   "id": "complicated-philadelphia",
   "metadata": {},
   "outputs": [],
   "source": [
    "class QPLayerProblem(CvxpyProblem):\n",
    "    def __init__(self, H, nz, eps=1e-4):\n",
    "        self.z = cp.Variable(nz)\n",
    "        self.x = cp.Parameter(nz)\n",
    "        self.prob = cp.Problem(cp.Minimize(cp.sum_squares(H @ self.z + self.x) + eps * cp.sum_squares(self.z)), [self.z >= 0])\n",
    "        \n",
    "    def problem(self):\n",
    "        return self.prob\n",
    "\n",
    "    def parameters(self):\n",
    "        return [self.x]\n",
    "\n",
    "    def variables(self):\n",
    "        return [self.z]\n",
    "    \n",
    "    def solve(self, x):\n",
    "        self.x.value = x\n",
    "        self.prob.solve(solver=cp.GUROBI)\n",
    "\n",
    "        solution = {self.z: self.z.value}\n",
    "        return solution\n",
    "\n",
    "\n",
    "class QPModule(nn.Module):\n",
    "    def __init__(self, nz, eps=1e-4):\n",
    "        super(QPModule, self).__init__()\n",
    "        self.H = nn.Parameter(torch.randn(nz, nz))\n",
    "        self.nz = nz\n",
    "        self.eps = eps\n",
    "        H = cp.Parameter((nz, nz))\n",
    "        prob = QPLayerProblem(H, nz, eps)\n",
    "        self.layer = CvxpyLayer(prob.problem(), [H] + prob.parameters(), prob.variables())\n",
    "\n",
    "    def forward(self, x):\n",
    "        return self.layer(self.H, x, solver_args={'solve_method':'ECOS'})[0]\n",
    "        \n",
    "    def milp_layer(self, depth):\n",
    "        prob = QPLayerProblem(self.H.detach().cpu().numpy(), self.nz, self.eps)\n",
    "        return QPLayer(prob, depth)"
   ]
  },
  {
   "cell_type": "code",
   "execution_count": 15,
   "id": "infrared-marriage",
   "metadata": {},
   "outputs": [],
   "source": [
    "class SatModule(nn.Module):\n",
    "    def __init__(self, num_features, x_min, x_max):\n",
    "        super(SatModule, self).__init__()\n",
    "        self.num_features = num_features\n",
    "        self.x_min = x_min\n",
    "        self.x_max = x_max\n",
    "        \n",
    "    def forward(self, x):\n",
    "        return torch.max(torch.min(x, torch.from_numpy(self.x_max).float()), torch.from_numpy(self.x_min).float())\n",
    "    \n",
    "    def milp_layer(self, depth):\n",
    "        return SeqLayer([\n",
    "            LinearLayer(np.eye(self.num_features), -self.x_min, depth),\n",
    "            ReluLayer(self.num_features, depth),\n",
    "            LinearLayer(np.eye(self.num_features), self.x_min, depth),\n",
    "            LinearLayer(-np.eye(self.num_features), self.x_max, depth),\n",
    "            ReluLayer(self.num_features, depth),\n",
    "            LinearLayer(-np.eye(self.num_features), self.x_max, depth)\n",
    "        ], depth)"
   ]
  },
  {
   "cell_type": "code",
   "execution_count": 16,
   "id": "minute-regular",
   "metadata": {},
   "outputs": [],
   "source": [
    "nz = 3\n",
    "\n",
    "net = nn.Sequential(\n",
    "    nn.Linear(mpc_controller.parameter_size(), nz),\n",
    "    QPModule(nz),\n",
    "    nn.Linear(nz, mpc_controller.variable_size()),\n",
    "    # SatModule(mpc_controller.variable_size(), mpc_controller.u_min, mpc_controller.u_max)\n",
    ")"
   ]
  },
  {
   "cell_type": "code",
   "execution_count": 17,
   "id": "native-ladder",
   "metadata": {},
   "outputs": [],
   "source": [
    "def loss_function(model, data, target):\n",
    "    output = model(data)\n",
    "    loss = F.mse_loss(output, target)\n",
    "    loss += 1e2 / len(data) * F.mse_loss(model(torch.from_numpy(mpc_controller.xs).float().to(data.device)), torch.from_numpy(mpc_controller.us).float().to(data.device))\n",
    "    return loss"
   ]
  },
  {
   "cell_type": "code",
   "execution_count": 18,
   "id": "configured-canada",
   "metadata": {},
   "outputs": [],
   "source": [
    "def train(model, device, train_loader, optimizer, epoch):\n",
    "    model.train()\n",
    "    train_loss = 0\n",
    "    for batch_idx, (data, target) in enumerate(train_loader):\n",
    "        data, target = data.to(device), target.to(device)\n",
    "\n",
    "        optimizer.zero_grad()\n",
    "        loss = loss_function(model, data, target)\n",
    "        loss.backward()\n",
    "        optimizer.step()\n",
    "\n",
    "        train_loss += loss.item()\n",
    "\n",
    "        if batch_idx % 20 == 0:\n",
    "            print('Train Epoch: {} [{}/{} ({:.0f}%)]\\tLoss: {:.6f}'.format(\n",
    "                epoch, batch_idx * len(data),\n",
    "                len(train_loader.dataset), 100. * batch_idx / len(train_loader), loss.item()))\n",
    "\n",
    "    train_loss /= len(train_loader)"
   ]
  },
  {
   "cell_type": "code",
   "execution_count": 19,
   "id": "civil-therapist",
   "metadata": {},
   "outputs": [],
   "source": [
    "def test(model, device, test_loader, epoch):\n",
    "    model.eval()\n",
    "    test_loss = 0\n",
    "    with torch.no_grad():\n",
    "        for data, target in test_loader:\n",
    "            data, target = data.to(device), target.to(device)\n",
    "\n",
    "            test_loss += loss_function(model, data, target).item()\n",
    "\n",
    "    test_loss /= len(test_loader)\n",
    "\n",
    "    print('Test set: Average loss: {:.6f}\\n'.format(test_loss))"
   ]
  },
  {
   "cell_type": "code",
   "execution_count": 20,
   "id": "micro-rehabilitation",
   "metadata": {},
   "outputs": [],
   "source": [
    "use_cuda = torch.cuda.is_available()\n",
    "\n",
    "device = torch.device('cuda' if use_cuda else 'cpu')\n",
    "\n",
    "train_kwargs = {'batch_size': 50}\n",
    "test_kwargs = {'batch_size': 1000}\n",
    "if use_cuda:\n",
    "    cuda_kwargs = {'num_workers': 1,\n",
    "                   'pin_memory': True,\n",
    "                   'shuffle': True}\n",
    "    train_kwargs.update(cuda_kwargs)\n",
    "    test_kwargs.update(cuda_kwargs)\n",
    "    \n",
    "train_loader = DataLoader(train_set, **train_kwargs)\n",
    "test_loader = DataLoader(test_set, **test_kwargs)"
   ]
  },
  {
   "cell_type": "code",
   "execution_count": 21,
   "id": "wicked-hungary",
   "metadata": {
    "scrolled": true
   },
   "outputs": [
    {
     "name": "stdout",
     "output_type": "stream",
     "text": [
      "Train Epoch: 1 [0/4000 (0%)]\tLoss: 0.810637\n",
      "Train Epoch: 1 [1000/4000 (25%)]\tLoss: 0.241078\n",
      "Train Epoch: 1 [2000/4000 (50%)]\tLoss: 0.172683\n",
      "Train Epoch: 1 [3000/4000 (75%)]\tLoss: 0.100165\n",
      "Test set: Average loss: 0.062774\n",
      "\n",
      "Train Epoch: 2 [0/4000 (0%)]\tLoss: 0.070327\n",
      "Train Epoch: 2 [1000/4000 (25%)]\tLoss: 0.043823\n",
      "Train Epoch: 2 [2000/4000 (50%)]\tLoss: 0.041297\n",
      "Train Epoch: 2 [3000/4000 (75%)]\tLoss: 0.040310\n",
      "Test set: Average loss: 0.024074\n",
      "\n",
      "Train Epoch: 3 [0/4000 (0%)]\tLoss: 0.028665\n",
      "Train Epoch: 3 [1000/4000 (25%)]\tLoss: 0.014248\n",
      "Train Epoch: 3 [2000/4000 (50%)]\tLoss: 0.013463\n",
      "Train Epoch: 3 [3000/4000 (75%)]\tLoss: 0.012999\n",
      "Test set: Average loss: 0.008199\n",
      "\n",
      "Train Epoch: 4 [0/4000 (0%)]\tLoss: 0.009152\n",
      "Train Epoch: 4 [1000/4000 (25%)]\tLoss: 0.006976\n",
      "Train Epoch: 4 [2000/4000 (50%)]\tLoss: 0.006615\n",
      "Train Epoch: 4 [3000/4000 (75%)]\tLoss: 0.008353\n",
      "Test set: Average loss: 0.004899\n",
      "\n",
      "Train Epoch: 5 [0/4000 (0%)]\tLoss: 0.004428\n",
      "Train Epoch: 5 [1000/4000 (25%)]\tLoss: 0.005916\n",
      "Train Epoch: 5 [2000/4000 (50%)]\tLoss: 0.006408\n",
      "Train Epoch: 5 [3000/4000 (75%)]\tLoss: 0.008534\n",
      "Test set: Average loss: 0.004838\n",
      "\n",
      "Train Epoch: 6 [0/4000 (0%)]\tLoss: 0.004402\n",
      "Train Epoch: 6 [1000/4000 (25%)]\tLoss: 0.005839\n",
      "Train Epoch: 6 [2000/4000 (50%)]\tLoss: 0.006714\n",
      "Train Epoch: 6 [3000/4000 (75%)]\tLoss: 0.008674\n",
      "Test set: Average loss: 0.004783\n",
      "\n",
      "Train Epoch: 7 [0/4000 (0%)]\tLoss: 0.003741\n",
      "Train Epoch: 7 [1000/4000 (25%)]\tLoss: 0.005804\n",
      "Train Epoch: 7 [2000/4000 (50%)]\tLoss: 0.006788\n",
      "Train Epoch: 7 [3000/4000 (75%)]\tLoss: 0.009050\n",
      "Test set: Average loss: 0.004831\n",
      "\n",
      "Train Epoch: 8 [0/4000 (0%)]\tLoss: 0.003597\n",
      "Train Epoch: 8 [1000/4000 (25%)]\tLoss: 0.005613\n",
      "Train Epoch: 8 [2000/4000 (50%)]\tLoss: 0.006628\n",
      "Train Epoch: 8 [3000/4000 (75%)]\tLoss: 0.009219\n",
      "Test set: Average loss: 0.004787\n",
      "\n",
      "Train Epoch: 9 [0/4000 (0%)]\tLoss: 0.003544\n",
      "Train Epoch: 9 [1000/4000 (25%)]\tLoss: 0.005467\n",
      "Train Epoch: 9 [2000/4000 (50%)]\tLoss: 0.006587\n",
      "Train Epoch: 9 [3000/4000 (75%)]\tLoss: 0.009182\n",
      "Test set: Average loss: 0.004726\n",
      "\n",
      "Train Epoch: 10 [0/4000 (0%)]\tLoss: 0.003403\n",
      "Train Epoch: 10 [1000/4000 (25%)]\tLoss: 0.005359\n",
      "Train Epoch: 10 [2000/4000 (50%)]\tLoss: 0.006587\n",
      "Train Epoch: 10 [3000/4000 (75%)]\tLoss: 0.009044\n",
      "Test set: Average loss: 0.004664\n",
      "\n",
      "Train Epoch: 11 [0/4000 (0%)]\tLoss: 0.003353\n",
      "Train Epoch: 11 [1000/4000 (25%)]\tLoss: 0.005329\n",
      "Train Epoch: 11 [2000/4000 (50%)]\tLoss: 0.006579\n",
      "Train Epoch: 11 [3000/4000 (75%)]\tLoss: 0.008967\n",
      "Test set: Average loss: 0.004640\n",
      "\n",
      "Train Epoch: 12 [0/4000 (0%)]\tLoss: 0.003375\n",
      "Train Epoch: 12 [1000/4000 (25%)]\tLoss: 0.005320\n",
      "Train Epoch: 12 [2000/4000 (50%)]\tLoss: 0.006581\n",
      "Train Epoch: 12 [3000/4000 (75%)]\tLoss: 0.008805\n",
      "Test set: Average loss: 0.004599\n",
      "\n",
      "Train Epoch: 13 [0/4000 (0%)]\tLoss: 0.003370\n",
      "Train Epoch: 13 [1000/4000 (25%)]\tLoss: 0.005312\n",
      "Train Epoch: 13 [2000/4000 (50%)]\tLoss: 0.006501\n",
      "Train Epoch: 13 [3000/4000 (75%)]\tLoss: 0.008834\n",
      "Test set: Average loss: 0.004572\n",
      "\n",
      "Train Epoch: 14 [0/4000 (0%)]\tLoss: 0.003363\n",
      "Train Epoch: 14 [1000/4000 (25%)]\tLoss: 0.005274\n",
      "Train Epoch: 14 [2000/4000 (50%)]\tLoss: 0.006427\n",
      "Train Epoch: 14 [3000/4000 (75%)]\tLoss: 0.008871\n",
      "Test set: Average loss: 0.004572\n",
      "\n",
      "Train Epoch: 15 [0/4000 (0%)]\tLoss: 0.003389\n",
      "Train Epoch: 15 [1000/4000 (25%)]\tLoss: 0.005227\n",
      "Train Epoch: 15 [2000/4000 (50%)]\tLoss: 0.006400\n",
      "Train Epoch: 15 [3000/4000 (75%)]\tLoss: 0.008837\n",
      "Test set: Average loss: 0.004567\n",
      "\n",
      "Train Epoch: 16 [0/4000 (0%)]\tLoss: 0.003428\n",
      "Train Epoch: 16 [1000/4000 (25%)]\tLoss: 0.005299\n",
      "Train Epoch: 16 [2000/4000 (50%)]\tLoss: 0.006457\n",
      "Train Epoch: 16 [3000/4000 (75%)]\tLoss: 0.008403\n",
      "Test set: Average loss: 0.004533\n",
      "\n",
      "Train Epoch: 17 [0/4000 (0%)]\tLoss: 0.003430\n",
      "Train Epoch: 17 [1000/4000 (25%)]\tLoss: 0.005447\n",
      "Train Epoch: 17 [2000/4000 (50%)]\tLoss: 0.006388\n",
      "Train Epoch: 17 [3000/4000 (75%)]\tLoss: 0.008191\n",
      "Test set: Average loss: 0.004503\n",
      "\n",
      "Train Epoch: 18 [0/4000 (0%)]\tLoss: 0.003430\n",
      "Train Epoch: 18 [1000/4000 (25%)]\tLoss: 0.005525\n",
      "Train Epoch: 18 [2000/4000 (50%)]\tLoss: 0.006346\n",
      "Train Epoch: 18 [3000/4000 (75%)]\tLoss: 0.008003\n",
      "Test set: Average loss: 0.004537\n",
      "\n",
      "Train Epoch: 19 [0/4000 (0%)]\tLoss: 0.003542\n",
      "Train Epoch: 19 [1000/4000 (25%)]\tLoss: 0.005410\n",
      "Train Epoch: 19 [2000/4000 (50%)]\tLoss: 0.006476\n",
      "Train Epoch: 19 [3000/4000 (75%)]\tLoss: 0.007833\n",
      "Test set: Average loss: 0.004509\n",
      "\n",
      "Train Epoch: 20 [0/4000 (0%)]\tLoss: 0.003535\n",
      "Train Epoch: 20 [1000/4000 (25%)]\tLoss: 0.005393\n",
      "Train Epoch: 20 [2000/4000 (50%)]\tLoss: 0.006467\n",
      "Train Epoch: 20 [3000/4000 (75%)]\tLoss: 0.007788\n",
      "Test set: Average loss: 0.004471\n",
      "\n",
      "Train Epoch: 21 [0/4000 (0%)]\tLoss: 0.003508\n",
      "Train Epoch: 21 [1000/4000 (25%)]\tLoss: 0.005460\n",
      "Train Epoch: 21 [2000/4000 (50%)]\tLoss: 0.006374\n",
      "Train Epoch: 21 [3000/4000 (75%)]\tLoss: 0.007661\n",
      "Test set: Average loss: 0.004454\n",
      "\n",
      "Train Epoch: 22 [0/4000 (0%)]\tLoss: 0.003520\n",
      "Train Epoch: 22 [1000/4000 (25%)]\tLoss: 0.005448\n",
      "Train Epoch: 22 [2000/4000 (50%)]\tLoss: 0.006484\n",
      "Train Epoch: 22 [3000/4000 (75%)]\tLoss: 0.007528\n",
      "Test set: Average loss: 0.004478\n",
      "\n",
      "Train Epoch: 23 [0/4000 (0%)]\tLoss: 0.003584\n",
      "Train Epoch: 23 [1000/4000 (25%)]\tLoss: 0.005405\n",
      "Train Epoch: 23 [2000/4000 (50%)]\tLoss: 0.006398\n",
      "Train Epoch: 23 [3000/4000 (75%)]\tLoss: 0.007399\n",
      "Test set: Average loss: 0.004521\n",
      "\n",
      "Train Epoch: 24 [0/4000 (0%)]\tLoss: 0.003770\n",
      "Train Epoch: 24 [1000/4000 (25%)]\tLoss: 0.005360\n",
      "Train Epoch: 24 [2000/4000 (50%)]\tLoss: 0.006293\n",
      "Train Epoch: 24 [3000/4000 (75%)]\tLoss: 0.007038\n",
      "Test set: Average loss: 0.004486\n",
      "\n",
      "Train Epoch: 25 [0/4000 (0%)]\tLoss: 0.003725\n",
      "Train Epoch: 25 [1000/4000 (25%)]\tLoss: 0.005493\n",
      "Train Epoch: 25 [2000/4000 (50%)]\tLoss: 0.006242\n",
      "Train Epoch: 25 [3000/4000 (75%)]\tLoss: 0.006931\n",
      "Test set: Average loss: 0.004463\n",
      "\n",
      "Train Epoch: 26 [0/4000 (0%)]\tLoss: 0.003696\n",
      "Train Epoch: 26 [1000/4000 (25%)]\tLoss: 0.005515\n",
      "Train Epoch: 26 [2000/4000 (50%)]\tLoss: 0.006135\n",
      "Train Epoch: 26 [3000/4000 (75%)]\tLoss: 0.006871\n",
      "Test set: Average loss: 0.004458\n",
      "\n",
      "Train Epoch: 27 [0/4000 (0%)]\tLoss: 0.003741\n",
      "Train Epoch: 27 [1000/4000 (25%)]\tLoss: 0.005516\n",
      "Train Epoch: 27 [2000/4000 (50%)]\tLoss: 0.006042\n",
      "Train Epoch: 27 [3000/4000 (75%)]\tLoss: 0.006808\n",
      "Test set: Average loss: 0.004502\n",
      "\n",
      "Train Epoch: 28 [0/4000 (0%)]\tLoss: 0.003836\n",
      "Train Epoch: 28 [1000/4000 (25%)]\tLoss: 0.005384\n",
      "Train Epoch: 28 [2000/4000 (50%)]\tLoss: 0.005873\n",
      "Train Epoch: 28 [3000/4000 (75%)]\tLoss: 0.006654\n",
      "Test set: Average loss: 0.004486\n",
      "\n",
      "Train Epoch: 29 [0/4000 (0%)]\tLoss: 0.003847\n",
      "Train Epoch: 29 [1000/4000 (25%)]\tLoss: 0.005412\n",
      "Train Epoch: 29 [2000/4000 (50%)]\tLoss: 0.005786\n",
      "Train Epoch: 29 [3000/4000 (75%)]\tLoss: 0.006635\n",
      "Test set: Average loss: 0.004490\n",
      "\n",
      "Train Epoch: 30 [0/4000 (0%)]\tLoss: 0.003894\n",
      "Train Epoch: 30 [1000/4000 (25%)]\tLoss: 0.005435\n",
      "Train Epoch: 30 [2000/4000 (50%)]\tLoss: 0.005691\n",
      "Train Epoch: 30 [3000/4000 (75%)]\tLoss: 0.006622\n",
      "Test set: Average loss: 0.004492\n",
      "\n",
      "Train Epoch: 31 [0/4000 (0%)]\tLoss: 0.003934\n",
      "Train Epoch: 31 [1000/4000 (25%)]\tLoss: 0.005460\n",
      "Train Epoch: 31 [2000/4000 (50%)]\tLoss: 0.005609\n",
      "Train Epoch: 31 [3000/4000 (75%)]\tLoss: 0.006573\n",
      "Test set: Average loss: 0.004490\n",
      "\n",
      "Train Epoch: 32 [0/4000 (0%)]\tLoss: 0.003958\n",
      "Train Epoch: 32 [1000/4000 (25%)]\tLoss: 0.005485\n",
      "Train Epoch: 32 [2000/4000 (50%)]\tLoss: 0.005551\n",
      "Train Epoch: 32 [3000/4000 (75%)]\tLoss: 0.006553\n",
      "Test set: Average loss: 0.004499\n",
      "\n",
      "Train Epoch: 33 [0/4000 (0%)]\tLoss: 0.004015\n",
      "Train Epoch: 33 [1000/4000 (25%)]\tLoss: 0.005488\n",
      "Train Epoch: 33 [2000/4000 (50%)]\tLoss: 0.005553\n",
      "Train Epoch: 33 [3000/4000 (75%)]\tLoss: 0.006541\n",
      "Test set: Average loss: 0.004504\n",
      "\n",
      "Train Epoch: 34 [0/4000 (0%)]\tLoss: 0.004044\n",
      "Train Epoch: 34 [1000/4000 (25%)]\tLoss: 0.005508\n",
      "Train Epoch: 34 [2000/4000 (50%)]\tLoss: 0.005514\n",
      "Train Epoch: 34 [3000/4000 (75%)]\tLoss: 0.006432\n",
      "Test set: Average loss: 0.004486\n",
      "\n",
      "Train Epoch: 35 [0/4000 (0%)]\tLoss: 0.004042\n",
      "Train Epoch: 35 [1000/4000 (25%)]\tLoss: 0.005520\n",
      "Train Epoch: 35 [2000/4000 (50%)]\tLoss: 0.005480\n",
      "Train Epoch: 35 [3000/4000 (75%)]\tLoss: 0.006415\n",
      "Test set: Average loss: 0.004486\n",
      "\n",
      "Train Epoch: 36 [0/4000 (0%)]\tLoss: 0.004059\n",
      "Train Epoch: 36 [1000/4000 (25%)]\tLoss: 0.005505\n",
      "Train Epoch: 36 [2000/4000 (50%)]\tLoss: 0.005447\n",
      "Train Epoch: 36 [3000/4000 (75%)]\tLoss: 0.006399\n",
      "Test set: Average loss: 0.004507\n",
      "\n",
      "Train Epoch: 37 [0/4000 (0%)]\tLoss: 0.004082\n",
      "Train Epoch: 37 [1000/4000 (25%)]\tLoss: 0.005484\n",
      "Train Epoch: 37 [2000/4000 (50%)]\tLoss: 0.005445\n",
      "Train Epoch: 37 [3000/4000 (75%)]\tLoss: 0.006405\n",
      "Test set: Average loss: 0.004505\n",
      "\n",
      "Train Epoch: 38 [0/4000 (0%)]\tLoss: 0.004087\n",
      "Train Epoch: 38 [1000/4000 (25%)]\tLoss: 0.005441\n",
      "Train Epoch: 38 [2000/4000 (50%)]\tLoss: 0.005398\n",
      "Train Epoch: 38 [3000/4000 (75%)]\tLoss: 0.006398\n",
      "Test set: Average loss: 0.004517\n",
      "\n",
      "Train Epoch: 39 [0/4000 (0%)]\tLoss: 0.004113\n",
      "Train Epoch: 39 [1000/4000 (25%)]\tLoss: 0.005443\n",
      "Train Epoch: 39 [2000/4000 (50%)]\tLoss: 0.005398\n",
      "Train Epoch: 39 [3000/4000 (75%)]\tLoss: 0.006414\n",
      "Test set: Average loss: 0.004515\n",
      "\n",
      "Train Epoch: 40 [0/4000 (0%)]\tLoss: 0.004123\n",
      "Train Epoch: 40 [1000/4000 (25%)]\tLoss: 0.005452\n",
      "Train Epoch: 40 [2000/4000 (50%)]\tLoss: 0.005384\n",
      "Train Epoch: 40 [3000/4000 (75%)]\tLoss: 0.006232\n",
      "Test set: Average loss: 0.004517\n",
      "\n",
      "Train Epoch: 41 [0/4000 (0%)]\tLoss: 0.004128\n",
      "Train Epoch: 41 [1000/4000 (25%)]\tLoss: 0.005466\n",
      "Train Epoch: 41 [2000/4000 (50%)]\tLoss: 0.005367\n",
      "Train Epoch: 41 [3000/4000 (75%)]\tLoss: 0.006239\n",
      "Test set: Average loss: 0.004528\n",
      "\n",
      "Train Epoch: 42 [0/4000 (0%)]\tLoss: 0.004136\n",
      "Train Epoch: 42 [1000/4000 (25%)]\tLoss: 0.005477\n",
      "Train Epoch: 42 [2000/4000 (50%)]\tLoss: 0.005340\n",
      "Train Epoch: 42 [3000/4000 (75%)]\tLoss: 0.006255\n",
      "Test set: Average loss: 0.004526\n",
      "\n",
      "Train Epoch: 43 [0/4000 (0%)]\tLoss: 0.004133\n",
      "Train Epoch: 43 [1000/4000 (25%)]\tLoss: 0.005493\n",
      "Train Epoch: 43 [2000/4000 (50%)]\tLoss: 0.005327\n",
      "Train Epoch: 43 [3000/4000 (75%)]\tLoss: 0.006265\n",
      "Test set: Average loss: 0.004502\n",
      "\n",
      "Train Epoch: 44 [0/4000 (0%)]\tLoss: 0.004101\n",
      "Train Epoch: 44 [1000/4000 (25%)]\tLoss: 0.005501\n",
      "Train Epoch: 44 [2000/4000 (50%)]\tLoss: 0.005306\n",
      "Train Epoch: 44 [3000/4000 (75%)]\tLoss: 0.006281\n",
      "Test set: Average loss: 0.004495\n",
      "\n",
      "Train Epoch: 45 [0/4000 (0%)]\tLoss: 0.004096\n",
      "Train Epoch: 45 [1000/4000 (25%)]\tLoss: 0.005511\n",
      "Train Epoch: 45 [2000/4000 (50%)]\tLoss: 0.005346\n",
      "Train Epoch: 45 [3000/4000 (75%)]\tLoss: 0.006304\n",
      "Test set: Average loss: 0.004501\n",
      "\n",
      "Train Epoch: 46 [0/4000 (0%)]\tLoss: 0.004115\n",
      "Train Epoch: 46 [1000/4000 (25%)]\tLoss: 0.005523\n",
      "Train Epoch: 46 [2000/4000 (50%)]\tLoss: 0.005329\n",
      "Train Epoch: 46 [3000/4000 (75%)]\tLoss: 0.006286\n",
      "Test set: Average loss: 0.004501\n",
      "\n",
      "Train Epoch: 47 [0/4000 (0%)]\tLoss: 0.004121\n",
      "Train Epoch: 47 [1000/4000 (25%)]\tLoss: 0.005530\n",
      "Train Epoch: 47 [2000/4000 (50%)]\tLoss: 0.005265\n",
      "Train Epoch: 47 [3000/4000 (75%)]\tLoss: 0.006269\n",
      "Test set: Average loss: 0.004503\n",
      "\n",
      "Train Epoch: 48 [0/4000 (0%)]\tLoss: 0.004129\n",
      "Train Epoch: 48 [1000/4000 (25%)]\tLoss: 0.005537\n",
      "Train Epoch: 48 [2000/4000 (50%)]\tLoss: 0.005254\n",
      "Train Epoch: 48 [3000/4000 (75%)]\tLoss: 0.006263\n",
      "Test set: Average loss: 0.004505\n",
      "\n",
      "Train Epoch: 49 [0/4000 (0%)]\tLoss: 0.004131\n",
      "Train Epoch: 49 [1000/4000 (25%)]\tLoss: 0.005546\n",
      "Train Epoch: 49 [2000/4000 (50%)]\tLoss: 0.005244\n",
      "Train Epoch: 49 [3000/4000 (75%)]\tLoss: 0.006310\n",
      "Test set: Average loss: 0.004502\n",
      "\n",
      "Train Epoch: 50 [0/4000 (0%)]\tLoss: 0.004128\n",
      "Train Epoch: 50 [1000/4000 (25%)]\tLoss: 0.005555\n",
      "Train Epoch: 50 [2000/4000 (50%)]\tLoss: 0.005239\n",
      "Train Epoch: 50 [3000/4000 (75%)]\tLoss: 0.006307\n",
      "Test set: Average loss: 0.004502\n",
      "\n"
     ]
    }
   ],
   "source": [
    "optimizer = optim.Adam(net.parameters(), lr=0.01)\n",
    "for epoch in range(1, 50 + 1):\n",
    "    train(net, device, train_loader, optimizer, epoch)\n",
    "    test(net, device, test_loader, epoch)"
   ]
  },
  {
   "cell_type": "code",
   "execution_count": 22,
   "id": "crazy-adaptation",
   "metadata": {
    "scrolled": true
   },
   "outputs": [
    {
     "name": "stdout",
     "output_type": "stream",
     "text": [
      "Train Epoch: 1 [0/4000 (0%)]\tLoss: 0.004129\n",
      "Train Epoch: 1 [1000/4000 (25%)]\tLoss: 0.005671\n",
      "Train Epoch: 1 [2000/4000 (50%)]\tLoss: 0.005244\n",
      "Train Epoch: 1 [3000/4000 (75%)]\tLoss: 0.005057\n",
      "Test set: Average loss: 0.004290\n",
      "\n",
      "Train Epoch: 2 [0/4000 (0%)]\tLoss: 0.003724\n",
      "Train Epoch: 2 [1000/4000 (25%)]\tLoss: 0.005875\n",
      "Train Epoch: 2 [2000/4000 (50%)]\tLoss: 0.005224\n",
      "Train Epoch: 2 [3000/4000 (75%)]\tLoss: 0.005047\n",
      "Test set: Average loss: 0.004285\n",
      "\n",
      "Train Epoch: 3 [0/4000 (0%)]\tLoss: 0.003713\n",
      "Train Epoch: 3 [1000/4000 (25%)]\tLoss: 0.005846\n",
      "Train Epoch: 3 [2000/4000 (50%)]\tLoss: 0.005229\n",
      "Train Epoch: 3 [3000/4000 (75%)]\tLoss: 0.005048\n",
      "Test set: Average loss: 0.004283\n",
      "\n",
      "Train Epoch: 4 [0/4000 (0%)]\tLoss: 0.003713\n",
      "Train Epoch: 4 [1000/4000 (25%)]\tLoss: 0.005831\n",
      "Train Epoch: 4 [2000/4000 (50%)]\tLoss: 0.005233\n",
      "Train Epoch: 4 [3000/4000 (75%)]\tLoss: 0.005049\n",
      "Test set: Average loss: 0.004282\n",
      "\n",
      "Train Epoch: 5 [0/4000 (0%)]\tLoss: 0.003712\n",
      "Train Epoch: 5 [1000/4000 (25%)]\tLoss: 0.005823\n",
      "Train Epoch: 5 [2000/4000 (50%)]\tLoss: 0.005236\n",
      "Train Epoch: 5 [3000/4000 (75%)]\tLoss: 0.005049\n",
      "Test set: Average loss: 0.004281\n",
      "\n",
      "Train Epoch: 6 [0/4000 (0%)]\tLoss: 0.003712\n",
      "Train Epoch: 6 [1000/4000 (25%)]\tLoss: 0.005818\n",
      "Train Epoch: 6 [2000/4000 (50%)]\tLoss: 0.005238\n",
      "Train Epoch: 6 [3000/4000 (75%)]\tLoss: 0.005049\n",
      "Test set: Average loss: 0.004280\n",
      "\n",
      "Train Epoch: 7 [0/4000 (0%)]\tLoss: 0.003711\n",
      "Train Epoch: 7 [1000/4000 (25%)]\tLoss: 0.005814\n",
      "Train Epoch: 7 [2000/4000 (50%)]\tLoss: 0.005240\n",
      "Train Epoch: 7 [3000/4000 (75%)]\tLoss: 0.005050\n",
      "Test set: Average loss: 0.004279\n",
      "\n",
      "Train Epoch: 8 [0/4000 (0%)]\tLoss: 0.003710\n",
      "Train Epoch: 8 [1000/4000 (25%)]\tLoss: 0.005811\n",
      "Train Epoch: 8 [2000/4000 (50%)]\tLoss: 0.005241\n",
      "Train Epoch: 8 [3000/4000 (75%)]\tLoss: 0.005050\n",
      "Test set: Average loss: 0.004280\n",
      "\n",
      "Train Epoch: 9 [0/4000 (0%)]\tLoss: 0.003710\n",
      "Train Epoch: 9 [1000/4000 (25%)]\tLoss: 0.005810\n",
      "Train Epoch: 9 [2000/4000 (50%)]\tLoss: 0.005244\n",
      "Train Epoch: 9 [3000/4000 (75%)]\tLoss: 0.005050\n",
      "Test set: Average loss: 0.004279\n",
      "\n",
      "Train Epoch: 10 [0/4000 (0%)]\tLoss: 0.003710\n",
      "Train Epoch: 10 [1000/4000 (25%)]\tLoss: 0.005807\n",
      "Train Epoch: 10 [2000/4000 (50%)]\tLoss: 0.005247\n",
      "Train Epoch: 10 [3000/4000 (75%)]\tLoss: 0.005052\n",
      "Test set: Average loss: 0.004279\n",
      "\n"
     ]
    }
   ],
   "source": [
    "optimizer = optim.Adam(net.parameters(), lr=0.001)\n",
    "for epoch in range(1, 10 + 1):\n",
    "    train(net, device, train_loader, optimizer, epoch)\n",
    "    test(net, device, test_loader, epoch)"
   ]
  },
  {
   "cell_type": "code",
   "execution_count": 23,
   "id": "consistent-eleven",
   "metadata": {},
   "outputs": [],
   "source": [
    "net_sat = nn.Sequential(\n",
    "    *net,\n",
    "    SatModule(mpc_controller.variable_size(), mpc_controller.u_min, mpc_controller.u_max)\n",
    ")"
   ]
  },
  {
   "cell_type": "code",
   "execution_count": 24,
   "id": "cross-columbus",
   "metadata": {},
   "outputs": [],
   "source": [
    "torch.save({'state_dict': net_sat.state_dict()}, 'dc_dc_converter_qp.pt')"
   ]
  },
  {
   "cell_type": "code",
   "execution_count": 25,
   "id": "delayed-buying",
   "metadata": {},
   "outputs": [
    {
     "data": {
      "text/plain": [
       "<All keys matched successfully>"
      ]
     },
     "execution_count": 25,
     "metadata": {},
     "output_type": "execute_result"
    }
   ],
   "source": [
    "saved_model = torch.load('dc_dc_converter_qp.pt')\n",
    "net_sat.load_state_dict(saved_model['state_dict'])"
   ]
  },
  {
   "cell_type": "code",
   "execution_count": 26,
   "id": "amazing-exercise",
   "metadata": {},
   "outputs": [],
   "source": [
    "z_net = np.vstack((x.flatten(), y.flatten())).T\n",
    "z_net = net_sat(torch.from_numpy(z_net).float())\n",
    "z_net = z_net.detach().cpu().numpy()\n",
    "z_net = z_net.reshape(x.shape)"
   ]
  },
  {
   "cell_type": "code",
   "execution_count": 27,
   "id": "foreign-carolina",
   "metadata": {},
   "outputs": [
    {
     "data": {
      "image/png": "[encoded data removed]",
      "text/plain": [
       "<Figure size 122.04x75.4249 with 2 Axes>"
      ]
     },
     "metadata": {
      "needs_background": "light"
     },
     "output_type": "display_data"
    }
   ],
   "source": [
    "fig, ax = plt.subplots()\n",
    "cs = ax.contourf(x, y, z_net, levels=100)\n",
    "for c in cs.collections:\n",
    "    c.set_edgecolor('face')\n",
    "fig.colorbar(cs, ticks=[0, 0.25, 0.5, 0.75, 1])\n",
    "ax.set_title('Simplified Controller')\n",
    "ax.set_xlabel(r'$i_L$')\n",
    "ax.set_ylabel(r'$v_O$')\n",
    "plt.savefig('figures/simplified.pdf', bbox_inches='tight', pad_inches=0)\n",
    "plt.show()"
   ]
  },
  {
   "cell_type": "code",
   "execution_count": 28,
   "id": "precious-secondary",
   "metadata": {},
   "outputs": [
    {
     "data": {
      "image/png": "[encoded data removed]",
      "text/plain": [
       "<Figure size 122.04x75.4249 with 2 Axes>"
      ]
     },
     "metadata": {
      "needs_background": "light"
     },
     "output_type": "display_data"
    }
   ],
   "source": [
    "fig, ax = plt.subplots()\n",
    "cs = ax.contourf(x, y, np.abs(z_opt - z_net), levels=100)\n",
    "for c in cs.collections:\n",
    "    c.set_edgecolor('face')\n",
    "fig.colorbar(cs, ticks=[0, 0.25, 0.5, 0.75, 1])\n",
    "ax.set_title('Approximation Error')\n",
    "ax.set_xlabel(r'$i_L$')\n",
    "ax.set_ylabel(r'$v_O$')\n",
    "plt.show()"
   ]
  },
  {
   "cell_type": "code",
   "execution_count": 29,
   "id": "atlantic-dancing",
   "metadata": {},
   "outputs": [],
   "source": [
    "verifier = Verifier(parameter_set, mpc_controller, net_sat)"
   ]
  },
  {
   "cell_type": "code",
   "execution_count": 30,
   "id": "surface-fields",
   "metadata": {},
   "outputs": [
    {
     "name": "stderr",
     "output_type": "stream",
     "text": [
      "QP Ineq Bound: 100%|██████████| 68/68 [00:01<00:00, 47.70it/s]\n",
      "QP Dual Bound: 100%|██████████| 68/68 [00:10<00:00,  6.71it/s]\n",
      "QP Output Bound: 100%|██████████| 1/1 [00:00<00:00, 57.52it/s]\n",
      "QP Ineq Bound: 100%|██████████| 3/3 [00:00<00:00, 369.55it/s]\n",
      "QP Dual Bound: 100%|██████████| 3/3 [00:00<00:00, 369.28it/s]\n",
      "QP Output Bound: 100%|██████████| 3/3 [00:00<00:00, 260.06it/s]"
     ]
    },
    {
     "name": "stdout",
     "output_type": "stream",
     "text": [
      "Neural Network Bounds:\n",
      "lower bound: [0.]\n",
      "upper bound: [1.]\n"
     ]
    },
    {
     "name": "stderr",
     "output_type": "stream",
     "text": [
      "\n"
     ]
    }
   ],
   "source": [
    "mpc_bounds, net_bounds = verifier.compute_bounds(method=BoundArithmetic.ZONO_ARITHMETIC, mip=True)\n",
    "print('Neural Network Bounds:')\n",
    "print(f'lower bound: {net_bounds[\"lb\"]}')\n",
    "print(f'upper bound: {net_bounds[\"ub\"]}')"
   ]
  },
  {
   "cell_type": "code",
   "execution_count": 37,
   "id": "breeding-berlin",
   "metadata": {},
   "outputs": [
    {
     "name": "stdout",
     "output_type": "stream",
     "text": [
      "Gurobi Optimizer version 9.5.0 build v9.5.0rc5 (mac64[x86])\n",
      "Thread count: 8 physical cores, 16 logical processors, using up to 16 threads\n",
      "Optimize a model with 359 rows, 302 columns and 808 nonzeros\n",
      "Model fingerprint: 0xc872c159\n",
      "Model has 148 general constraints\n",
      "Variable types: 229 continuous, 73 integer (73 binary)\n",
      "Coefficient statistics:\n",
      "  Matrix range     [2e-04, 3e+02]\n",
      "  Objective range  [1e+00, 1e+00]\n",
      "  Bounds range     [8e-02, 1e+02]\n",
      "  RHS range        [7e-18, 1e+02]\n",
      "  GenCon rhs range [7e-18, 7e+00]\n",
      "  GenCon coe range [7e-02, 1e+00]\n",
      "\n",
      "User MIP start produced solution with objective 0.130974 (0.01s)\n",
      "Loaded user MIP start with objective 0.130974\n",
      "\n",
      "Presolve removed 256 rows and 187 columns\n",
      "Presolve time: 0.02s\n",
      "Presolved: 103 rows, 115 columns, 362 nonzeros\n",
      "Presolved model has 14 SOS constraint(s)\n",
      "Variable types: 83 continuous, 32 integer (32 binary)\n",
      "\n",
      "Root relaxation: objective 1.000000e+00, 99 iterations, 0.00 seconds (0.00 work units)\n",
      "\n",
      "    Nodes    |    Current Node    |     Objective Bounds      |     Work\n",
      " Expl Unexpl |  Obj  Depth IntInf | Incumbent    BestBd   Gap | It/Node Time\n",
      "\n",
      "     0     0    1.00000    0   11    0.13097    1.00000   664%     -    0s\n",
      "     0     0    1.00000    0   13    0.13097    1.00000   664%     -    0s\n",
      "     0     0    1.00000    0   12    0.13097    1.00000   664%     -    0s\n",
      "     0     0    1.00000    0   11    0.13097    1.00000   664%     -    0s\n",
      "     0     0    1.00000    0   12    0.13097    1.00000   664%     -    0s\n",
      "H    0     0                       0.1465873    1.00000   582%     -    0s\n",
      "     0     0    1.00000    0   11    0.14659    1.00000   582%     -    0s\n",
      "     0     0    1.00000    0   11    0.14659    1.00000   582%     -    0s\n",
      "H    0     0                       0.1478310    1.00000   576%     -    0s\n",
      "     0     0    1.00000    0   10    0.14783    1.00000   576%     -    0s\n",
      "     0     0    1.00000    0   10    0.14783    1.00000   576%     -    0s\n",
      "     0     2    1.00000    0   10    0.14783    1.00000   576%     -    0s\n",
      "H   15    15                       0.2428093    0.97259   301%  18.7    0s\n",
      "\n",
      "Cutting planes:\n",
      "  Learned: 1\n",
      "  Implied bound: 14\n",
      "  MIR: 2\n",
      "  Flow cover: 4\n",
      "  Relax-and-lift: 1\n",
      "\n",
      "Explored 66 nodes (928 simplex iterations) in 0.10 seconds (0.04 work units)\n",
      "Thread count was 16 (of 16 available processors)\n",
      "\n",
      "Solution count 4: 0.242809 0.147831 0.146587 0.130974 \n",
      "No other solutions better than 0.242809\n",
      "\n",
      "Optimal solution found (tolerance 1.00e-04)\n",
      "Best objective 2.428092584416e-01, best bound 2.428092584416e-01, gap 0.0000%\n"
     ]
    }
   ],
   "source": [
    "bound, parameters = verifier.find_max_abs_diff()"
   ]
  },
  {
   "cell_type": "code",
   "execution_count": 38,
   "id": "persistent-inflation",
   "metadata": {},
   "outputs": [
    {
     "name": "stdout",
     "output_type": "stream",
     "text": [
      "Maximum absolute Error Bound between MPC and NN: 0.24280925844159973 at [0.0, 6.787028776081563]\n",
      "Double Checking by calulcaing error at this position: 0.24280926418079096\n"
     ]
    }
   ],
   "source": [
    "print(f'Maximum absolute Error Bound between MPC and NN: {bound} at {parameters}')\n",
    "u0_mpc = mpc_controller.solve(np.array(parameters))[mpc_controller.u0][0]\n",
    "u0_net = net_sat(torch.from_numpy(np.array(parameters)).float()).detach().numpy()[0]\n",
    "print(f'Double Checking by calulcaing error at this position: {u0_mpc - u0_net}')"
   ]
  },
  {
   "cell_type": "code",
   "execution_count": 39,
   "id": "featured-pharmacy",
   "metadata": {},
   "outputs": [
    {
     "data": {
      "image/png": "[encoded data removed]",
      "text/plain": [
       "<Figure size 122.04x75.4249 with 2 Axes>"
      ]
     },
     "metadata": {
      "needs_background": "light"
     },
     "output_type": "display_data"
    }
   ],
   "source": [
    "fig, ax = plt.subplots()\n",
    "cs = ax.contourf(x, y, np.abs(z_opt - z_net), levels=100)\n",
    "for c in cs.collections:\n",
    "    c.set_edgecolor('face')\n",
    "ax.plot(parameters[0], parameters[1], 'ro', markersize=2)\n",
    "fig.colorbar(cs, ticks=[0, 0.1, 0.2])\n",
    "ax.set_title('Approximation Error')\n",
    "ax.set_xlabel(r'$i_L$')\n",
    "ax.set_ylabel(r'$v_O$')\n",
    "plt.savefig('figures/approx_error.pdf', bbox_inches='tight', pad_inches=0)\n",
    "plt.show()"
   ]
  },
  {
   "cell_type": "code",
   "execution_count": 34,
   "id": "bacterial-techno",
   "metadata": {},
   "outputs": [
    {
     "name": "stderr",
     "output_type": "stream",
     "text": [
      "QP Ineq Bound: 100%|██████████| 68/68 [00:00<00:00, 647.57it/s]\n",
      "QP Dual Bound: 100%|██████████| 68/68 [00:00<00:00, 4608.68it/s]\n",
      "QP Output Bound: 100%|██████████| 1/1 [00:00<00:00, 283.76it/s]\n"
     ]
    },
    {
     "name": "stdout",
     "output_type": "stream",
     "text": [
      "Set parameter NonConvex to value 2\n",
      "Gurobi Optimizer version 9.5.0 build v9.5.0rc5 (mac64[x86])\n",
      "Thread count: 8 physical cores, 16 logical processors, using up to 16 threads\n",
      "Optimize a model with 429 rows, 361 columns and 959 nonzeros\n",
      "Model fingerprint: 0x98cd9087\n",
      "Model has 63 quadratic objective terms\n",
      "Model has 146 general constraints\n",
      "Variable types: 288 continuous, 73 integer (73 binary)\n",
      "Coefficient statistics:\n",
      "  Matrix range     [2e-04, 3e+02]\n",
      "  Objective range  [0e+00, 0e+00]\n",
      "  QObjective range [2e+00, 3e+02]\n",
      "  Bounds range     [8e-02, 7e+00]\n",
      "  RHS range        [7e-18, 7e+00]\n",
      "  GenCon rhs range [7e-18, 7e+00]\n",
      "  GenCon coe range [7e-02, 1e+00]\n",
      "\n",
      "User MIP start produced solution with objective 2.53533 (0.08s)\n",
      "User MIP start produced solution with objective 1.35714 (0.09s)\n",
      "Loaded user MIP start with objective 1.35714\n",
      "\n",
      "Presolve removed 290 rows and 177 columns\n",
      "Presolve time: 0.01s\n",
      "Presolved: 173 rows, 248 columns, 618 nonzeros\n",
      "Presolved model has 45 SOS constraint(s)\n",
      "Presolved model has 32 quadratic constraint(s)\n",
      "Presolved model has 31 bilinear constraint(s)\n",
      "Variable types: 199 continuous, 49 integer (49 binary)\n",
      "\n",
      "Root relaxation: objective -1.677561e+02, 175 iterations, 0.00 seconds (0.00 work units)\n",
      "\n",
      "    Nodes    |    Current Node    |     Objective Bounds      |     Work\n",
      " Expl Unexpl |  Obj  Depth IntInf | Incumbent    BestBd   Gap | It/Node Time\n",
      "\n",
      "     0     0 -167.75611    0   26    1.35714 -167.75611      -     -    0s\n",
      "     0     0 -127.91445    0   31    1.35714 -127.91445  9525%     -    0s\n",
      "     0     0 -122.16259    0   35    1.35714 -122.16259  9101%     -    0s\n",
      "     0     0  -89.86486    0   37    1.35714  -89.86486  6722%     -    0s\n",
      "     0     0  -89.79144    0   37    1.35714  -89.79144  6716%     -    0s\n",
      "     0     0  -85.20279    0   41    1.35714  -85.20279  6378%     -    0s\n",
      "     0     0  -85.10596    0   42    1.35714  -85.10596  6371%     -    0s\n",
      "     0     0  -84.48712    0   42    1.35714  -84.48712  6325%     -    0s\n",
      "     0     0  -84.44759    0   42    1.35714  -84.44759  6322%     -    0s\n",
      "     0     0  -84.21924    0   42    1.35714  -84.21924  6306%     -    0s\n",
      "     0     0  -84.21763    0   42    1.35714  -84.21763  6306%     -    0s\n",
      "     0     0  -84.12268    0   41    1.35714  -84.12268  6299%     -    0s\n",
      "     0     0  -84.10071    0   41    1.35714  -84.10071  6297%     -    0s\n",
      "     0     0  -84.09027    0   41    1.35714  -84.09027  6296%     -    0s\n",
      "H    0     0                       0.9888795  -84.09027  8604%     -    0s\n",
      "     0     2  -84.09027    0   41    0.98888  -84.09027  8604%     -    0s\n",
      "H 1082   118                       0.7488682  -68.65937  9268%  34.4    0s\n",
      "H 1207   128                       0.7488679  -67.19807  9073%  35.1    0s\n",
      "H 1547   164                       0.7488676  -66.42645  8970%  36.3    0s\n",
      "H 1718   168                       0.4030791  -62.89862      -  36.0    0s\n",
      "H 1853   182                       0.4030787  -62.89862      -  35.5    0s\n",
      "H 1884   182                       0.4030787  -62.89862      -  35.1    0s\n",
      "H 2588   186                       0.4030787  -37.32968  9361%  33.8    1s\n",
      "H 2591   178                       0.4030787  -37.32968  9361%  33.8    1s\n",
      "H 2595   171                       0.4030787  -37.32968  9361%  33.7    1s\n",
      "H 2685   189                       0.4030787  -37.32968  9361%  35.0    1s\n",
      "H 3694   128                       0.4030787  -37.32968  9361%  37.7    2s\n",
      "H 4819   151                       0.0280286  -37.32968      -  36.6    3s\n",
      "H 5023   153                       0.0280285  -37.32968      -  36.4    3s\n",
      "H 5224   161                       0.0054497  -37.32968      -  36.2    3s\n",
      "H 6887   178                       0.0054496  -37.32968      -  33.8    4s\n",
      "  9655   290   -0.00582   88   30    0.00545   -9.54138      -  27.1    5s\n",
      "*13876  1227             123       0.0028368   -0.95868      -  21.2    6s\n",
      " 27749  1555    0.00012  105   24    0.00284   -0.04764  1779%  13.9   10s\n",
      "*29618  1226             104       0.0001519   -0.01319  8778%  13.7   11s\n",
      "*30524   811             110       0.0001500   -0.01007  6811%  13.5   11s\n",
      "*32151   819             103       0.0000337   -0.00544      -  13.5   13s\n",
      " 35887   862    0.00001  100   21    0.00003   -0.00013   474%  13.5   15s\n",
      "*37146  1090             101       0.0000210   -0.00008   505%  13.1   15s\n",
      "*37149  1090             101       0.0000209   -0.00008   507%  13.1   15s\n",
      "*38317  1045             104       0.0000201   -0.00002   190%  12.9   15s\n",
      "*38324  1045             105       0.0000200   -0.00002   191%  12.9   15s\n",
      "*39840   511             104       0.0000200    0.00001  73.4%  12.6   16s\n",
      "*39912   520             102       0.0000199    0.00001  66.9%  12.6   16s\n",
      "*39915   521             102       0.0000199    0.00001  66.8%  12.6   16s\n",
      "*40157   534             103       0.0000196    0.00001  59.4%  12.5   16s\n",
      "*40276   534             101       0.0000196    0.00001  58.8%  12.5   16s\n",
      "*40497   535             105       0.0000195    0.00001  54.8%  12.5   16s\n",
      "*41040   555             104       0.0000195    0.00001  25.4%  12.4   16s\n",
      "*41206     4             103       0.0000194    0.00002  21.5%  12.3   16s\n",
      "*41408     5             101       0.0000193    0.00002  18.1%  12.3   16s\n",
      "*41787     1             101       0.0000193    0.00002  0.01%  12.2   16s\n",
      "*41788     0             104       0.0000193    0.00002  0.00%  12.2   16s\n",
      "\n",
      "Cutting planes:\n",
      "  Gomory: 4\n",
      "  MIR: 2\n",
      "  Flow cover: 2\n",
      "  RLT: 23\n",
      "  PSD: 1\n",
      "\n",
      "Explored 41789 nodes (510917 simplex iterations) in 16.52 seconds (9.90 work units)\n",
      "Thread count was 16 (of 16 available processors)\n",
      "\n",
      "Solution count 10: 1.92562e-05 1.92582e-05 1.93254e-05 ... 1.99027e-05\n",
      "\n",
      "Optimal solution found (tolerance 1.00e-04)\n",
      "Best objective 2.121949300132e-05, best bound 1.925622639634e-05, gap 9.2522%\n"
     ]
    }
   ],
   "source": [
    "bound, parameters = verifier.verify_stability(guess=mpc_controller.xs)"
   ]
  },
  {
   "cell_type": "code",
   "execution_count": 35,
   "id": "willing-attribute",
   "metadata": {},
   "outputs": [
    {
     "name": "stdout",
     "output_type": "stream",
     "text": [
      "Stability bound: 1.9256226396339674e-05 at [0.04965736392747466, 4.998314946864348], should be >=0 for stability\n"
     ]
    }
   ],
   "source": [
    "print(f'Stability bound: {bound} at {parameters}, should be >=0 for stability')"
   ]
  },
  {
   "cell_type": "code",
   "execution_count": null,
   "id": "tough-courage",
   "metadata": {},
   "outputs": [],
   "source": []
  }
 ],
 "metadata": {
  "kernelspec": {
   "display_name": "Python 3",
   "language": "python",
   "name": "python3"
  },
  "language_info": {
   "codemirror_mode": {
    "name": "ipython",
    "version": 3
   },
   "file_extension": ".py",
   "mimetype": "text/x-python",
   "name": "python",
   "nbconvert_exporter": "python",
   "pygments_lexer": "ipython3",
   "version": "3.8.12"
  }
 },
 "nbformat": 4,
 "nbformat_minor": 5
}
