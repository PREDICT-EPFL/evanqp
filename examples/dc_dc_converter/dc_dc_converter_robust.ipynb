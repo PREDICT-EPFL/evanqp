{
 "cells": [
  {
   "cell_type": "code",
   "execution_count": 1,
   "id": "placed-lover",
   "metadata": {},
   "outputs": [],
   "source": [
    "%load_ext autoreload\n",
    "%autoreload 2"
   ]
  },
  {
   "cell_type": "code",
   "execution_count": 2,
   "id": "organizational-romantic",
   "metadata": {},
   "outputs": [],
   "source": [
    "import numpy as np\n",
    "import cvxpy as cp\n",
    "import polytope as pc\n",
    "import scipy.io as sio\n",
    "import torch\n",
    "import torch.nn as nn\n",
    "import torch.nn.functional as F\n",
    "import torch.optim as optim\n",
    "from torch.utils.data import Dataset, DataLoader, random_split\n",
    "from torch.optim.lr_scheduler import StepLR\n",
    "from cvxpylayers.torch import CvxpyLayer\n",
    "from tqdm import tqdm\n",
    "import matplotlib.pyplot as plt\n",
    "\n",
    "from evanqp import CvxpyProblem, MPCProblem, Polytope, RandomSampler, FFNN, Verifier\n",
    "from evanqp.layers import BoundArithmetic, BaseLayer, SeqLayer, LinearLayer, ReluLayer, QPLayer\n",
    "from utils import dlqr"
   ]
  },
  {
   "cell_type": "code",
   "execution_count": 3,
   "id": "touched-philippines",
   "metadata": {},
   "outputs": [],
   "source": [
    "torch.manual_seed(4)\n",
    "np.random.seed(4)\n",
    "\n",
    "torch.backends.cuda.matmul.allow_tf32 = False\n",
    "torch.backends.cudnn.allow_tf32 = False\n",
    "\n",
    "import latexify\n",
    "latexify.latexify(fig_width=3.39/2)"
   ]
  },
  {
   "cell_type": "code",
   "execution_count": 4,
   "id": "urban-vacuum",
   "metadata": {},
   "outputs": [],
   "source": [
    "class DCDCConverterRobust(MPCProblem):\n",
    "    def __init__(self, N=20):\n",
    "        self.N = N\n",
    "\n",
    "        n = 2\n",
    "        m = 1\n",
    "\n",
    "        # Linearized dynamics\n",
    "        self.A = np.array([[0.971356387900839, -0.009766890567613], [1.731870774203751, 0.970462385352837]])\n",
    "        self.B = np.array([[0.148778899882612], [0.180827260808426]])\n",
    "        self.C = np.array([[0, 1]])\n",
    "        \n",
    "        # Steady state\n",
    "        ref = 5.0\n",
    "        ss = np.linalg.solve(np.block([[self.A - np.eye(n), self.B],[self.C, 0]]), np.array([0, 0, ref]))\n",
    "        self.xs = ss[0:2]\n",
    "        self.us = ss[2:3]\n",
    "\n",
    "        # Weights\n",
    "        self.Q = np.diag([90, 1])\n",
    "        self.R = np.array([[1]])\n",
    "        self.K, self.P, _ = dlqr(self.A, self.B, self.Q, self.R)\n",
    "        \n",
    "        # Constraints\n",
    "        self.x_max = np.array([0.2, 7.0])\n",
    "        self.x_min = np.array([0.0, 0.0])\n",
    "        self.u_max = np.array([1.0])\n",
    "        self.u_min = np.array([0.0])\n",
    "        \n",
    "        # robust sets from MPT3\n",
    "        robust_sets = sio.loadmat('robust_sets.mat')\n",
    "        self.F_inf_A = robust_sets['F_inf_A']\n",
    "        self.F_inf_b = robust_sets['F_inf_b'][:,0]\n",
    "        self.X_tight_A = robust_sets['X_tight_A']\n",
    "        self.X_tight_b = robust_sets['X_tight_b'][:,0]\n",
    "        self.U_tight_A = robust_sets['U_tight_A']\n",
    "        self.U_tight_b = robust_sets['U_tight_b'][:,0]\n",
    "        \n",
    "        # Terminal Set computation (shifted)\n",
    "        # state constraints\n",
    "        Hx = self.X_tight_A\n",
    "        hx = self.X_tight_b - self.X_tight_A @ self.xs\n",
    "        # input constraints\n",
    "        Hu = self.U_tight_A\n",
    "        hu = self.U_tight_b - self.U_tight_A @ self.us\n",
    "        # closed loop dynamics\n",
    "        Ak = self.A - self.B @ self.K\n",
    "        # state & input constraints\n",
    "        HH = np.vstack((Hx, -Hu @ self.K))\n",
    "        hh = np.concatenate((hx, hu))\n",
    "        # compute maximal invariant set\n",
    "        O = pc.Polytope(HH, hh)\n",
    "        while True:\n",
    "            O_prev = O\n",
    "            # pre-set\n",
    "            O = O.intersect(pc.Polytope(O.A @ Ak, O.b))\n",
    "            if O == O_prev:\n",
    "                break\n",
    "        self.F, self.f = O.A, O.b\n",
    "\n",
    "        self.x0 = cp.Parameter(n, name='x0')\n",
    "        self.z = cp.Variable((N + 1, n), name='z')\n",
    "        self.u0 = cp.Variable(m, name='u0')\n",
    "        self.v = cp.Variable((N, m), name='v')\n",
    "\n",
    "        objective = cp.quad_form(self.z[N, :] - self.xs, self.P)\n",
    "        constraints = [self.F_inf_A @ (self.x0 - self.z[0, :]) <= self.F_inf_b,\n",
    "                       self.u0 == -self.K @ (self.x0 - self.z[0, :]) + self.v[0, :]]\n",
    "\n",
    "        for i in range(N):\n",
    "            objective += cp.quad_form(self.z[i, :] - self.xs, self.Q) + cp.quad_form(self.v[i, :] - self.us, self.R)\n",
    "            constraints += [self.z[i + 1, :] == self.A @ self.z[i, :] + self.B @ self.v[i, :]]\n",
    "            constraints += [self.X_tight_A @ self.z[i, :] <= self.X_tight_b]\n",
    "            constraints += [self.U_tight_A @ self.v[i, :] <= self.U_tight_b]\n",
    "        constraints += [self.F @ (self.z[N, :] - self.xs) <= self.f]\n",
    "\n",
    "        self.objective = cp.Minimize(objective)\n",
    "        self.prob = cp.Problem(self.objective, constraints)\n",
    "\n",
    "    def problem(self):\n",
    "        return self.prob\n",
    "\n",
    "    def parameters(self):\n",
    "        return [self.x0]\n",
    "\n",
    "    def variables(self):\n",
    "        return [self.u0]\n",
    "\n",
    "    def solve(self, x0):\n",
    "        self.x0.value = x0\n",
    "        try:\n",
    "            self.prob.solve(solver=cp.MOSEK)\n",
    "        except:\n",
    "            pass\n",
    "\n",
    "        solution = {self.u0: self.u0.value,\n",
    "                    self.z: self.z.value,\n",
    "                    self.v: self.v.value,\n",
    "                    self.objective: self.objective.value}\n",
    "        return solution\n",
    "\n",
    "    def reduced_objective(self):\n",
    "        objective = cp.quad_form(self.z[self.N, :] - self.xs, self.P)\n",
    "        for i in range(1, self.N):\n",
    "            objective += cp.quad_form(self.z[i, :] - self.xs, self.Q) + cp.quad_form(self.v[i, :] - self.us, self.R)\n",
    "        return cp.Minimize(objective)"
   ]
  },
  {
   "cell_type": "code",
   "execution_count": 5,
   "id": "nonprofit-uruguay",
   "metadata": {},
   "outputs": [],
   "source": [
    "mpc_controller = DCDCConverterRobust()"
   ]
  },
  {
   "cell_type": "code",
   "execution_count": 6,
   "id": "virgin-alert",
   "metadata": {},
   "outputs": [
    {
     "name": "stderr",
     "output_type": "stream",
     "text": [
      "100%|██████████| 100/100 [02:59<00:00,  1.80s/it]\n"
     ]
    }
   ],
   "source": [
    "x1 = np.linspace(0, 0.2, 100)\n",
    "x2 = np.linspace(0, 7, 100)\n",
    "x, y = np.meshgrid(x1, x2)\n",
    "z_opt = np.zeros(x.shape)\n",
    "for i in tqdm(range(x.shape[0])):\n",
    "    for j in range(x.shape[1]):\n",
    "        sol = mpc_controller.solve(np.array([x[i, j], y[i, j]]))\n",
    "        u0 = sol[mpc_controller.variables()[0]]\n",
    "        z_opt[i, j] = u0 if u0 is not None else None"
   ]
  },
  {
   "cell_type": "code",
   "execution_count": 7,
   "id": "lightweight-advantage",
   "metadata": {},
   "outputs": [
    {
     "data": {
      "image/png": "[encoded data removed]",
      "text/plain": [
       "<Figure size 122.04x75.4249 with 2 Axes>"
      ]
     },
     "metadata": {
      "needs_background": "light"
     },
     "output_type": "display_data"
    }
   ],
   "source": [
    "fig, ax = plt.subplots()\n",
    "cs = ax.contourf(x, y, z_opt, levels=100)\n",
    "for c in cs.collections:\n",
    "    c.set_edgecolor('face')\n",
    "fig.colorbar(cs, ticks=[0, 0.25, 0.5, 0.75, 1])\n",
    "ax.set_title('Original Robust Controller')\n",
    "ax.set_xlabel(r'$i_L$')\n",
    "ax.set_ylabel(r'$v_O$')\n",
    "plt.savefig('figures/original_robust.pdf', bbox_inches='tight', pad_inches=0)\n",
    "plt.show()"
   ]
  },
  {
   "cell_type": "code",
   "execution_count": 6,
   "id": "black-failure",
   "metadata": {},
   "outputs": [],
   "source": [
    "parameter_set = Polytope(np.vstack((np.eye(2), -np.eye(2))), np.concatenate((mpc_controller.x_max, -mpc_controller.x_min)))"
   ]
  },
  {
   "cell_type": "code",
   "execution_count": 9,
   "id": "spectacular-trinidad",
   "metadata": {},
   "outputs": [
    {
     "name": "stderr",
     "output_type": "stream",
     "text": [
      "100%|██████████| 5000/5000 [01:51<00:00, 44.94it/s]\n"
     ]
    }
   ],
   "source": [
    "sampler = RandomSampler(mpc_controller, parameter_set)\n",
    "parameter_samples, variable_samples = sampler.sample(5000, seed=1)"
   ]
  },
  {
   "cell_type": "code",
   "execution_count": 10,
   "id": "focal-ecology",
   "metadata": {},
   "outputs": [],
   "source": [
    "parameter_samples = torch.from_numpy(parameter_samples).float()\n",
    "variable_samples  = torch.from_numpy(variable_samples).float()\n",
    "\n",
    "torch.save(parameter_samples, 'parameter_samples_robust.pt')\n",
    "torch.save(variable_samples, 'variable_samples_robust.pt')"
   ]
  },
  {
   "cell_type": "code",
   "execution_count": 7,
   "id": "outstanding-claim",
   "metadata": {},
   "outputs": [],
   "source": [
    "parameter_samples = torch.load('parameter_samples_robust.pt')\n",
    "variable_samples  = torch.load('variable_samples_robust.pt')"
   ]
  },
  {
   "cell_type": "code",
   "execution_count": 12,
   "id": "acceptable-grant",
   "metadata": {},
   "outputs": [
    {
     "data": {
      "image/png": "[encoded data removed]",
      "text/plain": [
       "<Figure size 122.04x75.4249 with 2 Axes>"
      ]
     },
     "metadata": {
      "needs_background": "light"
     },
     "output_type": "display_data"
    }
   ],
   "source": [
    "plt.tricontourf(parameter_samples.numpy()[:,0], parameter_samples.numpy()[:,1], variable_samples.numpy()[:,0], 50)\n",
    "plt.colorbar(ticks=[0, 0.25, 0.5, 0.75, 1])\n",
    "ax.set_title('Samples')\n",
    "plt.xlabel(r'$i_L$')\n",
    "plt.ylabel(r'$v_O$')\n",
    "plt.show()"
   ]
  },
  {
   "cell_type": "code",
   "execution_count": 8,
   "id": "lesser-atlantic",
   "metadata": {},
   "outputs": [],
   "source": [
    "class DCDCConverterDataset(Dataset):\n",
    "    def __init__(self, parameter_samples, variable_samples):\n",
    "        self.parameter_samples = parameter_samples\n",
    "        self.variable_samples = variable_samples\n",
    "\n",
    "    def __len__(self):\n",
    "        return self.parameter_samples.shape[0]\n",
    "\n",
    "    def __getitem__(self, idx):\n",
    "        return self.parameter_samples[idx, :], self.variable_samples[idx, :]"
   ]
  },
  {
   "cell_type": "code",
   "execution_count": 9,
   "id": "dress-dealer",
   "metadata": {},
   "outputs": [],
   "source": [
    "dataset = DCDCConverterDataset(parameter_samples, variable_samples)\n",
    "\n",
    "seed = 1\n",
    "train_set_ratio = 0.8\n",
    "\n",
    "train_set_size = int(len(dataset) * train_set_ratio)\n",
    "test_set_size = len(dataset) - train_set_size\n",
    "train_set, test_set = random_split(dataset, [train_set_size, test_set_size], generator=torch.Generator().manual_seed(seed))"
   ]
  },
  {
   "cell_type": "code",
   "execution_count": 10,
   "id": "digital-sunday",
   "metadata": {},
   "outputs": [],
   "source": [
    "class SatModule(nn.Module):\n",
    "    def __init__(self, num_features, x_min, x_max):\n",
    "        super(SatModule, self).__init__()\n",
    "        self.num_features = num_features\n",
    "        self.x_min = x_min\n",
    "        self.x_max = x_max\n",
    "        \n",
    "    def forward(self, x):\n",
    "        return torch.max(torch.min(x, torch.from_numpy(self.x_max).float()), torch.from_numpy(self.x_min).float())\n",
    "    \n",
    "    def milp_layer(self, depth):\n",
    "        return SeqLayer([\n",
    "            LinearLayer(np.eye(self.num_features), -self.x_min, depth),\n",
    "            ReluLayer(self.num_features, depth),\n",
    "            LinearLayer(np.eye(self.num_features), self.x_min, depth),\n",
    "            LinearLayer(-np.eye(self.num_features), self.x_max, depth),\n",
    "            ReluLayer(self.num_features, depth),\n",
    "            LinearLayer(-np.eye(self.num_features), self.x_max, depth)\n",
    "        ], depth)"
   ]
  },
  {
   "cell_type": "code",
   "execution_count": 11,
   "id": "federal-illustration",
   "metadata": {},
   "outputs": [],
   "source": [
    "hidden_dim = 50\n",
    "\n",
    "net = nn.Sequential(\n",
    "    nn.Linear(mpc_controller.parameter_size(), hidden_dim),\n",
    "    nn.ReLU(),\n",
    "    nn.Linear(hidden_dim, hidden_dim),\n",
    "    nn.ReLU(),\n",
    "    nn.Linear(hidden_dim, mpc_controller.variable_size()),\n",
    "    # SatModule(mpc_controller.variable_size(), mpc_controller.u_min, mpc_controller.u_max)\n",
    ")"
   ]
  },
  {
   "cell_type": "code",
   "execution_count": 12,
   "id": "streaming-passport",
   "metadata": {},
   "outputs": [],
   "source": [
    "def loss_function(model, data, target):\n",
    "    output = model(data)\n",
    "    loss = F.mse_loss(output, target)\n",
    "    loss += 1e2 / len(data) * F.mse_loss(model(torch.from_numpy(mpc_controller.xs).float().to(data.device)), torch.from_numpy(mpc_controller.us).float().to(data.device))\n",
    "    return loss"
   ]
  },
  {
   "cell_type": "code",
   "execution_count": 13,
   "id": "simplified-mounting",
   "metadata": {},
   "outputs": [],
   "source": [
    "def train(model, device, train_loader, optimizer, epoch):\n",
    "    model.train()\n",
    "    train_loss = 0\n",
    "    for batch_idx, (data, target) in enumerate(train_loader):\n",
    "        data, target = data.to(device), target.to(device)\n",
    "\n",
    "        optimizer.zero_grad()\n",
    "        loss = loss_function(model, data, target)\n",
    "        loss.backward()\n",
    "        optimizer.step()\n",
    "\n",
    "        train_loss += loss.item()\n",
    "\n",
    "        # if batch_idx % 20 == 0:\n",
    "        #     print('Train Epoch: {} [{}/{} ({:.0f}%)]\\tLoss: {:.6f}'.format(\n",
    "        #         epoch, batch_idx * len(data),\n",
    "        #         len(train_loader.dataset), 100. * batch_idx / len(train_loader), loss.item()))\n",
    "\n",
    "    train_loss /= len(train_loader)"
   ]
  },
  {
   "cell_type": "code",
   "execution_count": 14,
   "id": "substantial-earthquake",
   "metadata": {},
   "outputs": [],
   "source": [
    "def test(model, device, test_loader, epoch):\n",
    "    model.eval()\n",
    "    test_loss = 0\n",
    "    with torch.no_grad():\n",
    "        for data, target in test_loader:\n",
    "            data, target = data.to(device), target.to(device)\n",
    "\n",
    "            test_loss += loss_function(model, data, target).item()\n",
    "\n",
    "    test_loss /= len(test_loader)\n",
    "\n",
    "    print('Epoch {} - Test set: Average loss: {:.6f}'.format(epoch, test_loss))"
   ]
  },
  {
   "cell_type": "code",
   "execution_count": 20,
   "id": "bright-association",
   "metadata": {},
   "outputs": [],
   "source": [
    "use_cuda = torch.cuda.is_available()\n",
    "\n",
    "device = torch.device('cuda' if use_cuda else 'cpu')\n",
    "\n",
    "train_kwargs = {'batch_size': 50}\n",
    "test_kwargs = {'batch_size': 1000}\n",
    "if use_cuda:\n",
    "    cuda_kwargs = {'num_workers': 1,\n",
    "                   'pin_memory': True,\n",
    "                   'shuffle': True}\n",
    "    train_kwargs.update(cuda_kwargs)\n",
    "    test_kwargs.update(cuda_kwargs)\n",
    "    \n",
    "train_loader = DataLoader(train_set, **train_kwargs)\n",
    "test_loader = DataLoader(test_set, **test_kwargs)"
   ]
  },
  {
   "cell_type": "code",
   "execution_count": 21,
   "id": "municipal-orleans",
   "metadata": {
    "scrolled": true
   },
   "outputs": [
    {
     "name": "stdout",
     "output_type": "stream",
     "text": [
      "Epoch 1 - Test set: Average loss: 0.101200\n",
      "Epoch 2 - Test set: Average loss: 0.070127\n",
      "Epoch 3 - Test set: Average loss: 0.048961\n",
      "Epoch 4 - Test set: Average loss: 0.023467\n",
      "Epoch 5 - Test set: Average loss: 0.008007\n",
      "Epoch 6 - Test set: Average loss: 0.004638\n",
      "Epoch 7 - Test set: Average loss: 0.003876\n",
      "Epoch 8 - Test set: Average loss: 0.003711\n",
      "Epoch 9 - Test set: Average loss: 0.003652\n",
      "Epoch 10 - Test set: Average loss: 0.003413\n",
      "Epoch 11 - Test set: Average loss: 0.003308\n",
      "Epoch 12 - Test set: Average loss: 0.003240\n",
      "Epoch 13 - Test set: Average loss: 0.003146\n",
      "Epoch 14 - Test set: Average loss: 0.003111\n",
      "Epoch 15 - Test set: Average loss: 0.002985\n",
      "Epoch 16 - Test set: Average loss: 0.002954\n",
      "Epoch 17 - Test set: Average loss: 0.002855\n",
      "Epoch 18 - Test set: Average loss: 0.002813\n",
      "Epoch 19 - Test set: Average loss: 0.002752\n",
      "Epoch 20 - Test set: Average loss: 0.002721\n",
      "Epoch 21 - Test set: Average loss: 0.002728\n",
      "Epoch 22 - Test set: Average loss: 0.002628\n",
      "Epoch 23 - Test set: Average loss: 0.002534\n",
      "Epoch 24 - Test set: Average loss: 0.002467\n",
      "Epoch 25 - Test set: Average loss: 0.002396\n",
      "Epoch 26 - Test set: Average loss: 0.002337\n",
      "Epoch 27 - Test set: Average loss: 0.002278\n",
      "Epoch 28 - Test set: Average loss: 0.002229\n",
      "Epoch 29 - Test set: Average loss: 0.002171\n",
      "Epoch 30 - Test set: Average loss: 0.002133\n",
      "Epoch 31 - Test set: Average loss: 0.002098\n",
      "Epoch 32 - Test set: Average loss: 0.002059\n",
      "Epoch 33 - Test set: Average loss: 0.002023\n",
      "Epoch 34 - Test set: Average loss: 0.001976\n",
      "Epoch 35 - Test set: Average loss: 0.001942\n",
      "Epoch 36 - Test set: Average loss: 0.001902\n",
      "Epoch 37 - Test set: Average loss: 0.001861\n",
      "Epoch 38 - Test set: Average loss: 0.001826\n",
      "Epoch 39 - Test set: Average loss: 0.001793\n",
      "Epoch 40 - Test set: Average loss: 0.001760\n",
      "Epoch 41 - Test set: Average loss: 0.001723\n",
      "Epoch 42 - Test set: Average loss: 0.001699\n",
      "Epoch 43 - Test set: Average loss: 0.001666\n",
      "Epoch 44 - Test set: Average loss: 0.001631\n",
      "Epoch 45 - Test set: Average loss: 0.001602\n",
      "Epoch 46 - Test set: Average loss: 0.001565\n",
      "Epoch 47 - Test set: Average loss: 0.001528\n",
      "Epoch 48 - Test set: Average loss: 0.001477\n",
      "Epoch 49 - Test set: Average loss: 0.001441\n",
      "Epoch 50 - Test set: Average loss: 0.001408\n",
      "Epoch 51 - Test set: Average loss: 0.001377\n",
      "Epoch 52 - Test set: Average loss: 0.001353\n",
      "Epoch 53 - Test set: Average loss: 0.001329\n",
      "Epoch 54 - Test set: Average loss: 0.001321\n",
      "Epoch 55 - Test set: Average loss: 0.001307\n",
      "Epoch 56 - Test set: Average loss: 0.001287\n",
      "Epoch 57 - Test set: Average loss: 0.001275\n",
      "Epoch 58 - Test set: Average loss: 0.001267\n",
      "Epoch 59 - Test set: Average loss: 0.001246\n",
      "Epoch 60 - Test set: Average loss: 0.001240\n",
      "Epoch 61 - Test set: Average loss: 0.001227\n",
      "Epoch 62 - Test set: Average loss: 0.001218\n",
      "Epoch 63 - Test set: Average loss: 0.001194\n",
      "Epoch 64 - Test set: Average loss: 0.001161\n",
      "Epoch 65 - Test set: Average loss: 0.001130\n",
      "Epoch 66 - Test set: Average loss: 0.001091\n",
      "Epoch 67 - Test set: Average loss: 0.001057\n",
      "Epoch 68 - Test set: Average loss: 0.001019\n",
      "Epoch 69 - Test set: Average loss: 0.000988\n",
      "Epoch 70 - Test set: Average loss: 0.000963\n",
      "Epoch 71 - Test set: Average loss: 0.000943\n",
      "Epoch 72 - Test set: Average loss: 0.000914\n",
      "Epoch 73 - Test set: Average loss: 0.000890\n",
      "Epoch 74 - Test set: Average loss: 0.000866\n",
      "Epoch 75 - Test set: Average loss: 0.000845\n",
      "Epoch 76 - Test set: Average loss: 0.000828\n",
      "Epoch 77 - Test set: Average loss: 0.000821\n",
      "Epoch 78 - Test set: Average loss: 0.000796\n",
      "Epoch 79 - Test set: Average loss: 0.000776\n",
      "Epoch 80 - Test set: Average loss: 0.000755\n",
      "Epoch 81 - Test set: Average loss: 0.000738\n",
      "Epoch 82 - Test set: Average loss: 0.000720\n",
      "Epoch 83 - Test set: Average loss: 0.000706\n",
      "Epoch 84 - Test set: Average loss: 0.000692\n",
      "Epoch 85 - Test set: Average loss: 0.000682\n",
      "Epoch 86 - Test set: Average loss: 0.000665\n",
      "Epoch 87 - Test set: Average loss: 0.000652\n",
      "Epoch 88 - Test set: Average loss: 0.000634\n",
      "Epoch 89 - Test set: Average loss: 0.000616\n",
      "Epoch 90 - Test set: Average loss: 0.000596\n",
      "Epoch 91 - Test set: Average loss: 0.000582\n",
      "Epoch 92 - Test set: Average loss: 0.000565\n",
      "Epoch 93 - Test set: Average loss: 0.000547\n",
      "Epoch 94 - Test set: Average loss: 0.000532\n",
      "Epoch 95 - Test set: Average loss: 0.000519\n",
      "Epoch 96 - Test set: Average loss: 0.000503\n",
      "Epoch 97 - Test set: Average loss: 0.000469\n",
      "Epoch 98 - Test set: Average loss: 0.000465\n",
      "Epoch 99 - Test set: Average loss: 0.000453\n",
      "Epoch 100 - Test set: Average loss: 0.000441\n",
      "Epoch 101 - Test set: Average loss: 0.000432\n",
      "Epoch 102 - Test set: Average loss: 0.000426\n",
      "Epoch 103 - Test set: Average loss: 0.000414\n",
      "Epoch 104 - Test set: Average loss: 0.000398\n",
      "Epoch 105 - Test set: Average loss: 0.000387\n",
      "Epoch 106 - Test set: Average loss: 0.000381\n",
      "Epoch 107 - Test set: Average loss: 0.000377\n",
      "Epoch 108 - Test set: Average loss: 0.000372\n",
      "Epoch 109 - Test set: Average loss: 0.000366\n",
      "Epoch 110 - Test set: Average loss: 0.000360\n",
      "Epoch 111 - Test set: Average loss: 0.000354\n",
      "Epoch 112 - Test set: Average loss: 0.000347\n",
      "Epoch 113 - Test set: Average loss: 0.000341\n",
      "Epoch 114 - Test set: Average loss: 0.000334\n",
      "Epoch 115 - Test set: Average loss: 0.000328\n",
      "Epoch 116 - Test set: Average loss: 0.000320\n",
      "Epoch 117 - Test set: Average loss: 0.000316\n",
      "Epoch 118 - Test set: Average loss: 0.000309\n",
      "Epoch 119 - Test set: Average loss: 0.000302\n",
      "Epoch 120 - Test set: Average loss: 0.000297\n",
      "Epoch 121 - Test set: Average loss: 0.000290\n",
      "Epoch 122 - Test set: Average loss: 0.000285\n",
      "Epoch 123 - Test set: Average loss: 0.000278\n",
      "Epoch 124 - Test set: Average loss: 0.000272\n",
      "Epoch 125 - Test set: Average loss: 0.000265\n",
      "Epoch 126 - Test set: Average loss: 0.000258\n",
      "Epoch 127 - Test set: Average loss: 0.000251\n",
      "Epoch 128 - Test set: Average loss: 0.000244\n",
      "Epoch 129 - Test set: Average loss: 0.000240\n",
      "Epoch 130 - Test set: Average loss: 0.000235\n",
      "Epoch 131 - Test set: Average loss: 0.000231\n",
      "Epoch 132 - Test set: Average loss: 0.000225\n",
      "Epoch 133 - Test set: Average loss: 0.000223\n",
      "Epoch 134 - Test set: Average loss: 0.000218\n",
      "Epoch 135 - Test set: Average loss: 0.000215\n",
      "Epoch 136 - Test set: Average loss: 0.000210\n",
      "Epoch 137 - Test set: Average loss: 0.000206\n",
      "Epoch 138 - Test set: Average loss: 0.000201\n",
      "Epoch 139 - Test set: Average loss: 0.000196\n",
      "Epoch 140 - Test set: Average loss: 0.000191\n",
      "Epoch 141 - Test set: Average loss: 0.000186\n",
      "Epoch 142 - Test set: Average loss: 0.000183\n",
      "Epoch 143 - Test set: Average loss: 0.000180\n",
      "Epoch 144 - Test set: Average loss: 0.000179\n",
      "Epoch 145 - Test set: Average loss: 0.000178\n",
      "Epoch 146 - Test set: Average loss: 0.000177\n",
      "Epoch 147 - Test set: Average loss: 0.000174\n",
      "Epoch 148 - Test set: Average loss: 0.000172\n",
      "Epoch 149 - Test set: Average loss: 0.000171\n",
      "Epoch 150 - Test set: Average loss: 0.000169\n",
      "Epoch 151 - Test set: Average loss: 0.000166\n",
      "Epoch 152 - Test set: Average loss: 0.000164\n",
      "Epoch 153 - Test set: Average loss: 0.000163\n",
      "Epoch 154 - Test set: Average loss: 0.000160\n",
      "Epoch 155 - Test set: Average loss: 0.000158\n",
      "Epoch 156 - Test set: Average loss: 0.000156\n",
      "Epoch 157 - Test set: Average loss: 0.000154\n",
      "Epoch 158 - Test set: Average loss: 0.000153\n",
      "Epoch 159 - Test set: Average loss: 0.000151\n",
      "Epoch 160 - Test set: Average loss: 0.000150\n",
      "Epoch 161 - Test set: Average loss: 0.000148\n",
      "Epoch 162 - Test set: Average loss: 0.000146\n",
      "Epoch 163 - Test set: Average loss: 0.000145\n",
      "Epoch 164 - Test set: Average loss: 0.000144\n",
      "Epoch 165 - Test set: Average loss: 0.000142\n",
      "Epoch 166 - Test set: Average loss: 0.000141\n",
      "Epoch 167 - Test set: Average loss: 0.000140\n",
      "Epoch 168 - Test set: Average loss: 0.000138\n",
      "Epoch 169 - Test set: Average loss: 0.000137\n",
      "Epoch 170 - Test set: Average loss: 0.000135\n",
      "Epoch 171 - Test set: Average loss: 0.000134\n",
      "Epoch 172 - Test set: Average loss: 0.000133\n",
      "Epoch 173 - Test set: Average loss: 0.000132\n",
      "Epoch 174 - Test set: Average loss: 0.000131\n",
      "Epoch 175 - Test set: Average loss: 0.000130\n",
      "Epoch 176 - Test set: Average loss: 0.000129\n",
      "Epoch 177 - Test set: Average loss: 0.000128\n",
      "Epoch 178 - Test set: Average loss: 0.000127\n",
      "Epoch 179 - Test set: Average loss: 0.000125\n",
      "Epoch 180 - Test set: Average loss: 0.000126\n",
      "Epoch 181 - Test set: Average loss: 0.000123\n",
      "Epoch 182 - Test set: Average loss: 0.000122\n",
      "Epoch 183 - Test set: Average loss: 0.000122\n",
      "Epoch 184 - Test set: Average loss: 0.000121\n",
      "Epoch 185 - Test set: Average loss: 0.000119\n",
      "Epoch 186 - Test set: Average loss: 0.000118\n",
      "Epoch 187 - Test set: Average loss: 0.000118\n",
      "Epoch 188 - Test set: Average loss: 0.000117\n",
      "Epoch 189 - Test set: Average loss: 0.000117\n",
      "Epoch 190 - Test set: Average loss: 0.000116\n",
      "Epoch 191 - Test set: Average loss: 0.000115\n",
      "Epoch 192 - Test set: Average loss: 0.000115\n",
      "Epoch 193 - Test set: Average loss: 0.000114\n",
      "Epoch 194 - Test set: Average loss: 0.000114\n",
      "Epoch 195 - Test set: Average loss: 0.000115\n",
      "Epoch 196 - Test set: Average loss: 0.000113\n",
      "Epoch 197 - Test set: Average loss: 0.000113\n",
      "Epoch 198 - Test set: Average loss: 0.000112\n",
      "Epoch 199 - Test set: Average loss: 0.000112\n",
      "Epoch 200 - Test set: Average loss: 0.000111\n",
      "Epoch 201 - Test set: Average loss: 0.000111\n",
      "Epoch 202 - Test set: Average loss: 0.000111\n",
      "Epoch 203 - Test set: Average loss: 0.000111\n",
      "Epoch 204 - Test set: Average loss: 0.000110\n",
      "Epoch 205 - Test set: Average loss: 0.000109\n",
      "Epoch 206 - Test set: Average loss: 0.000109\n",
      "Epoch 207 - Test set: Average loss: 0.000108\n",
      "Epoch 208 - Test set: Average loss: 0.000108\n",
      "Epoch 209 - Test set: Average loss: 0.000107\n",
      "Epoch 210 - Test set: Average loss: 0.000107\n",
      "Epoch 211 - Test set: Average loss: 0.000106\n",
      "Epoch 212 - Test set: Average loss: 0.000106\n",
      "Epoch 213 - Test set: Average loss: 0.000105\n",
      "Epoch 214 - Test set: Average loss: 0.000105\n",
      "Epoch 215 - Test set: Average loss: 0.000104\n",
      "Epoch 216 - Test set: Average loss: 0.000104\n",
      "Epoch 217 - Test set: Average loss: 0.000103\n",
      "Epoch 218 - Test set: Average loss: 0.000103\n",
      "Epoch 219 - Test set: Average loss: 0.000102\n",
      "Epoch 220 - Test set: Average loss: 0.000102\n",
      "Epoch 221 - Test set: Average loss: 0.000101\n",
      "Epoch 222 - Test set: Average loss: 0.000101\n",
      "Epoch 223 - Test set: Average loss: 0.000100\n",
      "Epoch 224 - Test set: Average loss: 0.000100\n",
      "Epoch 225 - Test set: Average loss: 0.000099\n",
      "Epoch 226 - Test set: Average loss: 0.000099\n",
      "Epoch 227 - Test set: Average loss: 0.000098\n",
      "Epoch 228 - Test set: Average loss: 0.000097\n",
      "Epoch 229 - Test set: Average loss: 0.000096\n",
      "Epoch 230 - Test set: Average loss: 0.000096\n",
      "Epoch 231 - Test set: Average loss: 0.000096\n",
      "Epoch 232 - Test set: Average loss: 0.000095\n",
      "Epoch 233 - Test set: Average loss: 0.000095\n",
      "Epoch 234 - Test set: Average loss: 0.000094\n",
      "Epoch 235 - Test set: Average loss: 0.000094\n",
      "Epoch 236 - Test set: Average loss: 0.000093\n",
      "Epoch 237 - Test set: Average loss: 0.000093\n",
      "Epoch 238 - Test set: Average loss: 0.000092\n",
      "Epoch 239 - Test set: Average loss: 0.000091\n",
      "Epoch 240 - Test set: Average loss: 0.000090\n",
      "Epoch 241 - Test set: Average loss: 0.000090\n",
      "Epoch 242 - Test set: Average loss: 0.000090\n",
      "Epoch 243 - Test set: Average loss: 0.000089\n",
      "Epoch 244 - Test set: Average loss: 0.000088\n",
      "Epoch 245 - Test set: Average loss: 0.000087\n",
      "Epoch 246 - Test set: Average loss: 0.000087\n",
      "Epoch 247 - Test set: Average loss: 0.000086\n",
      "Epoch 248 - Test set: Average loss: 0.000086\n",
      "Epoch 249 - Test set: Average loss: 0.000086\n",
      "Epoch 250 - Test set: Average loss: 0.000085\n"
     ]
    }
   ],
   "source": [
    "optimizer = optim.Adam(net.parameters(), lr=0.001)\n",
    "for epoch in range(1, 250 + 1):\n",
    "    train(net, device, train_loader, optimizer, epoch)\n",
    "    test(net, device, test_loader, epoch)"
   ]
  },
  {
   "cell_type": "code",
   "execution_count": 12,
   "id": "explicit-medium",
   "metadata": {},
   "outputs": [],
   "source": [
    "net_sat = nn.Sequential(\n",
    "    *net,\n",
    "    SatModule(mpc_controller.variable_size(), mpc_controller.u_min, mpc_controller.u_max)\n",
    ")"
   ]
  },
  {
   "cell_type": "code",
   "execution_count": 23,
   "id": "sporting-complement",
   "metadata": {},
   "outputs": [],
   "source": [
    "torch.save({'state_dict': net_sat.state_dict()}, 'dc_dc_converter_qp_robust.pt')"
   ]
  },
  {
   "cell_type": "code",
   "execution_count": 13,
   "id": "dressed-madison",
   "metadata": {},
   "outputs": [
    {
     "data": {
      "text/plain": [
       "<All keys matched successfully>"
      ]
     },
     "execution_count": 13,
     "metadata": {},
     "output_type": "execute_result"
    }
   ],
   "source": [
    "saved_model = torch.load('dc_dc_converter_qp_robust.pt')\n",
    "net_sat.load_state_dict(saved_model['state_dict'])"
   ]
  },
  {
   "cell_type": "code",
   "execution_count": 25,
   "id": "rational-lighting",
   "metadata": {},
   "outputs": [],
   "source": [
    "z_net = np.vstack((x.flatten(), y.flatten())).T\n",
    "z_net = net_sat(torch.from_numpy(z_net).float())\n",
    "z_net = z_net.detach().cpu().numpy()\n",
    "z_net = z_net.reshape(x.shape)"
   ]
  },
  {
   "cell_type": "code",
   "execution_count": 26,
   "id": "complex-johnson",
   "metadata": {},
   "outputs": [
    {
     "data": {
      "image/png": "[encoded data removed]",
      "text/plain": [
       "<Figure size 122.04x75.4249 with 2 Axes>"
      ]
     },
     "metadata": {
      "needs_background": "light"
     },
     "output_type": "display_data"
    }
   ],
   "source": [
    "fig, ax = plt.subplots()\n",
    "cs = ax.contourf(x, y, z_net, levels=100)\n",
    "for c in cs.collections:\n",
    "    c.set_edgecolor('face')\n",
    "fig.colorbar(cs, ticks=[0, 0.25, 0.5, 0.75, 1])\n",
    "ax.set_title('Simplified Robust Controller')\n",
    "ax.set_xlabel(r'$i_L$')\n",
    "ax.set_ylabel(r'$v_O$')\n",
    "plt.savefig('figures/simplified_robust.pdf', bbox_inches='tight', pad_inches=0)\n",
    "plt.show()"
   ]
  },
  {
   "cell_type": "code",
   "execution_count": 27,
   "id": "weighted-victory",
   "metadata": {},
   "outputs": [
    {
     "data": {
      "image/png": "[encoded data removed]",
      "text/plain": [
       "<Figure size 122.04x75.4249 with 2 Axes>"
      ]
     },
     "metadata": {
      "needs_background": "light"
     },
     "output_type": "display_data"
    }
   ],
   "source": [
    "fig, ax = plt.subplots()\n",
    "cs = ax.contourf(x, y, np.abs(z_opt - z_net), levels=100)\n",
    "for c in cs.collections:\n",
    "    c.set_edgecolor('face')\n",
    "fig.colorbar(cs, ticks=[0, 0.25, 0.5, 0.75, 1])\n",
    "ax.set_title('Approximation Error')\n",
    "ax.set_xlabel(r'$i_L$')\n",
    "ax.set_ylabel(r'$v_O$')\n",
    "plt.show()"
   ]
  },
  {
   "cell_type": "code",
   "execution_count": 28,
   "id": "communist-richmond",
   "metadata": {},
   "outputs": [],
   "source": [
    "verifier = Verifier(parameter_set, mpc_controller, net_sat)"
   ]
  },
  {
   "cell_type": "code",
   "execution_count": 29,
   "id": "northern-amendment",
   "metadata": {},
   "outputs": [
    {
     "name": "stdout",
     "output_type": "stream",
     "text": [
      "Set parameter Username\n",
      "Academic license - for non-commercial use only - expires 2022-12-04\n"
     ]
    },
    {
     "name": "stderr",
     "output_type": "stream",
     "text": [
      "QP Ineq Bound: 100%|██████████| 266/266 [00:00<00:00, 340.41it/s]\n",
      "QP Dual Bound: 100%|██████████| 266/266 [00:00<00:00, 2558.62it/s]\n",
      "QP Output Bound: 100%|██████████| 1/1 [00:00<00:00, 160.57it/s]"
     ]
    },
    {
     "name": "stdout",
     "output_type": "stream",
     "text": [
      "Neural Network Bounds:\n",
      "lower bound: [0.]\n",
      "upper bound: [1.]\n"
     ]
    },
    {
     "name": "stderr",
     "output_type": "stream",
     "text": [
      "\n"
     ]
    }
   ],
   "source": [
    "mpc_bounds, net_bounds = verifier.compute_bounds(method=BoundArithmetic.ZONO_ARITHMETIC)\n",
    "print('Neural Network Bounds:')\n",
    "print(f'lower bound: {net_bounds[\"lb\"]}')\n",
    "print(f'upper bound: {net_bounds[\"ub\"]}')"
   ]
  },
  {
   "cell_type": "code",
   "execution_count": 30,
   "id": "complimentary-montgomery",
   "metadata": {},
   "outputs": [
    {
     "name": "stdout",
     "output_type": "stream",
     "text": [
      "Gurobi Optimizer version 9.5.0 build v9.5.0rc5 (mac64[x86])\n",
      "Thread count: 8 physical cores, 16 logical processors, using up to 16 threads\n",
      "Optimize a model with 1181 rows, 1079 columns and 5257 nonzeros\n",
      "Model fingerprint: 0x60e73f80\n",
      "Model has 670 general constraints\n",
      "Variable types: 711 continuous, 368 integer (368 binary)\n",
      "Coefficient statistics:\n",
      "  Matrix range     [2e-05, 3e+02]\n",
      "  Objective range  [1e+00, 1e+00]\n",
      "  Bounds range     [7e-18, 7e+00]\n",
      "  RHS range        [3e-04, 7e+00]\n",
      "  GenCon rhs range [2e-02, 7e+00]\n",
      "  GenCon coe range [6e-02, 1e+00]\n",
      "\n",
      "User MIP start produced solution with objective 0.0123133 (0.03s)\n",
      "Loaded user MIP start with objective 0.0123133\n",
      "\n",
      "Presolve removed 536 rows and 525 columns\n",
      "Presolve time: 0.06s\n",
      "Presolved: 645 rows, 554 columns, 4017 nonzeros\n",
      "Presolved model has 106 SOS constraint(s)\n",
      "Variable types: 381 continuous, 173 integer (173 binary)\n",
      "\n",
      "Root relaxation: objective 1.000000e+00, 322 iterations, 0.00 seconds (0.00 work units)\n",
      "\n",
      "    Nodes    |    Current Node    |     Objective Bounds      |     Work\n",
      " Expl Unexpl |  Obj  Depth IntInf | Incumbent    BestBd   Gap | It/Node Time\n",
      "\n",
      "     0     0    1.00000    0   15    0.01231    1.00000  8021%     -    0s\n",
      "     0     0    1.00000    0   14    0.01231    1.00000  8021%     -    0s\n",
      "     0     0    1.00000    0   14    0.01231    1.00000  8021%     -    0s\n",
      "     0     2    1.00000    0   14    0.01231    1.00000  8021%     -    0s\n",
      "H   32    34                       0.0124015    1.00000  7964%  33.5    0s\n",
      "H  373   348                       0.0144594    1.00000  6816%  19.0    0s\n",
      "H  951   536                       0.0153535    1.00000  6413%  15.0    0s\n",
      "H  958   525                       0.0179004    1.00000  5486%  15.0    0s\n",
      "H 2032   848                       0.0185929    1.00000  5278%  13.5    0s\n",
      "H 3467  1131                       0.0185929    1.00000  5278%  13.9    1s\n",
      "H 5042  1379                       0.0246827    1.00000  3951%  13.6    1s\n",
      "H 6128  1536                       0.0328109    1.00000  2948%  14.2    2s\n",
      "H 7271  1565                       0.0343111    1.00000  2815%  14.0    2s\n",
      "H11406  1847                       0.0343111    1.00000  2815%  13.7    3s\n",
      "H11423  1939                       0.0343112    1.00000  2814%  13.7    4s\n",
      "H11619  1909                       0.0372373    1.00000  2585%  13.6    4s\n",
      "H13396  2479                       0.0372382    1.00000  2585%  13.6    4s\n",
      "H13530  2291                       0.0592884    1.00000  1587%  13.6    4s\n",
      " 17172  3586    0.34516   23   30    0.05929    1.00000  1587%  13.0    5s\n",
      "H27387  4898                       0.0592898    0.95074  1504%  11.8    6s\n",
      "H27390  4898                       0.0592901    0.95074  1504%  11.8    6s\n",
      "H27394  4898                       0.0592906    0.95074  1504%  11.8    6s\n",
      "H27395  4898                       0.0592907    0.95074  1504%  11.8    6s\n",
      " 73506  9349 infeasible   54         0.05929    0.94485  1494%  10.5   10s\n",
      " 138248 16499    0.91733   41   20    0.05929    0.91923  1450%   9.7   15s\n",
      " 206634 21770     cutoff   56         0.05929    0.84974  1333%   9.2   20s\n",
      " 282883 25540 infeasible   56         0.05929    0.76105  1184%   8.7   25s\n",
      " 354427 24992 infeasible   57         0.05929    0.74934  1164%   8.8   30s\n",
      " 422671 24047    0.74161   61   11    0.05929    0.74386  1155%   8.8   35s\n",
      " 477467 23562 infeasible   63         0.05929    0.73901  1146%   8.9   40s\n",
      "H477901 23562                       0.0592907    0.73901  1146%   8.9   40s\n",
      "H480972 23571                       0.0592907    0.73861  1146%   8.9   40s\n",
      " 536841 21021 infeasible   56         0.05929    0.72176  1117%   9.0   45s\n",
      " 596928 18220     cutoff   59         0.05929    0.68527  1056%   9.1   50s\n",
      " 658154 17418 infeasible   65         0.05929    0.61448   936%   9.1   55s\n",
      " 713233 15916     cutoff   39         0.05929    0.49078   728%   9.1   60s\n",
      " 767502 13552    0.35194   60   10    0.05929    0.37040   525%   9.2   65s\n",
      " 825343 12999    0.27074   65   12    0.05929    0.27222   359%   9.1   70s\n",
      " 884991 12785 infeasible   54         0.05929    0.21860   269%   9.0   75s\n",
      " 944974 12074 infeasible   54         0.05929    0.19736   233%   8.9   80s\n",
      "H971607 12044                       0.0592912    0.19215   224%   8.9   82s\n",
      " 996911 11546     cutoff   45         0.05929    0.18430   211%   8.8   85s\n",
      " 1056735 10732    0.16569   55   17    0.05929    0.16587   180%   8.8   90s\n",
      " 1121974  8375    0.13106   51   16    0.05929    0.13235   123%   8.7   95s\n",
      "*1162172  3608              78       0.0725348    0.10306  42.1%   8.6   99s\n",
      " 1170557  3125    0.09434   59    9    0.07253    0.10191  40.5%   8.6  100s\n",
      " 1236325   173 infeasible   43         0.07253    0.07712  6.32%   8.5  105s\n",
      "\n",
      "Cutting planes:\n",
      "  Gomory: 1\n",
      "  Cover: 8\n",
      "  Implied bound: 5\n",
      "  Clique: 3\n",
      "  MIR: 2\n",
      "  Flow cover: 2\n",
      "  Relax-and-lift: 5\n",
      "\n",
      "Explored 1239390 nodes (10540225 simplex iterations) in 105.21 seconds (64.32 work units)\n",
      "Thread count was 16 (of 16 available processors)\n",
      "\n",
      "Solution count 10: 0.0725348 0.0592912 0.0372382 ... 0.0179004\n",
      "No other solutions better than 0.0725348\n",
      "\n",
      "Optimal solution found (tolerance 1.00e-04)\n",
      "Best objective 7.253480593188e-02, best bound 7.253480593188e-02, gap 0.0000%\n"
     ]
    }
   ],
   "source": [
    "bound, parameters = verifier.approximation_error()"
   ]
  },
  {
   "cell_type": "code",
   "execution_count": 31,
   "id": "supposed-coffee",
   "metadata": {},
   "outputs": [
    {
     "name": "stdout",
     "output_type": "stream",
     "text": [
      "Maximum absolute Error Bound between MPC and NN: 0.07253480593188463 at [0.0033869654306400462, 5.407118626739911]\n",
      "Double Checking by calulcaing error at this position: -0.07251940421998138\n"
     ]
    }
   ],
   "source": [
    "print(f'Maximum absolute Error Bound between MPC and NN: {bound} at {parameters}')\n",
    "u0_mpc = mpc_controller.solve(np.array(parameters))[mpc_controller.u0][0]\n",
    "u0_net = net_sat(torch.from_numpy(np.array(parameters)).float()).detach().numpy()[0]\n",
    "print(f'Double Checking by calulcaing error at this position: {u0_mpc - u0_net}')"
   ]
  },
  {
   "cell_type": "code",
   "execution_count": 40,
   "id": "mathematical-disclosure",
   "metadata": {},
   "outputs": [
    {
     "data": {
      "image/png": "[encoded data removed]",
      "text/plain": [
       "<Figure size 122.04x75.4249 with 2 Axes>"
      ]
     },
     "metadata": {
      "needs_background": "light"
     },
     "output_type": "display_data"
    }
   ],
   "source": [
    "fig, ax = plt.subplots()\n",
    "cs = ax.contourf(x, y, np.abs(z_opt - z_net), levels=100)\n",
    "for c in cs.collections:\n",
    "    c.set_edgecolor('face')\n",
    "ax.plot(parameters[0], parameters[1], 'ro', markersize=2)\n",
    "fig.colorbar(cs, ticks=[0, 0.02, 0.04, 0.06])\n",
    "ax.set_title('Approximation Error')\n",
    "ax.set_xlabel(r'$i_L$')\n",
    "ax.set_ylabel(r'$v_O$')\n",
    "plt.savefig('figures/approx_error_robust.pdf', bbox_inches='tight', pad_inches=0)\n",
    "plt.show()"
   ]
  },
  {
   "cell_type": "code",
   "execution_count": null,
   "id": "clear-netherlands",
   "metadata": {},
   "outputs": [],
   "source": []
  }
 ],
 "metadata": {
  "kernelspec": {
   "display_name": "Python 3",
   "language": "python",
   "name": "python3"
  },
  "language_info": {
   "codemirror_mode": {
    "name": "ipython",
    "version": 3
   },
   "file_extension": ".py",
   "mimetype": "text/x-python",
   "name": "python",
   "nbconvert_exporter": "python",
   "pygments_lexer": "ipython3",
   "version": "3.8.12"
  }
 },
 "nbformat": 4,
 "nbformat_minor": 5
}
